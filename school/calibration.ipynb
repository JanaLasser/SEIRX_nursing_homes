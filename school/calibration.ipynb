{
 "cells": [
  {
   "cell_type": "markdown",
   "metadata": {},
   "source": [
    "# Calibration of the school model based on empirical data"
   ]
  },
  {
   "cell_type": "code",
   "execution_count": 1,
   "metadata": {},
   "outputs": [],
   "source": [
    "import numpy as np\n",
    "import matplotlib.pyplot as plt\n",
    "from mpl_toolkits.axes_grid1 import make_axes_locatable\n",
    "import networkx as nx\n",
    "import pandas as pd\n",
    "import scipy as sp\n",
    "from scipy.stats import lognorm\n",
    "from scipy.optimize import root_scalar\n",
    "from scipy.special import gamma\n",
    "import numpy as np\n",
    "from os.path import join\n",
    "\n",
    "# agent based model classes & functionality\n",
    "import sys\n",
    "sys.path.insert(0,'../school')\n",
    "sys.path.insert(0,'../nursing_home')\n",
    "from model_school import SEIRX_school\n",
    "import analysis_functions as af\n",
    "\n",
    "# for progress bars\n",
    "from ipywidgets import IntProgress\n",
    "from IPython.display import display\n",
    "import time"
   ]
  },
  {
   "cell_type": "markdown",
   "metadata": {},
   "source": [
    "## Household transmissions"
   ]
  },
  {
   "cell_type": "code",
   "execution_count": 2,
   "metadata": {},
   "outputs": [
    {
     "data": {
      "text/plain": [
       "(0, 1.1)"
      ]
     },
     "execution_count": 2,
     "metadata": {},
     "output_type": "execute_result"
    },
    {
     "data": {
      "image/png": "[encoded data removed]",
      "text/plain": [
       "<Figure size 432x288 with 1 Axes>"
      ]
     },
     "metadata": {
      "needs_background": "light"
     },
     "output_type": "display_data"
    }
   ],
   "source": [
    "infection_duration = 10\n",
    "exposure_duration = 5\n",
    "time_until_symptoms = 6\n",
    "asymptomatic_infectious = time_until_symptoms - exposure_duration\n",
    "\n",
    "x = np.arange(0, infection_duration + 1)\n",
    "def get_modifier(x):\n",
    "    modifier = 1 - max(0, x - asymptomatic_infectious) / \\\n",
    "                (infection_duration - asymptomatic_infectious)\n",
    "    return modifier\n",
    "y = [get_modifier(i) for i in x]\n",
    "\n",
    "fig, ax = plt.subplots()\n",
    "ax.plot(x, y)\n",
    "ax.plot([asymptomatic_infectious, asymptomatic_infectious], [0, 1],\n",
    "        '--', color='grey')\n",
    "ax.text(asymptomatic_infectious + 0.2, 0.1, 'symptom onset')\n",
    "ax.set_xticks(x)\n",
    "ax.set_yticks(np.arange(0, 1.1, 0.2))\n",
    "ax.set_ylabel('transmission risk modifier')\n",
    "ax.set_xlabel('days since becoming infectious')\n",
    "ax.set_ylim(0, 1.1)"
   ]
  },
  {
   "cell_type": "markdown",
   "metadata": {},
   "source": [
    "According to a [recent meta study](https://jamanetwork.com/journals/jamanetworkopen/fullarticle/2774102), household transmissions risk between adulty (secondary attack rate) is SAR$_\\text{literature}=$ 37.8%. To calibrate the base transmission risk $r_b$ between two adults in a household, we simulate household transmissions for our setting, in which the transmission risk is declining with infection duration. Specifically, the base transmission risk is multiplied with a modifier $m(\\text{day})$, which is 1 until symptom onset and then linearly decreases until it reaches zero at the time that corresponds to the infection duration (as depicted above).\n",
    "1. We create two agents with epidemiological parameters (exposure time, time until symptoms, infection duration) drawn from the random distributions used for the simulation study. \n",
    "2. We define one of the two individuals as the index case and simulate a number of days equal to the infection duration of the index case. On every day, the other agent has a chance of $r_b \\cdot m(\\text{day})$ of becoming infected.\n",
    "3. We repeat this simulation a number of times and calculate the secondary attack rate SAR$_\\text{simulation}$ as the average of the number of times the second agent has become infected.\n",
    "\n",
    "We vary $r_b$ for a range of realistic values and repeat steps 1-3. We then chose the value for $r_b$ that minimizes $|\\text{SAR}_\\text{literature} - \\text{SAR}_\\text{simulation}|$."
   ]
  },
  {
   "cell_type": "code",
   "execution_count": 3,
   "metadata": {},
   "outputs": [],
   "source": [
    "def weibull_two_param(shape, scale):\n",
    "    return scale * np.random.weibull(shape)\n",
    "\n",
    "def get_weibull_shape(k, mu, var):\n",
    "    return var / mu**2 - gamma(1 + 2/k) / gamma(1+1/k)**2 + 1\n",
    "\n",
    "def get_weibull_scale(mu, k):\n",
    "    return mu / gamma(1 + 1/k)\n",
    "\n",
    "def get_epi_params():\n",
    "    # solution to the mean and variance values\n",
    "    # exposure_duration = [5, 1.9]\n",
    "    # time_until_symptoms = [6.4, 0.8]\n",
    "    # infection_duration = [10.91, 3.95]\n",
    "    epi_params = {'exposure_duration': [2.8545336526034513, 5.610922825244271],\n",
    "     'time_until_symptoms': [9.602732979535194, 6.738998146675984],\n",
    "     'infection_duration': [3.012881111335679, 12.215213280459125]}  \n",
    "\n",
    "    tmp_epi_params = {}\n",
    "    while True:\n",
    "        for param_name, param in epi_params.items():\n",
    "            tmp_epi_params[param_name] = \\\n",
    "                round(weibull_two_param(param[0], param[1]))\n",
    "\n",
    "        if tmp_epi_params['exposure_duration'] > 0 and \\\n",
    "           tmp_epi_params['time_until_symptoms'] >= \\\n",
    "           tmp_epi_params['exposure_duration'] and\\\n",
    "           tmp_epi_params['infection_duration'] > \\\n",
    "           tmp_epi_params['exposure_duration']:\n",
    "           return tmp_epi_params\n",
    "\n",
    "def get_transmission_risk_time_modifier(exposure_duration, time_until_symptoms,\n",
    "                                       infection_duration, days_since_exposure):\n",
    "    asymptomatic_infectious = time_until_symptoms - exposure_duration\n",
    "    \n",
    "    try:\n",
    "        modifier = 1 - max(0, days_since_exposure - asymptomatic_infectious) / \\\n",
    "                    (infection_duration - asymptomatic_infectious)\n",
    "    except ZeroDivisionError:\n",
    "        return 1\n",
    "    return modifier"
   ]
  },
  {
   "cell_type": "code",
   "execution_count": 12,
   "metadata": {},
   "outputs": [
    {
     "data": {
      "application/vnd.jupyter.widget-view+json": {
       "model_id": "864f2a1f424240268dfce2cb31b9c42d",
       "version_major": 2,
       "version_minor": 0
      },
      "text/plain": [
       "IntProgress(value=0, max=210000)"
      ]
     },
     "metadata": {},
     "output_type": "display_data"
    },
    {
     "name": "stderr",
     "output_type": "stream",
     "text": [
      "IOPub message rate exceeded.\n",
      "The notebook server will temporarily stop sending output\n",
      "to the client in order to avoid crashing it.\n",
      "To change this limit, set the config variable\n",
      "`--NotebookApp.iopub_msg_rate_limit`.\n",
      "\n",
      "Current values:\n",
      "NotebookApp.iopub_msg_rate_limit=1000.0 (msgs/sec)\n",
      "NotebookApp.rate_limit_window=3.0 (secs)\n",
      "\n"
     ]
    }
   ],
   "source": [
    "runs = range(0, 10000)\n",
    "base_transmission_risks = np.arange(0.06, 0.08, 0.001)\n",
    "results = pd.DataFrame()\n",
    "results['transmission'] = [np.nan] * len(runs) * len(base_transmission_risks)\n",
    "iterables = [base_transmission_risks, runs]\n",
    "index = pd.MultiIndex.from_product(iterables, names=['base_transmission_risk', 'run'])\n",
    "results.index = index\n",
    "\n",
    "f = IntProgress(min=0, max=len(runs) * len(base_transmission_risks)) \n",
    "display(f)\n",
    "c = 0\n",
    "\n",
    "for base_transmission_risk in base_transmission_risks:\n",
    "    for run in runs:\n",
    "        infected = get_epi_params()\n",
    "        transmission_occured = 0\n",
    "        # Note: starts at day 1, to reflect the simulation implementation\n",
    "        for day in range(1, infected['infection_duration'] + 1):\n",
    "            modifier = get_transmission_risk_time_modifier(infected['exposure_duration'],\n",
    "                    infected['time_until_symptoms'], infected['infection_duration'], day)\n",
    "            modified_transmission_risk = 1 - base_transmission_risk * modifier\n",
    "            transmission = np.random.random()\n",
    "            if transmission > modified_transmission_risk:\n",
    "                transmission_occured = 1\n",
    "                break\n",
    "                \n",
    "        f.value = c # update the progress bar\n",
    "        c += 1\n",
    "            \n",
    "        results.loc[base_transmission_risk, run]['transmission'] = transmission_occured\n",
    "\n",
    "results = results.reset_index()\n",
    "results_mean = results[['base_transmission_risk', 'transmission']]\\\n",
    "    .groupby('base_transmission_risk')\\\n",
    "    .agg({'transmission':['mean', 'std']})\n",
    "results_mean.head(3)"
   ]
  },
  {
   "cell_type": "code",
   "execution_count": 13,
   "metadata": {},
   "outputs": [
    {
     "ename": "NameError",
     "evalue": "name 'results_mean' is not defined",
     "output_type": "error",
     "traceback": [
      "\u001b[0;31m---------------------------------------------------------------------------\u001b[0m",
      "\u001b[0;31mNameError\u001b[0m                                 Traceback (most recent call last)",
      "\u001b[0;32m<ipython-input-13-60f36bd4a525>\u001b[0m in \u001b[0;36m<module>\u001b[0;34m\u001b[0m\n\u001b[1;32m      1\u001b[0m \u001b[0mfig\u001b[0m\u001b[0;34m,\u001b[0m \u001b[0max\u001b[0m \u001b[0;34m=\u001b[0m \u001b[0mplt\u001b[0m\u001b[0;34m.\u001b[0m\u001b[0msubplots\u001b[0m\u001b[0;34m(\u001b[0m\u001b[0mfigsize\u001b[0m\u001b[0;34m=\u001b[0m\u001b[0;34m(\u001b[0m\u001b[0;36m10\u001b[0m\u001b[0;34m,\u001b[0m \u001b[0;36m5\u001b[0m\u001b[0;34m)\u001b[0m\u001b[0;34m)\u001b[0m\u001b[0;34m\u001b[0m\u001b[0;34m\u001b[0m\u001b[0m\n\u001b[0;32m----> 2\u001b[0;31m \u001b[0max\u001b[0m\u001b[0;34m.\u001b[0m\u001b[0mplot\u001b[0m\u001b[0;34m(\u001b[0m\u001b[0mresults_mean\u001b[0m\u001b[0;34m.\u001b[0m\u001b[0mindex\u001b[0m\u001b[0;34m,\u001b[0m \u001b[0mresults_mean\u001b[0m\u001b[0;34m[\u001b[0m\u001b[0;34m'transmission'\u001b[0m\u001b[0;34m]\u001b[0m\u001b[0;34m[\u001b[0m\u001b[0;34m'mean'\u001b[0m\u001b[0;34m]\u001b[0m\u001b[0;34m,\u001b[0m \u001b[0;34m'o-'\u001b[0m\u001b[0;34m,\u001b[0m \u001b[0mcolor\u001b[0m\u001b[0;34m=\u001b[0m\u001b[0;34m'b'\u001b[0m\u001b[0;34m)\u001b[0m\u001b[0;34m\u001b[0m\u001b[0;34m\u001b[0m\u001b[0m\n\u001b[0m\u001b[1;32m      3\u001b[0m \u001b[0;34m\u001b[0m\u001b[0m\n\u001b[1;32m      4\u001b[0m \u001b[0;31m# regression with zero intercept\u001b[0m\u001b[0;34m\u001b[0m\u001b[0;34m\u001b[0m\u001b[0;34m\u001b[0m\u001b[0m\n\u001b[1;32m      5\u001b[0m \u001b[0mx\u001b[0m \u001b[0;34m=\u001b[0m \u001b[0mresults_mean\u001b[0m\u001b[0;34m.\u001b[0m\u001b[0mindex\u001b[0m\u001b[0;34m.\u001b[0m\u001b[0mvalues\u001b[0m\u001b[0;34m\u001b[0m\u001b[0;34m\u001b[0m\u001b[0m\n",
      "\u001b[0;31mNameError\u001b[0m: name 'results_mean' is not defined"
     ]
    },
    {
     "data": {
      "image/png": "[encoded data removed]",
      "text/plain": [
       "<Figure size 720x360 with 1 Axes>"
      ]
     },
     "metadata": {
      "needs_background": "light"
     },
     "output_type": "display_data"
    }
   ],
   "source": [
    "fig, ax = plt.subplots(figsize=(10, 5))\n",
    "ax.plot(results_mean.index, results_mean['transmission']['mean'], 'o-', color='b')\n",
    "\n",
    "# regression with zero intercept\n",
    "x = results_mean.index.values\n",
    "x = x[:, np.newaxis]\n",
    "y = results_mean['transmission']['mean'].values\n",
    "slope, _, _, _ = np.linalg.lstsq(x, y, rcond=None)\n",
    "slope = slope[0]\n",
    "\n",
    "ax.plot(results_mean.index, slope * results_mean.index, '--', color='k')\n",
    "ax.set_xlabel('base transmission risk', fontsize=16)\n",
    "ax.set_ylabel('secondary attack rate', fontsize=16)\n",
    "ax.text(0.06, 0.40, 'slope: {:1.4f}'.format(slope), fontsize=16)\n",
    "ax.set_title('household transmissions', fontsize=20)\n",
    "\n",
    "target_attack_rate = 0.378\n",
    "target_base_transmission_risk = float(target_attack_rate / slope)\n",
    "ax.plot([0.06, 0.08],[target_attack_rate, target_attack_rate], '--', color='grey', alpha=0.5)\n",
    "ax.plot([target_base_transmission_risk, target_base_transmission_risk],\n",
    "        [0.25, 0.41], '--', color='grey', alpha=0.5)\n",
    "\n",
    "ax.text(0.06, 0.25, 'base transmission risk @ attack rate 16.8%: {:1.6f}'\\\n",
    "        .format(target_base_transmission_risk), fontsize=14);"
   ]
  },
  {
   "cell_type": "markdown",
   "metadata": {},
   "source": [
    "## Target parameters\n",
    "From script ```calibration_information.ipynb```"
   ]
  },
  {
   "cell_type": "markdown",
   "metadata": {},
   "source": [
    "### Outbreak sizes"
   ]
  },
  {
   "cell_type": "markdown",
   "metadata": {},
   "source": [
    "Data from 2020-12-22 in file ```data/school/calibration_data/outbreak_sizes.csv```"
   ]
  },
  {
   "cell_type": "code",
   "execution_count": 4,
   "metadata": {},
   "outputs": [],
   "source": [
    "def calculate_distribution_difference(school_type, ensemble_results):\n",
    "    '''\n",
    "    Calculates the difference between the expected distribution of outbreak\n",
    "    sizes and the observed outbreak sizes in an ensemble of simulation runs\n",
    "    with the same parameters. The data-frame ensemble_results holds the number\n",
    "    of infected students and the number of infected teachers. NOTE: the index\n",
    "    case is already subtracted from these numbers.\n",
    "    '''\n",
    "    # calculate the total number of follow-up cases (outbreak size)\n",
    "    ensemble_results['infected_total'] = ensemble_results['infected_teachers'] +\\\n",
    "                    ensemble_results['infected_students']\n",
    "    \n",
    "    ensemble_results = ensemble_results.astype(int)\n",
    "    \n",
    "    # censor runs with no follow-up cases as we also do not observe these in the\n",
    "    # empirical data\n",
    "    ensemble_results = ensemble_results[ensemble_results['infected_total'] > 0].copy()\n",
    "    observed_outbreaks = ensemble_results['infected_total'].value_counts()\n",
    "    observed_outbreaks = observed_outbreaks / observed_outbreaks.sum()\n",
    "    obs_dict = {size:ratio for size, ratio in zip(observed_outbreaks.index,\n",
    "                                                   observed_outbreaks.values)}\n",
    "    \n",
    "    # since we only have aggregated data for schools with and without daycare,\n",
    "    # we map the daycare school types to their corresponding non-daycare types,\n",
    "    # which are also the labels of the schools in the emirical data\n",
    "    type_map = {'primary':'primary', 'primary_dc':'primary',\n",
    "                'lower_secondary':'lower_secondary',\n",
    "                'lower_secondary_dc':'lower_secondary',\n",
    "                'upper_secondary':'upper_secondary',\n",
    "                'secondary':'secondary', 'secondary_dc':'secondary'}\n",
    "    school_type = type_map[school_type]\n",
    "    \n",
    "    expected_outbreaks = pd.read_csv(\\\n",
    "                        '../data/school/calibration_data/outbreak_sizes.csv')\n",
    "    expected_outbreaks = expected_outbreaks[\\\n",
    "                            expected_outbreaks['type'] == school_type].copy()\n",
    "    expected_outbreaks.index = expected_outbreaks['size']\n",
    "    \n",
    "    exp_dict = {s:c for s, c in zip(expected_outbreaks.index, \n",
    "                                     expected_outbreaks['ratio'])}\n",
    "    \n",
    "    # add zeroes for both the expected and observed distributions in cases \n",
    "    # (sizes) that were not observed\n",
    "    if len(observed_outbreaks) == 0:\n",
    "        obs_max = 0\n",
    "    else:\n",
    "        obs_max = observed_outbreaks.index.max()\n",
    "    \n",
    "    for i in range(1, max(obs_max + 1,\n",
    "                          expected_outbreaks.index.max() + 1)):\n",
    "        if i not in observed_outbreaks.index:\n",
    "            obs_dict[i] = 0\n",
    "        if i not in expected_outbreaks.index:\n",
    "            exp_dict[i] = 0\n",
    "            \n",
    "    obs = np.asarray([obs_dict[i] for i in range(1, len(obs_dict) + 1)])\n",
    "    exp = np.asarray([exp_dict[i] for i in range(1, len(exp_dict) + 1)])\n",
    "    \n",
    "    chi2_distance = ((exp + 1) - (obs + 1))**2 / (exp + 1)\n",
    "    chi2_distance = chi2_distance.sum()\n",
    "    \n",
    "    sum_of_squares = ((exp - obs)**2).sum()\n",
    "    \n",
    "    return chi2_distance, sum_of_squares"
   ]
  },
  {
   "cell_type": "markdown",
   "metadata": {},
   "source": [
    "### Distribution of cases to agent groups"
   ]
  },
  {
   "cell_type": "markdown",
   "metadata": {},
   "source": [
    "Data from 2020-12-22 in file ```data/school/calibration_data/group_distributions.csv```"
   ]
  },
  {
   "cell_type": "code",
   "execution_count": 5,
   "metadata": {},
   "outputs": [],
   "source": [
    "def calculate_group_case_difference(school_type, ensemble_results):\n",
    "    '''\n",
    "    Calculates the difference between the expected number of infected teachers\n",
    "    / infected students and the observed number of infected teachers / students\n",
    "    in an ensemble of simulation runs with the same parameters. The data-frame \n",
    "    ensemble_results holds the number of infected students and the number of \n",
    "    infected teachers. NOTE: the index case is already subtracted from these\n",
    "    numbers.\n",
    "    '''\n",
    "    \n",
    "    # calculate the total number of follow-up cases (outbreak size)\n",
    "    ensemble_results['infected_total'] = ensemble_results['infected_teachers'] +\\\n",
    "                    ensemble_results['infected_students']\n",
    "    \n",
    "    # censor runs with no follow-up cases as we also do not observe these in the\n",
    "    # empirical data\n",
    "    ensemble_results = ensemble_results[ensemble_results['infected_total'] > 0].copy()\n",
    "    \n",
    "    # calculate ratios of infected teachers and students\n",
    "    ensemble_results['teacher_ratio'] = ensemble_results['infected_teachers'] / \\\n",
    "                                        ensemble_results['infected_total'] \n",
    "    ensemble_results['student_ratio'] = ensemble_results['infected_students'] / \\\n",
    "                                        ensemble_results['infected_total'] \n",
    "    \n",
    "    observed_distro = pd.DataFrame({'group':['student', 'teacher'],\n",
    "                                    'ratio':[ensemble_results['student_ratio'].mean(),\n",
    "                                             ensemble_results['teacher_ratio'].mean()]})\n",
    "\n",
    "    # since we only have aggregated data for schools with and without daycare,\n",
    "    # we map the daycare school types to their corresponding non-daycare types,\n",
    "    # which are also the labels of the schools in the emirical data\n",
    "    type_map = {'primary':'primary', 'primary_dc':'primary',\n",
    "                'lower_secondary':'lower_secondary',\n",
    "                'lower_secondary_dc':'lower_secondary',\n",
    "                'upper_secondary':'upper_secondary',\n",
    "                'secondary':'secondary', 'secondary_dc':'secondary'}\n",
    "    school_type = type_map[school_type]\n",
    "    \n",
    "    expected_distro = pd.read_csv(\\\n",
    "                        '../data/school/calibration_data/group_distributions.csv')\n",
    "    expected_distro = expected_distro[\\\n",
    "                                expected_distro['type'] == school_type].copy()\n",
    "    expected_distro.index = expected_distro['group']\n",
    "    \n",
    "    obs = observed_distro['ratio'].values\n",
    "    exp = expected_distro['ratio'].values\n",
    "    \n",
    "    chi2_distance = ((exp + 1) - (obs + 1))**2 / (exp + 1)\n",
    "    chi2_distance = chi2_distance.sum()\n",
    "    \n",
    "    sum_of_squares = ((exp - obs)**2).sum()\n",
    "    \n",
    "    return chi2_distance, sum_of_squares"
   ]
  },
  {
   "cell_type": "markdown",
   "metadata": {},
   "source": [
    "## Calibration settings"
   ]
  },
  {
   "cell_type": "markdown",
   "metadata": {},
   "source": [
    "### Index case ratios"
   ]
  },
  {
   "cell_type": "markdown",
   "metadata": {},
   "source": [
    "Data from 2020-12-22"
   ]
  },
  {
   "cell_type": "code",
   "execution_count": 6,
   "metadata": {},
   "outputs": [],
   "source": [
    "# empirically observed index case ratios for different school types\n",
    "agent_index_ratios = {\n",
    "    'primary':            {'teacher':0.939394, 'student':0.060606},\n",
    "    'primary_dc':         {'teacher':0.939394, 'student':0.060606},\n",
    "    'lower_secondary':    {'teacher':0.568, 'student':0.432},\n",
    "    'lower_secondary_dc': {'teacher':0.568, 'student':0.432},\n",
    "    'upper_secondary':    {'teacher':0.182796, 'student':0.817204},\n",
    "    'secondary':          {'teacher':0.362319, 'student':0.637681},\n",
    "    'secondary_dc':       {'teacher':0.362319, 'student':0.637681},\n",
    "}"
   ]
  },
  {
   "cell_type": "markdown",
   "metadata": {},
   "source": [
    "### Age-dependence of symptomatic courses"
   ]
  },
  {
   "cell_type": "markdown",
   "metadata": {},
   "source": [
    "Data from 2020-12-22"
   ]
  },
  {
   "cell_type": "code",
   "execution_count": 7,
   "metadata": {},
   "outputs": [],
   "source": [
    "# intercept: ratio of symptomatic courses for adults (at age >= 20.5)\n",
    "# slope: reduction of the ratio of symptomatic courses for every year an\n",
    "# agent is younger than 20.5. Values stem from a fit to empirical data of\n",
    "# symptomatic courses stratified by age group (see script calibration_info.ipynb)\n",
    "age_symptom_discount = {'slope':-0.02868, 'intercept':0.7954411542069012}"
   ]
  },
  {
   "cell_type": "markdown",
   "metadata": {},
   "source": [
    "### Prevention measures"
   ]
  },
  {
   "cell_type": "code",
   "execution_count": 8,
   "metadata": {},
   "outputs": [],
   "source": [
    "# List of prevention measures that were in place in schools in the weeks 36-45\n",
    "# of the year 2020 in Austrian schools. This list was compiled from information\n",
    "# collected in interviews with teachers of different school types. NOTE: so far\n",
    "# there are no recorded differences between school types.\n",
    "prevention_measures = {\n",
    "    'primary':     \n",
    "                   {'testing':'diagnostic', \n",
    "                    'follow_up_testing_interval':None,\n",
    "                    'diagnostic_test_type':'one_day_PCR',\n",
    "                    'preventive_screening_test_type':None,\n",
    "                    'student_screen_interval':None,\n",
    "                    'teacher_screen_interval':None,\n",
    "                    'family_member_screen_interval':None,\n",
    "                    'K1_contact_types':['intermediate', 'close'],\n",
    "                    'quarantine_duration':10,\n",
    "                    'half_classes':False,\n",
    "                    'teacher_mask':False,\n",
    "                    'student_mask':False,\n",
    "                    'family_member_mask':False,\n",
    "                    'student_index_probability':0,\n",
    "                    'teacher_index_probability':0,\n",
    "                    'family_member_index_probability':0,\n",
    "                    'liberating_testing':False\n",
    "                    },\n",
    "    'primary_dc':     \n",
    "                   {'testing':'diagnostic', \n",
    "                    'follow_up_testing_interval':None,\n",
    "                    'diagnostic_test_type':'one_day_PCR',\n",
    "                    'preventive_screening_test_type':None,\n",
    "                    'student_screen_interval':None,\n",
    "                    'teacher_screen_interval':None,\n",
    "                    'family_member_screen_interval':None,\n",
    "                    'K1_contact_types':['intermediate', 'close'],\n",
    "                    'quarantine_duration':10,\n",
    "                    'half_classes':False,\n",
    "                    'teacher_mask':False,\n",
    "                    'student_mask':False,\n",
    "                    'family_member_mask':False,\n",
    "                    'student_index_probability':0,\n",
    "                    'teacher_index_probability':0,\n",
    "                    'family_member_index_probability':0,\n",
    "                    'liberating_testing':False\n",
    "                    },\n",
    "    'lower_secondary':\n",
    "                   {'testing':'diagnostic', \n",
    "                    'follow_up_testing_interval':None,\n",
    "                    'diagnostic_test_type':'one_day_PCR',\n",
    "                    'preventive_screening_test_type':None,\n",
    "                    'student_screen_interval':None,\n",
    "                    'teacher_screen_interval':None,\n",
    "                    'family_member_screen_interval':None,\n",
    "                    'K1_contact_types':['intermediate', 'close'],\n",
    "                    'quarantine_duration':10,\n",
    "                    'half_classes':False,\n",
    "                    'teacher_mask':False,\n",
    "                    'student_mask':False,\n",
    "                    'family_member_mask':False,\n",
    "                    'student_index_probability':0,\n",
    "                    'teacher_index_probability':0,\n",
    "                    'family_member_index_probability':0,\n",
    "                    'liberating_testing':False\n",
    "                    },\n",
    "    'lower_secondary_dc':\n",
    "                   {'testing':'diagnostic', \n",
    "                    'follow_up_testing_interval':None,\n",
    "                    'diagnostic_test_type':'one_day_PCR',\n",
    "                    'preventive_screening_test_type':None,\n",
    "                    'student_screen_interval':None,\n",
    "                    'teacher_screen_interval':None,\n",
    "                    'family_member_screen_interval':None,\n",
    "                    'K1_contact_types':['intermediate', 'close'],\n",
    "                    'quarantine_duration':10,\n",
    "                    'half_classes':False,\n",
    "                    'teacher_mask':False,\n",
    "                    'student_mask':False,\n",
    "                    'family_member_mask':False,\n",
    "                    'student_index_probability':0,\n",
    "                    'teacher_index_probability':0,\n",
    "                    'family_member_index_probability':0,\n",
    "                    'liberating_testing':False\n",
    "                    },\n",
    "    'upper_secondary':\n",
    "                   {'testing':'diagnostic', \n",
    "                    'follow_up_testing_interval':None,\n",
    "                    'diagnostic_test_type':'one_day_PCR',\n",
    "                    'preventive_screening_test_type':None,\n",
    "                    'student_screen_interval':None,\n",
    "                    'teacher_screen_interval':None,\n",
    "                    'family_member_screen_interval':None,\n",
    "                    'K1_contact_types':['intermediate', 'close'],\n",
    "                    'quarantine_duration':10,\n",
    "                    'half_classes':False,\n",
    "                    'teacher_mask':False,\n",
    "                    'student_mask':False,\n",
    "                    'family_member_mask':False,\n",
    "                    'student_index_probability':0,\n",
    "                    'teacher_index_probability':0,\n",
    "                    'family_member_index_probability':0,\n",
    "                    'liberating_testing':False\n",
    "                    },\n",
    "    'secondary':\n",
    "                   {'testing':'diagnostic', \n",
    "                    'follow_up_testing_interval':None,\n",
    "                    'diagnostic_test_type':'one_day_PCR',\n",
    "                    'preventive_screening_test_type':None,\n",
    "                    'student_screen_interval':None,\n",
    "                    'teacher_screen_interval':None,\n",
    "                    'family_member_screen_interval':None,\n",
    "                    'K1_contact_types':['intermediate', 'close'],\n",
    "                    'quarantine_duration':10,\n",
    "                    'half_classes':False,\n",
    "                    'teacher_mask':False,\n",
    "                    'student_mask':False,\n",
    "                    'family_member_mask':False,\n",
    "                    'student_index_probability':0,\n",
    "                    'teacher_index_probability':0,\n",
    "                    'family_member_index_probability':0,\n",
    "                    'liberating_testing':False\n",
    "                    },\n",
    "    'secondary_dc':\n",
    "                   {'testing':'diagnostic', \n",
    "                    'follow_up_testing_interval':None,\n",
    "                    'diagnostic_test_type':'one_day_PCR',\n",
    "                    'preventive_screening_test_type':None,\n",
    "                    'student_screen_interval':None,\n",
    "                    'teacher_screen_interval':None,\n",
    "                    'family_member_screen_interval':None,\n",
    "                    'K1_contact_types':['intermediate', 'close'],\n",
    "                    'quarantine_duration':10,\n",
    "                    'half_classes':False,\n",
    "                    'teacher_mask':False,\n",
    "                    'student_mask':False,\n",
    "                    'family_member_mask':False,\n",
    "                    'student_index_probability':0,\n",
    "                    'teacher_index_probability':0,\n",
    "                    'family_member_index_probability':0,\n",
    "                    'liberating_testing':False\n",
    "                    },\n",
    "}"
   ]
  },
  {
   "cell_type": "markdown",
   "metadata": {},
   "source": [
    "### School characteristics"
   ]
  },
  {
   "cell_type": "markdown",
   "metadata": {},
   "source": [
    "![title](../img/SCHULSYSTEMösterreich2.png)"
   ]
  },
  {
   "cell_type": "code",
   "execution_count": 9,
   "metadata": {},
   "outputs": [],
   "source": [
    "# characteristics of the \"average\" school, depending on school type. These \n",
    "# characteristics were determined in interviews with Austrian teachers and from\n",
    "# statistics about Austrian schools \n",
    "# (year 2017/18, page 10: https://www.bmbwf.gv.at/Themen/schule/schulsystem/gd.html)\n",
    "# NOTE: \"students\" indicates the number of students per class\n",
    "\n",
    "school_characteristics = {\n",
    "    # Volksschule: Schulen: 3033, Klassen: 18245, Schüler*innen: 339382\n",
    "    'primary':            {'classes':8, 'students':19},\n",
    "    'primary_dc':         {'classes':8, 'students':19},\n",
    "    \n",
    "    # Hauptschulen: 47, Klassen 104, Schüler*innen: 1993\n",
    "    # Neue Mittelschule: Schulen 1131, Klassen: 10354, Schüler*innen: 205905\n",
    "    # Sonderschulen: 292, Klassen: 1626, Schüler*innen: 14815\n",
    "    # Gesamt: Schulen: 1470, Klassen: 12084, Schüler*innen: 222713\n",
    "    'lower_secondary':    {'classes':8, 'students':18},\n",
    "    'lower_secondary_dc': {'classes':8, 'students':18},\n",
    "    \n",
    "    # Oberstufenrealgymnasium: Schulen 114, Klassen 1183, Schüler*innen: 26211\n",
    "    # BMHS: schulen 734, Klassen 8042, Schüler*innen 187592\n",
    "    # Gesamt: Schulen: 848, Klassen 9225, Schüler*innen: 213803\n",
    "    'upper_secondary':    {'classes':10, 'students':23}, # rounded down from 10.8 classes\n",
    "    \n",
    "    # AHS Langform: Schulen 281, Klassen 7610, schüler*innen 179633\n",
    "    'secondary':          {'classes':28, 'students':24}, # rounded up from 27.1 classes\n",
    "    'secondary_dc':       {'classes':28, 'students':24} # rounded up from 27.1 classes\n",
    "}\n",
    "\n",
    "school_types = ['primary', 'primary_dc', 'lower_secondary', 'lower_secondary_dc',\n",
    "                'upper_secondary', 'secondary', 'secondary_dc']"
   ]
  },
  {
   "cell_type": "markdown",
   "metadata": {},
   "source": [
    "## Calibration runs"
   ]
  },
  {
   "cell_type": "code",
   "execution_count": 10,
   "metadata": {},
   "outputs": [],
   "source": [
    "def compose_agents(prevention_measures):\n",
    "    agent_types = {\n",
    "            'student':{\n",
    "                'screening_interval':prevention_measures['student_screen_interval'],\n",
    "                'index_probability':prevention_measures['student_index_probability'],\n",
    "                'mask':prevention_measures['student_mask']},\n",
    "\n",
    "            'teacher':{\n",
    "                'screening_interval': prevention_measures['teacher_screen_interval'],\n",
    "                'index_probability': prevention_measures['student_index_probability'],\n",
    "                'mask':prevention_measures['teacher_mask']},\n",
    "\n",
    "            'family_member':{\n",
    "                'screening_interval':prevention_measures['family_member_screen_interval'],\n",
    "                'index_probability':prevention_measures['family_member_index_probability'],\n",
    "                'mask':prevention_measures['family_member_mask']}\n",
    "    }\n",
    "    \n",
    "    return agent_types"
   ]
  },
  {
   "cell_type": "code",
   "execution_count": 11,
   "metadata": {},
   "outputs": [],
   "source": [
    "# paths for data I/O\n",
    "src = '../data/school/calibration_schools'\n",
    "dst = '../data/school/calibration_results'"
   ]
  },
  {
   "cell_type": "markdown",
   "metadata": {},
   "source": [
    "### Set fixed parameters"
   ]
  },
  {
   "cell_type": "code",
   "execution_count": 12,
   "metadata": {},
   "outputs": [],
   "source": [
    "# set the simulation parameters that are not used in this investigation to\n",
    "# default values\n",
    "verbosity = 0 # only needed for debug output\n",
    "subclinical_modifier = 0.6 # sublinical cases are 40% less infectious than symptomatic cases\n",
    "target_base_transmission_risk = 0.0737411844049918\n",
    "mask_filter_efficiency  = {'exhale':0.5, 'inhale':0.7}\n",
    "transmission_risk_ventilation_modifier = 0.36"
   ]
  },
  {
   "cell_type": "markdown",
   "metadata": {},
   "source": [
    "### Set statistics parameters"
   ]
  },
  {
   "cell_type": "code",
   "execution_count": 13,
   "metadata": {},
   "outputs": [],
   "source": [
    "## statistics parameters\n",
    "# number of maximum steps per run. This is a very conservatively chosen value\n",
    "# that ensures that an outbreak will always terminate within the allotted time.\n",
    "# Most runs are terminated way earlier anyways, as soon as the outbreak is over.\n",
    "N_steps = 500 \n",
    "# number of runs per ensemble\n",
    "N_runs = 100\n",
    "# number of points in the parameter grid that will be randomly sampled\n",
    "N_samples = 1"
   ]
  },
  {
   "cell_type": "markdown",
   "metadata": {},
   "source": [
    "### Create calibration parameter grid"
   ]
  },
  {
   "cell_type": "code",
   "execution_count": 14,
   "metadata": {},
   "outputs": [],
   "source": [
    "## grid of parameters that need to be calibrated\n",
    "# the contact weight is the modifier by which the base transmission risk (for\n",
    "# household transmissions) is multiplied for contacts of type \"intermediate\" \n",
    "# and of type \"far\"\n",
    "intermediate_contact_weights = [0.5]\n",
    "\n",
    "far_contact_weights = [0.3]\n",
    "\n",
    "# the age_transmission_discount sets the slope of the age-dependence of the \n",
    "# transmission risk. Transmission risk for adults (age 18+) is always base \n",
    "# transmission risk. For every year an agent is younger than 18 years, the\n",
    "# transmission risk is reduced\n",
    "age_transmission_discounts = [-0.04]\n",
    "\n",
    "# list of all possible parameter combinations from the grid\n",
    "params = [(i, j, k) for i in intermediate_contact_weights \\\n",
    "                    for j in far_contact_weights\\\n",
    "                    for k in age_transmission_discounts if i > j]\n",
    "# randomly drawn list of parameter combination indices of size N_samples. For \n",
    "# every parameter combination an ensemble of simulations will be run and \n",
    "# evaluated.\n",
    "\n",
    "if N_samples == 'all':\n",
    "    samples = range(len(params))\n",
    "else:\n",
    "    samples = np.random.choice(range(len(params)), N_samples, replace=False)"
   ]
  },
  {
   "cell_type": "markdown",
   "metadata": {},
   "source": [
    "### Conduct calibration runs"
   ]
  },
  {
   "cell_type": "code",
   "execution_count": 20,
   "metadata": {},
   "outputs": [],
   "source": [
    "school_types = ['secondary']"
   ]
  },
  {
   "cell_type": "code",
   "execution_count": 21,
   "metadata": {},
   "outputs": [
    {
     "data": {
      "application/vnd.jupyter.widget-view+json": {
       "model_id": "b483c632d10c4a4899fdbb6a54f46738",
       "version_major": 2,
       "version_minor": 0
      },
      "text/plain": [
       "IntProgress(value=0)"
      ]
     },
     "metadata": {},
     "output_type": "display_data"
    }
   ],
   "source": [
    "# progress bar\n",
    "f = IntProgress(min=0, max=len(samples) * N_runs) \n",
    "display(f)\n",
    "c = 0\n",
    "\n",
    "results = pd.DataFrame()\n",
    "for sample_index in samples:\n",
    "    # get the values of the calibration parameters\n",
    "    intermediate_contact_weight, far_contact_weight, age_transmission_discount = \\\n",
    "            params[sample_index]\n",
    "    \n",
    "    # since we only use contacts of type \"close\", \"intermediate\" and \"far\" in \n",
    "    # this setup, we set the contact type \"very far\" to 0. The contact type\n",
    "    # \"close\" corresponds to household transmissions and is set to 1 (= base \n",
    "    # transmission risk). We therefore only calibrate the weight of the \n",
    "    # \"intermediate\"  and \"far\" contacts with respect to household contacts\n",
    "    infection_risk_contact_type_weights = {\n",
    "            'very_far': 0, \n",
    "            'far': far_contact_weight, \n",
    "            'intermediate': intermediate_contact_weight,\n",
    "            'close': 1}\n",
    "    \n",
    "    for school_type in school_types:\n",
    "        # get the respective parameters for the given school type\n",
    "        measures = prevention_measures[school_type]\n",
    "        characteristics = school_characteristics[school_type]\n",
    "        agent_index_ratio = agent_index_ratios[school_type]\n",
    "\n",
    "        school_name = '{}_classes-{}_students-{}'.format(school_type,\n",
    "                    characteristics['classes'], characteristics['students'])\n",
    "        school_src = join(src, school_type)\n",
    "        \n",
    "        # create the agent dictionaries based on the given parameter values and\n",
    "        # prevention measures\n",
    "        agent_types = compose_agents(measures)\n",
    "\n",
    "        # conduct all runs for an ensemble with a given set of parameters\n",
    "        ensemble_results = pd.DataFrame()\n",
    "        for run in range(1, N_runs + 1):\n",
    "            \n",
    "            f.value = c # update the progress bar\n",
    "            c += 1\n",
    "        \n",
    "            # load the contact graph: since households and sibling contacts\n",
    "            # are random, there are a number of randomly created instances of \n",
    "            # calibration schools from which we can chose. We use a different\n",
    "            # calibration school instance for every run here\n",
    "            G = nx.readwrite.gpickle.read_gpickle(join(school_src,\\\n",
    "                            '{}_{}.gpickle'.format(school_name, run)))\n",
    "            \n",
    "            # pick an index case according to the probabilities for the school type\n",
    "            index_case = np.random.choice(list(agent_index_ratio.keys()),\n",
    "                                          p=list(agent_index_ratio.values()))\n",
    "\n",
    "            # initialize the model\n",
    "            model = SEIRX_school(G, verbosity, \n",
    "                      base_transmission_risk = target_base_transmission_risk,\n",
    "                      testing = measures['testing'],\n",
    "                      exposure_duration = [5.0, 1.9], # literature values\n",
    "                      time_until_symptoms = [6.4, 0.8], # literature values\n",
    "                      infection_duration = [10.91, 3.95], # literature values\n",
    "                      quarantine_duration = measures['quarantine_duration'],\n",
    "                      subclinical_modifier = subclinical_modifier,\n",
    "                      infection_risk_contact_type_weights = \\\n",
    "                                 infection_risk_contact_type_weights,\n",
    "                      K1_contact_types = measures['K1_contact_types'],\n",
    "                      diagnostic_test_type = measures['diagnostic_test_type'],\n",
    "                      preventive_screening_test_type = \\\n",
    "                                 measures['preventive_screening_test_type'],\n",
    "                      follow_up_testing_interval = \\\n",
    "                                 measures['follow_up_testing_interval'],\n",
    "                      liberating_testing = measures['liberating_testing'],\n",
    "                      index_case = index_case,\n",
    "                      agent_types = agent_types, \n",
    "                      age_transmission_risk_discount = \\\n",
    "                                 {'slope':age_transmission_discount, 'intercept':1},\n",
    "                      age_symptom_discount = age_symptom_discount,\n",
    "                      mask_filter_efficiency = mask_filter_efficiency,\n",
    "                      transmission_risk_ventilation_modifier = transmission_risk_ventilation_modifier,)\n",
    "\n",
    "            # run the model until the outbreak is over\n",
    "            for i in range(N_steps):\n",
    "                # break if first outbreak is over\n",
    "                if len([a for a in model.schedule.agents if \\\n",
    "                    (a.exposed == True or a.infectious == True)]) == 0:\n",
    "                    break\n",
    "                model.step()\n",
    "\n",
    "            # collect the observables needed to calculate the difference to the\n",
    "            # expected values\n",
    "            infected_teachers = af.count_infected(model, 'teacher')\n",
    "            infected_students = af.count_infected(model, 'student')\n",
    "            # subtract the index case from the number of infected teachers/students\n",
    "            # to arrive at the number of follow-up cases\n",
    "            if index_case == 'teacher':\n",
    "                infected_teachers -= 1\n",
    "            else:\n",
    "                infected_students -= 1\n",
    "\n",
    "            ensemble_results = ensemble_results.append({\n",
    "                'infected_teachers':infected_teachers,\n",
    "                'infected_students':infected_students}, ignore_index=True)\n",
    "\n",
    "        # calculate the differences between the expected and observed outbreak sizes\n",
    "        # and the distribution of cases to the two agent groups\n",
    "        chi2_distance_size, sum_of_squares_size = \\\n",
    "            calculate_distribution_difference(school_type, ensemble_results)\n",
    "        chi2_distance_distro, sum_of_squares_distro = \\\n",
    "            calculate_group_case_difference(school_type, ensemble_results)\n",
    "\n",
    "        results = results.append({\n",
    "            'school_type':school_type,\n",
    "            'intermediate_contact_weight':intermediate_contact_weight,\n",
    "            'far_contact_weight':far_contact_weight,\n",
    "            'age_transmission_discount':age_transmission_discount,\n",
    "            'chi2_distance_size':chi2_distance_size,\n",
    "            'sum_of_squares_size':sum_of_squares_size,\n",
    "            'chi2_distance_distro':chi2_distance_distro,\n",
    "            'sum_of_squares_distro':sum_of_squares_distro,\n",
    "            'chi2_distance_total':chi2_distance_size + chi2_distance_distro,\n",
    "            'sum_of_squares_total':sum_of_squares_size + sum_of_squares_distro\n",
    "        }, ignore_index=True)\n",
    "\n",
    "\n",
    "    \n",
    "#results.to_csv(join(dst, 'calibration_results_2020-12-30.csv'.format(school_type)), index=False)"
   ]
  },
  {
   "cell_type": "code",
   "execution_count": 23,
   "metadata": {},
   "outputs": [
    {
     "data": {
      "text/html": [
       "<div>\n",
       "<style scoped>\n",
       "    .dataframe tbody tr th:only-of-type {\n",
       "        vertical-align: middle;\n",
       "    }\n",
       "\n",
       "    .dataframe tbody tr th {\n",
       "        vertical-align: top;\n",
       "    }\n",
       "\n",
       "    .dataframe thead th {\n",
       "        text-align: right;\n",
       "    }\n",
       "</style>\n",
       "<table border=\"1\" class=\"dataframe\">\n",
       "  <thead>\n",
       "    <tr style=\"text-align: right;\">\n",
       "      <th></th>\n",
       "      <th>age_transmission_discount</th>\n",
       "      <th>chi2_distance_distro</th>\n",
       "      <th>chi2_distance_size</th>\n",
       "      <th>chi2_distance_total</th>\n",
       "      <th>far_contact_weight</th>\n",
       "      <th>intermediate_contact_weight</th>\n",
       "      <th>school_type</th>\n",
       "      <th>sum_of_squares_distro</th>\n",
       "      <th>sum_of_squares_size</th>\n",
       "      <th>sum_of_squares_total</th>\n",
       "    </tr>\n",
       "  </thead>\n",
       "  <tbody>\n",
       "    <tr>\n",
       "      <th>0</th>\n",
       "      <td>-0.04</td>\n",
       "      <td>0.0128</td>\n",
       "      <td>0.04345</td>\n",
       "      <td>0.056251</td>\n",
       "      <td>0.3</td>\n",
       "      <td>0.5</td>\n",
       "      <td>secondary</td>\n",
       "      <td>0.017967</td>\n",
       "      <td>0.045125</td>\n",
       "      <td>0.063092</td>\n",
       "    </tr>\n",
       "  </tbody>\n",
       "</table>\n",
       "</div>"
      ],
      "text/plain": [
       "   age_transmission_discount  chi2_distance_distro  chi2_distance_size  \\\n",
       "0                      -0.04                0.0128             0.04345   \n",
       "\n",
       "   chi2_distance_total  far_contact_weight  intermediate_contact_weight  \\\n",
       "0             0.056251                 0.3                          0.5   \n",
       "\n",
       "  school_type  sum_of_squares_distro  sum_of_squares_size  \\\n",
       "0   secondary               0.017967             0.045125   \n",
       "\n",
       "   sum_of_squares_total  \n",
       "0              0.063092  "
      ]
     },
     "execution_count": 23,
     "metadata": {},
     "output_type": "execute_result"
    }
   ],
   "source": [
    "results"
   ]
  },
  {
   "cell_type": "markdown",
   "metadata": {},
   "source": [
    "## Collect calibration results"
   ]
  },
  {
   "cell_type": "markdown",
   "metadata": {},
   "source": [
    "### Without ventilation"
   ]
  },
  {
   "cell_type": "markdown",
   "metadata": {},
   "source": [
    "#### Random grid search"
   ]
  },
  {
   "cell_type": "code",
   "execution_count": 3,
   "metadata": {},
   "outputs": [],
   "source": [
    "primary = pd.concat([\\\n",
    "        pd.read_csv('../data/school/calibration_results/calibration_results_primary_samples50_runs1000_random_0-50.csv'),\n",
    "        pd.read_csv('../data/school/calibration_results/calibration_results_primary_samples50_runs1000_random_50-100.csv')\\\n",
    "                       ])\n",
    "primary = primary.reset_index(drop=True)"
   ]
  },
  {
   "cell_type": "code",
   "execution_count": 4,
   "metadata": {},
   "outputs": [],
   "source": [
    "primary_dc = pd.concat([\\\n",
    "        pd.read_csv('../data/school/calibration_results/calibration_results_primary_dc_samples50_runs1000_random_0-50.csv'),\n",
    "        pd.read_csv('../data/school/calibration_results/calibration_results_primary_dc_samples50_runs1000_random_50-100.csv')\\\n",
    "                       ])\n",
    "primary_dc = primary_dc.reset_index(drop=True)"
   ]
  },
  {
   "cell_type": "code",
   "execution_count": 5,
   "metadata": {},
   "outputs": [],
   "source": [
    "lower_secondary = pd.concat([\\\n",
    "        pd.read_csv('../data/school/calibration_results/calibration_results_lower_secondary_samples50_runs1000_random_0-50.csv'),\n",
    "        pd.read_csv('../data/school/calibration_results/calibration_results_lower_secondary_samples50_runs1000_random_50-100.csv')\\\n",
    "                       ])\n",
    "lower_secondary = lower_secondary.reset_index(drop=True)"
   ]
  },
  {
   "cell_type": "code",
   "execution_count": 6,
   "metadata": {},
   "outputs": [],
   "source": [
    "lower_secondary_dc = pd.concat([\\\n",
    "        pd.read_csv('../data/school/calibration_results/calibration_results_lower_secondary_dc_samples50_runs1000_random_0-50.csv'),\n",
    "        pd.read_csv('../data/school/calibration_results/calibration_results_lower_secondary_dc_samples50_runs1000_random_50-100.csv')\\\n",
    "                       ])\n",
    "lower_secondary_dc = lower_secondary_dc.reset_index(drop=True)"
   ]
  },
  {
   "cell_type": "code",
   "execution_count": 7,
   "metadata": {},
   "outputs": [],
   "source": [
    "upper_secondary = pd.concat([\\\n",
    "        pd.read_csv('../data/school/calibration_results/calibration_results_upper_secondary_samples50_runs1000_random_0-50.csv'),\n",
    "        pd.read_csv('../data/school/calibration_results/calibration_results_upper_secondary_samples50_runs1000_random_50-100.csv')\\\n",
    "                       ])\n",
    "upper_secondary = upper_secondary.reset_index(drop=True)"
   ]
  },
  {
   "cell_type": "code",
   "execution_count": 49,
   "metadata": {},
   "outputs": [],
   "source": [
    "secondary = pd.concat([\\\n",
    "        pd.read_csv('../data/school/calibration_results/calibration_results_secondary_samples25_runs500_random_0-25.csv'),\n",
    "        pd.read_csv('../data/school/calibration_results/calibration_results_secondary_samples25_runs500_random_25-50.csv'),\n",
    "        pd.read_csv('../data/school/calibration_results/calibration_results_secondary_samples25_runs500_random_50-75.csv'),\n",
    "        pd.read_csv('../data/school/calibration_results/calibration_results_secondary_samples25_runs500_random_75-100.csv')\\\n",
    "                       ])\n",
    "secondary = secondary.reset_index(drop=True)"
   ]
  },
  {
   "cell_type": "code",
   "execution_count": 94,
   "metadata": {},
   "outputs": [],
   "source": [
    "secondary_dc = pd.concat([\\\n",
    "        pd.read_csv('../data/school/calibration_results/calibration_results_secondary_dc_samples25_runs500_random_0-25.csv'),\n",
    "        pd.read_csv('../data/school/calibration_results/calibration_results_secondary_dc_samples25_runs500_random_25-50.csv'),\n",
    "                ])\n",
    "secondary_dc = secondary.reset_index(drop=True)"
   ]
  },
  {
   "cell_type": "code",
   "execution_count": 95,
   "metadata": {},
   "outputs": [],
   "source": [
    "results = pd.concat([primary[0:50], primary_dc[0:50], lower_secondary[0:50], \n",
    "                     lower_secondary_dc[0:50], upper_secondary[0:50],\n",
    "                     secondary[0:50], secondary_dc[0:50]])\n",
    "results = results.reset_index(drop=True)"
   ]
  },
  {
   "cell_type": "code",
   "execution_count": 96,
   "metadata": {},
   "outputs": [],
   "source": [
    "# weighting by number of empirical obesrvations\n",
    "outbreak_sizes = pd.read_csv('../data/school/calibration_data/outbreak_sizes.csv')\n",
    "counts = pd.DataFrame({'type':['primary', 'primary_dc', \n",
    "                               'lower_secondary', 'lower_secondary_dc',\n",
    "                               'upper_secondary', 'secondary', 'secondary_dc'],\n",
    "                      'count':[33.5, 33.5, 90, 90, 116, 35, 35]})\n",
    "counts.index = counts['type']\n",
    "counts = counts.drop(columns=['type'])\n",
    "counts['weight'] = counts['count'] / counts['count'].sum()"
   ]
  },
  {
   "cell_type": "code",
   "execution_count": 97,
   "metadata": {},
   "outputs": [],
   "source": [
    "results['chi2_distance_total_weighted'] = results['chi2_distance_total']\n",
    "weights = []\n",
    "for i, row in results.iterrows():\n",
    "    st = row['school_type']\n",
    "    weight = counts.loc[st, 'weight']\n",
    "    error = row['chi2_distance_total']\n",
    "    results.loc[i, 'chi2_distance_total_weighted'] = error * weight"
   ]
  },
  {
   "cell_type": "code",
   "execution_count": 98,
   "metadata": {},
   "outputs": [],
   "source": [
    "agg_results = results.groupby(['age_transmission_discount', 'intermediate_contact_weight',\n",
    "                 'far_contact_weight']).sum()"
   ]
  },
  {
   "cell_type": "code",
   "execution_count": 104,
   "metadata": {},
   "outputs": [],
   "source": [
    "primary = primary[0:50].groupby(['age_transmission_discount', 'intermediate_contact_weight',\n",
    "                 'far_contact_weight']).sum()\n"
   ]
  },
  {
   "cell_type": "code",
   "execution_count": 105,
   "metadata": {},
   "outputs": [],
   "source": [
    "primary_dc = primary_dc[0:50].groupby(['age_transmission_discount', 'intermediate_contact_weight',\n",
    "                 'far_contact_weight']).sum()\n"
   ]
  },
  {
   "cell_type": "code",
   "execution_count": 106,
   "metadata": {},
   "outputs": [],
   "source": [
    "lower_secondary = lower_secondary[0:50].groupby(['age_transmission_discount', 'intermediate_contact_weight',\n",
    "                 'far_contact_weight']).sum()\n"
   ]
  },
  {
   "cell_type": "code",
   "execution_count": 107,
   "metadata": {},
   "outputs": [],
   "source": [
    "lower_secondary_dc = lower_secondary_dc[0:50].groupby(['age_transmission_discount', 'intermediate_contact_weight',\n",
    "                 'far_contact_weight']).sum()\n"
   ]
  },
  {
   "cell_type": "code",
   "execution_count": 108,
   "metadata": {},
   "outputs": [],
   "source": [
    "upper_secondary = upper_secondary[0:50].groupby(['age_transmission_discount', 'intermediate_contact_weight',\n",
    "                 'far_contact_weight']).sum()\n"
   ]
  },
  {
   "cell_type": "code",
   "execution_count": 109,
   "metadata": {},
   "outputs": [],
   "source": [
    "secondary = secondary[0:50].groupby(['age_transmission_discount', 'intermediate_contact_weight',\n",
    "                 'far_contact_weight']).sum()\n"
   ]
  },
  {
   "cell_type": "code",
   "execution_count": 110,
   "metadata": {},
   "outputs": [],
   "source": [
    "secondary_dc = secondary_dc[0:50].groupby(['age_transmission_discount', 'intermediate_contact_weight',\n",
    "                 'far_contact_weight']).sum()\n"
   ]
  },
  {
   "cell_type": "code",
   "execution_count": 111,
   "metadata": {},
   "outputs": [
    {
     "data": {
      "text/plain": [
       "chi2_distance_distro     0.072587\n",
       "chi2_distance_size       0.005511\n",
       "chi2_distance_total      0.078098\n",
       "sum_of_squares_distro    0.107155\n",
       "sum_of_squares_size      0.006239\n",
       "sum_of_squares_total     0.113394\n",
       "Name: (-0.019999999999999685, 0.42, 0.30000000000000004), dtype: float64"
      ]
     },
     "execution_count": 111,
     "metadata": {},
     "output_type": "execute_result"
    }
   ],
   "source": [
    "primary.loc[primary['chi2_distance_total'].idxmin()]"
   ]
  },
  {
   "cell_type": "code",
   "execution_count": 112,
   "metadata": {},
   "outputs": [
    {
     "data": {
      "text/plain": [
       "chi2_distance_distro     0.057843\n",
       "chi2_distance_size       0.010876\n",
       "chi2_distance_total      0.068718\n",
       "sum_of_squares_distro    0.085389\n",
       "sum_of_squares_size      0.012595\n",
       "sum_of_squares_total     0.097984\n",
       "Name: (-0.4, 0.7000000000000001, 0.68), dtype: float64"
      ]
     },
     "execution_count": 112,
     "metadata": {},
     "output_type": "execute_result"
    }
   ],
   "source": [
    "primary_dc.loc[primary_dc['chi2_distance_total'].idxmin()]"
   ]
  },
  {
   "cell_type": "code",
   "execution_count": 113,
   "metadata": {},
   "outputs": [
    {
     "data": {
      "text/plain": [
       "chi2_distance_distro     0.002193\n",
       "chi2_distance_size       0.020126\n",
       "chi2_distance_total      0.022319\n",
       "sum_of_squares_distro    0.003166\n",
       "sum_of_squares_size      0.026010\n",
       "sum_of_squares_total     0.029176\n",
       "Name: (-0.019999999999999685, 0.30000000000000004, 0.22000000000000006), dtype: float64"
      ]
     },
     "execution_count": 113,
     "metadata": {},
     "output_type": "execute_result"
    }
   ],
   "source": [
    "lower_secondary.loc[lower_secondary['chi2_distance_total'].idxmin()]"
   ]
  },
  {
   "cell_type": "code",
   "execution_count": 114,
   "metadata": {},
   "outputs": [
    {
     "data": {
      "text/plain": [
       "chi2_distance_distro     0.001304\n",
       "chi2_distance_size       0.007455\n",
       "chi2_distance_total      0.008759\n",
       "sum_of_squares_distro    0.001882\n",
       "sum_of_squares_size      0.009267\n",
       "sum_of_squares_total     0.011149\n",
       "Name: (-0.019999999999999685, 0.30000000000000004, 0.22000000000000006), dtype: float64"
      ]
     },
     "execution_count": 114,
     "metadata": {},
     "output_type": "execute_result"
    }
   ],
   "source": [
    "lower_secondary_dc.loc[lower_secondary_dc['chi2_distance_total'].idxmin()]"
   ]
  },
  {
   "cell_type": "code",
   "execution_count": 115,
   "metadata": {},
   "outputs": [
    {
     "data": {
      "text/plain": [
       "chi2_distance_distro     0.005901\n",
       "chi2_distance_size       0.008732\n",
       "chi2_distance_total      0.014633\n",
       "sum_of_squares_distro    0.008256\n",
       "sum_of_squares_size      0.009469\n",
       "sum_of_squares_total     0.017725\n",
       "Name: (-0.36, 0.28, 0.24), dtype: float64"
      ]
     },
     "execution_count": 115,
     "metadata": {},
     "output_type": "execute_result"
    }
   ],
   "source": [
    "upper_secondary.loc[upper_secondary['chi2_distance_total'].idxmin()]"
   ]
  },
  {
   "cell_type": "code",
   "execution_count": 116,
   "metadata": {},
   "outputs": [
    {
     "data": {
      "text/plain": [
       "chi2_distance_distro     0.000653\n",
       "chi2_distance_size       0.009744\n",
       "chi2_distance_total      0.010397\n",
       "sum_of_squares_distro    0.000916\n",
       "sum_of_squares_size      0.010117\n",
       "sum_of_squares_total     0.011033\n",
       "Name: (-0.2599999999999999, 0.5000000000000001, 0.3400000000000001), dtype: float64"
      ]
     },
     "execution_count": 116,
     "metadata": {},
     "output_type": "execute_result"
    }
   ],
   "source": [
    "secondary.loc[secondary['chi2_distance_total'].idxmin()]"
   ]
  },
  {
   "cell_type": "code",
   "execution_count": 103,
   "metadata": {},
   "outputs": [
    {
     "data": {
      "text/plain": [
       "chi2_distance_distro     0.000653\n",
       "chi2_distance_size       0.009744\n",
       "chi2_distance_total      0.010397\n",
       "sum_of_squares_distro    0.000916\n",
       "sum_of_squares_size      0.010117\n",
       "sum_of_squares_total     0.011033\n",
       "Name: (-0.2599999999999999, 0.5000000000000001, 0.3400000000000001), dtype: float64"
      ]
     },
     "execution_count": 103,
     "metadata": {},
     "output_type": "execute_result"
    }
   ],
   "source": [
    "secondary_dc.loc[secondary_dc['chi2_distance_total'].idxmin()]"
   ]
  },
  {
   "cell_type": "code",
   "execution_count": 99,
   "metadata": {},
   "outputs": [
    {
     "data": {
      "text/plain": [
       "chi2_distance_distro            0.209938\n",
       "chi2_distance_size              0.085432\n",
       "chi2_distance_total             0.295370\n",
       "sum_of_squares_distro           0.306907\n",
       "sum_of_squares_size             0.099981\n",
       "sum_of_squares_total            0.406888\n",
       "chi2_distance_total_weighted    0.034432\n",
       "Name: (-0.1599999999999998, 0.3600000000000001, 0.26), dtype: float64"
      ]
     },
     "execution_count": 99,
     "metadata": {},
     "output_type": "execute_result"
    }
   ],
   "source": [
    "agg_results.loc[agg_results['chi2_distance_total'].idxmin()]"
   ]
  },
  {
   "cell_type": "markdown",
   "metadata": {},
   "source": [
    "#### Grid search"
   ]
  },
  {
   "cell_type": "code",
   "execution_count": 118,
   "metadata": {},
   "outputs": [],
   "source": [
    "primary = pd.concat([\\\n",
    "        pd.read_csv('../data/school/calibration_results/calibration_results_primary_samples40_runs500_grid_0-40.csv'),\n",
    "        pd.read_csv('../data/school/calibration_results/calibration_results_primary_samples40_runs500_grid_40-80.csv')\\\n",
    "                       ])\n",
    "primary = primary.reset_index(drop=True)"
   ]
  },
  {
   "cell_type": "code",
   "execution_count": 119,
   "metadata": {},
   "outputs": [],
   "source": [
    "primary_dc = pd.concat([\\\n",
    "        pd.read_csv('../data/school/calibration_results/calibration_results_primary_dc_samples40_runs500_grid_0-40.csv'),\n",
    "        pd.read_csv('../data/school/calibration_results/calibration_results_primary_dc_samples40_runs500_grid_40-80.csv')\\\n",
    "                       ])\n",
    "primary_dc = primary_dc.reset_index(drop=True)"
   ]
  },
  {
   "cell_type": "code",
   "execution_count": 120,
   "metadata": {},
   "outputs": [],
   "source": [
    "lower_secondary = pd.concat([\\\n",
    "        pd.read_csv('../data/school/calibration_results/calibration_results_lower_secondary_samples40_runs500_grid_0-40.csv'),\n",
    "        pd.read_csv('../data/school/calibration_results/calibration_results_lower_secondary_samples40_runs500_grid_40-80.csv')\\\n",
    "                       ])\n",
    "lower_secondary = lower_secondary.reset_index(drop=True)"
   ]
  },
  {
   "cell_type": "code",
   "execution_count": 121,
   "metadata": {},
   "outputs": [],
   "source": [
    "lower_secondary_dc = pd.concat([\\\n",
    "        pd.read_csv('../data/school/calibration_results/calibration_results_lower_secondary_dc_samples40_runs500_grid_0-40.csv'),\n",
    "        pd.read_csv('../data/school/calibration_results/calibration_results_lower_secondary_dc_samples40_runs500_grid_40-80.csv')\\\n",
    "                       ])\n",
    "lower_secondary_dc = lower_secondary_dc.reset_index(drop=True)"
   ]
  },
  {
   "cell_type": "code",
   "execution_count": 122,
   "metadata": {},
   "outputs": [],
   "source": [
    "upper_secondary = pd.concat([\\\n",
    "        pd.read_csv('../data/school/calibration_results/calibration_results_upper_secondary_samples40_runs500_grid_0-40.csv'),\n",
    "        pd.read_csv('../data/school/calibration_results/calibration_results_upper_secondary_samples40_runs500_grid_40-80.csv')\\\n",
    "                       ])\n",
    "upper_secondary = upper_secondary.reset_index(drop=True)"
   ]
  },
  {
   "cell_type": "code",
   "execution_count": 126,
   "metadata": {},
   "outputs": [],
   "source": [
    "secondary = pd.concat([\\\n",
    "        pd.read_csv('../data/school/calibration_results/calibration_results_secondary_samples30_runs500_grid_0-30.csv'),\n",
    "        pd.read_csv('../data/school/calibration_results/calibration_results_secondary_samples30_runs500_grid_30-60.csv'),\n",
    "        pd.read_csv('../data/school/calibration_results/calibration_results_secondary_samples20_runs500_grid_60-80.csv')\\\n",
    "                       ])\n",
    "secondary = secondary.reset_index(drop=True)"
   ]
  },
  {
   "cell_type": "code",
   "execution_count": 128,
   "metadata": {},
   "outputs": [],
   "source": [
    "secondary_dc = pd.concat([\\\n",
    "        pd.read_csv('../data/school/calibration_results/calibration_results_secondary_dc_samples30_runs500_grid_0-30.csv'),\n",
    "        pd.read_csv('../data/school/calibration_results/calibration_results_secondary_dc_samples30_runs500_grid_30-60.csv'),\n",
    "        pd.read_csv('../data/school/calibration_results/calibration_results_secondary_dc_samples20_runs500_grid_60-80.csv')\\\n",
    "                       ])\n",
    "secondary_dc = secondary_dc.reset_index(drop=True)"
   ]
  },
  {
   "cell_type": "code",
   "execution_count": 129,
   "metadata": {},
   "outputs": [],
   "source": [
    "results = pd.concat([primary, primary_dc, lower_secondary, \n",
    "                     lower_secondary_dc, upper_secondary,\n",
    "                     secondary, secondary_dc])\n",
    "results = results.reset_index(drop=True)"
   ]
  },
  {
   "cell_type": "code",
   "execution_count": 130,
   "metadata": {},
   "outputs": [],
   "source": [
    "agg_results = results.groupby(['age_transmission_discount', 'intermediate_contact_weight',\n",
    "                 'far_contact_weight']).sum()"
   ]
  },
  {
   "cell_type": "code",
   "execution_count": 131,
   "metadata": {},
   "outputs": [
    {
     "data": {
      "text/plain": [
       "chi2_distance_distro     0.151452\n",
       "chi2_distance_size       0.108800\n",
       "chi2_distance_total      0.260253\n",
       "sum_of_squares_distro    0.220631\n",
       "sum_of_squares_size      0.126304\n",
       "sum_of_squares_total     0.346935\n",
       "Name: (-0.03, 0.3, 0.2), dtype: float64"
      ]
     },
     "execution_count": 131,
     "metadata": {},
     "output_type": "execute_result"
    }
   ],
   "source": [
    "agg_results.loc[agg_results['chi2_distance_total'].idxmin()]"
   ]
  },
  {
   "cell_type": "code",
   "execution_count": 134,
   "metadata": {},
   "outputs": [
    {
     "data": {
      "text/plain": [
       "144"
      ]
     },
     "execution_count": 134,
     "metadata": {},
     "output_type": "execute_result"
    }
   ],
   "source": [
    "intermediate_contact_weights = [0.27, 0.28, 0.29, 0.31, 0.32, 0.33]\n",
    "\n",
    "far_contact_weights = [0.17, 0.18, 0.19, 0.21, 0.22, 0.23]\n",
    "\n",
    "# the age_transmission_discount sets the slope of the age-dependence of the \n",
    "# transmission risk. Transmission risk for adults (age 18+) is always base \n",
    "# transmission risk. For every year an agent is younger than 18 years, the\n",
    "# transmission risk is reduced\n",
    "age_transmission_discounts = [-0.032, -0.031, -0.029, -0.028]\n",
    "\n",
    "# list of all possible parameter combinations from the grid\n",
    "params = [(i, j, k) for i in intermediate_contact_weights \\\n",
    "                    for j in far_contact_weights\\\n",
    "                    for k in age_transmission_discounts if i > j]\n",
    "\n",
    "len(params)"
   ]
  },
  {
   "cell_type": "markdown",
   "metadata": {},
   "source": [
    "#### Fine grid search"
   ]
  },
  {
   "cell_type": "code",
   "execution_count": 137,
   "metadata": {},
   "outputs": [],
   "source": [
    "primary = pd.concat([\\\n",
    "        pd.read_csv('../data/school/calibration_results/calibration_results_primary_samples72_runs500_fine_grid_0-72.csv'),\n",
    "        pd.read_csv('../data/school/calibration_results/calibration_results_primary_samples72_runs500_fine_grid_72-144.csv')\\\n",
    "                       ])\n",
    "primary = primary.reset_index(drop=True)"
   ]
  },
  {
   "cell_type": "code",
   "execution_count": 138,
   "metadata": {},
   "outputs": [],
   "source": [
    "primary_dc = pd.concat([\\\n",
    "        pd.read_csv('../data/school/calibration_results/calibration_results_primary_dc_samples72_runs500_fine_grid_0-72.csv'),\n",
    "        pd.read_csv('../data/school/calibration_results/calibration_results_primary_dc_samples72_runs500_fine_grid_72-144.csv')\\\n",
    "                       ])\n",
    "primary_dc = primary_dc.reset_index(drop=True)"
   ]
  },
  {
   "cell_type": "code",
   "execution_count": 139,
   "metadata": {},
   "outputs": [],
   "source": [
    "lower_secondary = pd.concat([\\\n",
    "        pd.read_csv('../data/school/calibration_results/calibration_results_lower_secondary_samples72_runs500_fine_grid_0-72.csv'),\n",
    "        pd.read_csv('../data/school/calibration_results/calibration_results_lower_secondary_samples72_runs500_fine_grid_72-144.csv')\\\n",
    "                       ])\n",
    "lower_secondary = lower_secondary.reset_index(drop=True)"
   ]
  },
  {
   "cell_type": "code",
   "execution_count": 140,
   "metadata": {},
   "outputs": [],
   "source": [
    "lower_secondary_dc = pd.concat([\\\n",
    "        pd.read_csv('../data/school/calibration_results/calibration_results_lower_secondary_dc_samples72_runs500_fine_grid_0-72.csv'),\n",
    "        pd.read_csv('../data/school/calibration_results/calibration_results_lower_secondary_dc_samples72_runs500_fine_grid_72-144.csv')\\\n",
    "                       ])\n",
    "lower_secondary_dc = lower_secondary_dc.reset_index(drop=True)"
   ]
  },
  {
   "cell_type": "code",
   "execution_count": 141,
   "metadata": {},
   "outputs": [],
   "source": [
    "upper_secondary = pd.concat([\\\n",
    "        pd.read_csv('../data/school/calibration_results/calibration_results_upper_secondary_samples36_runs500_fine_grid_0-36.csv'),\n",
    "        pd.read_csv('../data/school/calibration_results/calibration_results_upper_secondary_samples36_runs500_fine_grid_36-72.csv'),\n",
    "        pd.read_csv('../data/school/calibration_results/calibration_results_upper_secondary_samples36_runs500_fine_grid_72-108.csv'),\n",
    "        pd.read_csv('../data/school/calibration_results/calibration_results_upper_secondary_samples36_runs500_fine_grid_108-144.csv')\\\n",
    "                       ])\n",
    "upper_secondary = upper_secondary.reset_index(drop=True)"
   ]
  },
  {
   "cell_type": "code",
   "execution_count": 142,
   "metadata": {},
   "outputs": [],
   "source": [
    "secondary = pd.concat([\\\n",
    "        pd.read_csv('../data/school/calibration_results/calibration_results_secondary_samples16_runs500_fine_grid_0-16.csv'),\n",
    "        pd.read_csv('../data/school/calibration_results/calibration_results_secondary_samples16_runs500_fine_grid_16-32.csv'),\n",
    "        pd.read_csv('../data/school/calibration_results/calibration_results_secondary_samples16_runs500_fine_grid_32-48.csv'),\n",
    "        pd.read_csv('../data/school/calibration_results/calibration_results_secondary_samples16_runs500_fine_grid_48-64.csv'),\n",
    "        pd.read_csv('../data/school/calibration_results/calibration_results_secondary_samples16_runs500_fine_grid_64-80.csv'),\n",
    "        pd.read_csv('../data/school/calibration_results/calibration_results_secondary_samples16_runs500_fine_grid_80-96.csv'),\n",
    "        pd.read_csv('../data/school/calibration_results/calibration_results_secondary_samples16_runs500_fine_grid_96-112.csv'),\n",
    "        pd.read_csv('../data/school/calibration_results/calibration_results_secondary_samples16_runs500_fine_grid_112-128.csv'),\n",
    "        pd.read_csv('../data/school/calibration_results/calibration_results_secondary_samples16_runs500_fine_grid_128-144.csv')\\\n",
    "                       ])\n",
    "secondary = secondary.reset_index(drop=True)"
   ]
  },
  {
   "cell_type": "code",
   "execution_count": 143,
   "metadata": {},
   "outputs": [],
   "source": [
    "secondary_dc = pd.concat([\\\n",
    "        pd.read_csv('../data/school/calibration_results/calibration_results_secondary_dc_samples16_runs500_fine_grid_0-16.csv'),\n",
    "        pd.read_csv('../data/school/calibration_results/calibration_results_secondary_dc_samples16_runs500_fine_grid_16-32.csv'),\n",
    "        pd.read_csv('../data/school/calibration_results/calibration_results_secondary_dc_samples16_runs500_fine_grid_32-48.csv'),\n",
    "        pd.read_csv('../data/school/calibration_results/calibration_results_secondary_dc_samples16_runs500_fine_grid_48-64.csv'),\n",
    "        pd.read_csv('../data/school/calibration_results/calibration_results_secondary_dc_samples16_runs500_fine_grid_64-80.csv'),\n",
    "        pd.read_csv('../data/school/calibration_results/calibration_results_secondary_dc_samples16_runs500_fine_grid_80-96.csv'),\n",
    "        pd.read_csv('../data/school/calibration_results/calibration_results_secondary_dc_samples16_runs500_fine_grid_96-112.csv'),\n",
    "        pd.read_csv('../data/school/calibration_results/calibration_results_secondary_dc_samples16_runs500_fine_grid_112-128.csv'),\n",
    "        pd.read_csv('../data/school/calibration_results/calibration_results_secondary_dc_samples16_runs500_fine_grid_128-144.csv')\\\n",
    "                       ])\n",
    "secondary_dc = secondary_dc.reset_index(drop=True)"
   ]
  },
  {
   "cell_type": "code",
   "execution_count": 144,
   "metadata": {},
   "outputs": [],
   "source": [
    "fine_results = pd.concat([primary, primary_dc, lower_secondary, \n",
    "                     lower_secondary_dc, upper_secondary,\n",
    "                     secondary, secondary_dc])\n",
    "fine_results = fine_results.reset_index(drop=True)"
   ]
  },
  {
   "cell_type": "code",
   "execution_count": 145,
   "metadata": {},
   "outputs": [],
   "source": [
    "# weighting by number of empirical obesrvations\n",
    "outbreak_sizes = pd.read_csv('../data/school/calibration_data/outbreak_sizes.csv')"
   ]
  },
  {
   "cell_type": "code",
   "execution_count": 146,
   "metadata": {},
   "outputs": [],
   "source": [
    "counts = outbreak_sizes[['type', 'count']]\\\n",
    "    .groupby('type')\\\n",
    "    .sum()"
   ]
  },
  {
   "cell_type": "code",
   "execution_count": 147,
   "metadata": {},
   "outputs": [],
   "source": [
    "counts = pd.DataFrame({'type':['primary', 'primary_dc', \n",
    "                               'lower_secondary', 'lower_secondary_dc',\n",
    "                               'upper_secondary', 'secondary', 'secondary_dc'],\n",
    "                      'count':[33.5, 33.5, 90, 90, 116, 35, 35]})\n",
    "counts.index = counts['type']\n",
    "counts = counts.drop(columns=['type'])\n",
    "counts['weight'] = counts['count'] / counts['count'].sum()"
   ]
  },
  {
   "cell_type": "code",
   "execution_count": 148,
   "metadata": {},
   "outputs": [],
   "source": [
    "fine_results['chi2_distance_total_weighted'] = fine_results['chi2_distance_total']\n",
    "weights = []\n",
    "for i, row in fine_results.iterrows():\n",
    "    st = row['school_type']\n",
    "    weight = counts.loc[st, 'weight']\n",
    "    error = row['chi2_distance_total']\n",
    "    fine_results.loc[i, 'chi2_distance_total_weighted'] = error * weight"
   ]
  },
  {
   "cell_type": "code",
   "execution_count": 149,
   "metadata": {},
   "outputs": [],
   "source": [
    "agg_results = fine_results.groupby(['age_transmission_discount', 'intermediate_contact_weight',\n",
    "                 'far_contact_weight']).sum()"
   ]
  },
  {
   "cell_type": "code",
   "execution_count": 150,
   "metadata": {},
   "outputs": [
    {
     "data": {
      "text/plain": [
       "chi2_distance_distro            0.157357\n",
       "chi2_distance_size              0.076794\n",
       "chi2_distance_total             0.234151\n",
       "sum_of_squares_distro           0.229675\n",
       "sum_of_squares_size             0.091339\n",
       "sum_of_squares_total            0.321013\n",
       "chi2_distance_total_weighted    0.026186\n",
       "Name: (-0.028999999999999998, 0.32, 0.21), dtype: float64"
      ]
     },
     "execution_count": 150,
     "metadata": {},
     "output_type": "execute_result"
    }
   ],
   "source": [
    "agg_results.loc[agg_results['chi2_distance_total'].idxmin()]"
   ]
  },
  {
   "cell_type": "code",
   "execution_count": 226,
   "metadata": {},
   "outputs": [
    {
     "data": {
      "text/plain": [
       "chi2_distance_distro            0.163133\n",
       "chi2_distance_size              0.097702\n",
       "chi2_distance_total             0.260835\n",
       "sum_of_squares_distro           0.238421\n",
       "sum_of_squares_size             0.114959\n",
       "sum_of_squares_total            0.353380\n",
       "chi2_distance_total_weighted    0.027247\n",
       "Name: (-0.04, 0.3, 0.25), dtype: float64"
      ]
     },
     "execution_count": 226,
     "metadata": {},
     "output_type": "execute_result"
    }
   ],
   "source": [
    "agg_results.loc[agg_results['chi2_distance_total_weighted'].idxmin()]"
   ]
  },
  {
   "cell_type": "code",
   "execution_count": 190,
   "metadata": {},
   "outputs": [
    {
     "data": {
      "text/html": [
       "<div>\n",
       "<style scoped>\n",
       "    .dataframe tbody tr th:only-of-type {\n",
       "        vertical-align: middle;\n",
       "    }\n",
       "\n",
       "    .dataframe tbody tr th {\n",
       "        vertical-align: top;\n",
       "    }\n",
       "\n",
       "    .dataframe thead th {\n",
       "        text-align: right;\n",
       "    }\n",
       "</style>\n",
       "<table border=\"1\" class=\"dataframe\">\n",
       "  <thead>\n",
       "    <tr style=\"text-align: right;\">\n",
       "      <th></th>\n",
       "      <th></th>\n",
       "      <th></th>\n",
       "      <th>chi2_distance_distro</th>\n",
       "      <th>chi2_distance_size</th>\n",
       "      <th>chi2_distance_total</th>\n",
       "      <th>sum_of_squares_distro</th>\n",
       "      <th>sum_of_squares_size</th>\n",
       "      <th>sum_of_squares_total</th>\n",
       "    </tr>\n",
       "    <tr>\n",
       "      <th>age_transmission_discount</th>\n",
       "      <th>intermediate_contact_weight</th>\n",
       "      <th>far_contact_weight</th>\n",
       "      <th></th>\n",
       "      <th></th>\n",
       "      <th></th>\n",
       "      <th></th>\n",
       "      <th></th>\n",
       "      <th></th>\n",
       "    </tr>\n",
       "  </thead>\n",
       "  <tbody>\n",
       "    <tr>\n",
       "      <th rowspan=\"5\" valign=\"top\">-0.04</th>\n",
       "      <th rowspan=\"4\" valign=\"top\">0.30</th>\n",
       "      <th>0.10</th>\n",
       "      <td>0.228662</td>\n",
       "      <td>0.115620</td>\n",
       "      <td>0.344282</td>\n",
       "      <td>0.333038</td>\n",
       "      <td>0.135048</td>\n",
       "      <td>0.468086</td>\n",
       "    </tr>\n",
       "    <tr>\n",
       "      <th>0.15</th>\n",
       "      <td>0.205456</td>\n",
       "      <td>0.109266</td>\n",
       "      <td>0.314722</td>\n",
       "      <td>0.299174</td>\n",
       "      <td>0.127734</td>\n",
       "      <td>0.426908</td>\n",
       "    </tr>\n",
       "    <tr>\n",
       "      <th>0.20</th>\n",
       "      <td>0.189567</td>\n",
       "      <td>0.100339</td>\n",
       "      <td>0.289905</td>\n",
       "      <td>0.276711</td>\n",
       "      <td>0.117723</td>\n",
       "      <td>0.394433</td>\n",
       "    </tr>\n",
       "    <tr>\n",
       "      <th>0.25</th>\n",
       "      <td>0.163133</td>\n",
       "      <td>0.097702</td>\n",
       "      <td>0.260835</td>\n",
       "      <td>0.238421</td>\n",
       "      <td>0.114959</td>\n",
       "      <td>0.353380</td>\n",
       "    </tr>\n",
       "    <tr>\n",
       "      <th>0.35</th>\n",
       "      <th>0.10</th>\n",
       "      <td>0.243367</td>\n",
       "      <td>0.111059</td>\n",
       "      <td>0.354425</td>\n",
       "      <td>0.354359</td>\n",
       "      <td>0.130185</td>\n",
       "      <td>0.484545</td>\n",
       "    </tr>\n",
       "    <tr>\n",
       "      <th>...</th>\n",
       "      <th>...</th>\n",
       "      <th>...</th>\n",
       "      <td>...</td>\n",
       "      <td>...</td>\n",
       "      <td>...</td>\n",
       "      <td>...</td>\n",
       "      <td>...</td>\n",
       "      <td>...</td>\n",
       "    </tr>\n",
       "    <tr>\n",
       "      <th rowspan=\"5\" valign=\"top\">-0.02</th>\n",
       "      <th rowspan=\"5\" valign=\"top\">0.50</th>\n",
       "      <th>0.10</th>\n",
       "      <td>0.264317</td>\n",
       "      <td>0.115294</td>\n",
       "      <td>0.379611</td>\n",
       "      <td>0.382233</td>\n",
       "      <td>0.140443</td>\n",
       "      <td>0.522677</td>\n",
       "    </tr>\n",
       "    <tr>\n",
       "      <th>0.15</th>\n",
       "      <td>0.238219</td>\n",
       "      <td>0.106963</td>\n",
       "      <td>0.345182</td>\n",
       "      <td>0.345420</td>\n",
       "      <td>0.131729</td>\n",
       "      <td>0.477149</td>\n",
       "    </tr>\n",
       "    <tr>\n",
       "      <th>0.20</th>\n",
       "      <td>0.209960</td>\n",
       "      <td>0.111195</td>\n",
       "      <td>0.321155</td>\n",
       "      <td>0.305745</td>\n",
       "      <td>0.139023</td>\n",
       "      <td>0.444768</td>\n",
       "    </tr>\n",
       "    <tr>\n",
       "      <th>0.25</th>\n",
       "      <td>0.201257</td>\n",
       "      <td>0.125675</td>\n",
       "      <td>0.326932</td>\n",
       "      <td>0.292643</td>\n",
       "      <td>0.155708</td>\n",
       "      <td>0.448351</td>\n",
       "    </tr>\n",
       "    <tr>\n",
       "      <th>0.30</th>\n",
       "      <td>0.211069</td>\n",
       "      <td>0.141939</td>\n",
       "      <td>0.353007</td>\n",
       "      <td>0.307221</td>\n",
       "      <td>0.179714</td>\n",
       "      <td>0.486935</td>\n",
       "    </tr>\n",
       "  </tbody>\n",
       "</table>\n",
       "<p>120 rows × 6 columns</p>\n",
       "</div>"
      ],
      "text/plain": [
       "                                                                          chi2_distance_distro  \\\n",
       "age_transmission_discount intermediate_contact_weight far_contact_weight                         \n",
       "-0.04                     0.30                        0.10                            0.228662   \n",
       "                                                      0.15                            0.205456   \n",
       "                                                      0.20                            0.189567   \n",
       "                                                      0.25                            0.163133   \n",
       "                          0.35                        0.10                            0.243367   \n",
       "...                                                                                        ...   \n",
       "-0.02                     0.50                        0.10                            0.264317   \n",
       "                                                      0.15                            0.238219   \n",
       "                                                      0.20                            0.209960   \n",
       "                                                      0.25                            0.201257   \n",
       "                                                      0.30                            0.211069   \n",
       "\n",
       "                                                                          chi2_distance_size  \\\n",
       "age_transmission_discount intermediate_contact_weight far_contact_weight                       \n",
       "-0.04                     0.30                        0.10                          0.115620   \n",
       "                                                      0.15                          0.109266   \n",
       "                                                      0.20                          0.100339   \n",
       "                                                      0.25                          0.097702   \n",
       "                          0.35                        0.10                          0.111059   \n",
       "...                                                                                      ...   \n",
       "-0.02                     0.50                        0.10                          0.115294   \n",
       "                                                      0.15                          0.106963   \n",
       "                                                      0.20                          0.111195   \n",
       "                                                      0.25                          0.125675   \n",
       "                                                      0.30                          0.141939   \n",
       "\n",
       "                                                                          chi2_distance_total  \\\n",
       "age_transmission_discount intermediate_contact_weight far_contact_weight                        \n",
       "-0.04                     0.30                        0.10                           0.344282   \n",
       "                                                      0.15                           0.314722   \n",
       "                                                      0.20                           0.289905   \n",
       "                                                      0.25                           0.260835   \n",
       "                          0.35                        0.10                           0.354425   \n",
       "...                                                                                       ...   \n",
       "-0.02                     0.50                        0.10                           0.379611   \n",
       "                                                      0.15                           0.345182   \n",
       "                                                      0.20                           0.321155   \n",
       "                                                      0.25                           0.326932   \n",
       "                                                      0.30                           0.353007   \n",
       "\n",
       "                                                                          sum_of_squares_distro  \\\n",
       "age_transmission_discount intermediate_contact_weight far_contact_weight                          \n",
       "-0.04                     0.30                        0.10                             0.333038   \n",
       "                                                      0.15                             0.299174   \n",
       "                                                      0.20                             0.276711   \n",
       "                                                      0.25                             0.238421   \n",
       "                          0.35                        0.10                             0.354359   \n",
       "...                                                                                         ...   \n",
       "-0.02                     0.50                        0.10                             0.382233   \n",
       "                                                      0.15                             0.345420   \n",
       "                                                      0.20                             0.305745   \n",
       "                                                      0.25                             0.292643   \n",
       "                                                      0.30                             0.307221   \n",
       "\n",
       "                                                                          sum_of_squares_size  \\\n",
       "age_transmission_discount intermediate_contact_weight far_contact_weight                        \n",
       "-0.04                     0.30                        0.10                           0.135048   \n",
       "                                                      0.15                           0.127734   \n",
       "                                                      0.20                           0.117723   \n",
       "                                                      0.25                           0.114959   \n",
       "                          0.35                        0.10                           0.130185   \n",
       "...                                                                                       ...   \n",
       "-0.02                     0.50                        0.10                           0.140443   \n",
       "                                                      0.15                           0.131729   \n",
       "                                                      0.20                           0.139023   \n",
       "                                                      0.25                           0.155708   \n",
       "                                                      0.30                           0.179714   \n",
       "\n",
       "                                                                          sum_of_squares_total  \n",
       "age_transmission_discount intermediate_contact_weight far_contact_weight                        \n",
       "-0.04                     0.30                        0.10                            0.468086  \n",
       "                                                      0.15                            0.426908  \n",
       "                                                      0.20                            0.394433  \n",
       "                                                      0.25                            0.353380  \n",
       "                          0.35                        0.10                            0.484545  \n",
       "...                                                                                        ...  \n",
       "-0.02                     0.50                        0.10                            0.522677  \n",
       "                                                      0.15                            0.477149  \n",
       "                                                      0.20                            0.444768  \n",
       "                                                      0.25                            0.448351  \n",
       "                                                      0.30                            0.486935  \n",
       "\n",
       "[120 rows x 6 columns]"
      ]
     },
     "execution_count": 190,
     "metadata": {},
     "output_type": "execute_result"
    }
   ],
   "source": [
    "agg_results"
   ]
  },
  {
   "cell_type": "code",
   "execution_count": 189,
   "metadata": {},
   "outputs": [
    {
     "data": {
      "text/plain": [
       "(-0.04, 0.35, 0.3)"
      ]
     },
     "execution_count": 189,
     "metadata": {},
     "output_type": "execute_result"
    }
   ],
   "source": [
    "agg_results['chi2_distance_total'].idxmin()"
   ]
  },
  {
   "cell_type": "markdown",
   "metadata": {},
   "source": [
    "### With ventilation"
   ]
  },
  {
   "cell_type": "markdown",
   "metadata": {},
   "source": [
    "#### Random grid search"
   ]
  },
  {
   "cell_type": "code",
   "execution_count": 83,
   "metadata": {},
   "outputs": [],
   "source": [
    "primary = pd.concat([\\\n",
    "        pd.read_csv('../data/school/calibration_results/ventilation/calibration_results_primary_samples25_runs500_random_0-25.csv'),\n",
    "        pd.read_csv('../data/school/calibration_results/ventilation/calibration_results_primary_samples25_runs500_random_25-50.csv'),\n",
    "        pd.read_csv('../data/school/calibration_results/ventilation/calibration_results_primary_samples25_runs500_random_50-75.csv'),\n",
    "        pd.read_csv('../data/school/calibration_results/ventilation/calibration_results_primary_samples25_runs500_random_75-100.csv') \n",
    "        ])\n",
    "primary = primary.reset_index(drop=True)"
   ]
  },
  {
   "cell_type": "code",
   "execution_count": 84,
   "metadata": {},
   "outputs": [],
   "source": [
    "primary_dc = pd.concat([\\\n",
    "        pd.read_csv('../data/school/calibration_results/ventilation/calibration_results_primary_dc_samples25_runs500_random_0-25.csv'),\n",
    "        pd.read_csv('../data/school/calibration_results/ventilation/calibration_results_primary_dc_samples25_runs500_random_25-50.csv'),\n",
    "        pd.read_csv('../data/school/calibration_results/ventilation/calibration_results_primary_dc_samples25_runs500_random_50-75.csv'),\n",
    "        pd.read_csv('../data/school/calibration_results/ventilation/calibration_results_primary_dc_samples25_runs500_random_75-100.csv') \n",
    "        ])\n",
    "primary_dc = primary_dc.reset_index(drop=True)"
   ]
  },
  {
   "cell_type": "code",
   "execution_count": 85,
   "metadata": {},
   "outputs": [],
   "source": [
    "lower_secondary = pd.concat([\\\n",
    "        pd.read_csv('../data/school/calibration_results/ventilation/calibration_results_lower_secondary_samples25_runs500_random_0-25.csv'),\n",
    "        pd.read_csv('../data/school/calibration_results/ventilation/calibration_results_lower_secondary_samples25_runs500_random_25-50.csv'),\n",
    "        pd.read_csv('../data/school/calibration_results/ventilation/calibration_results_lower_secondary_samples25_runs500_random_0-25.csv'),\n",
    "        pd.read_csv('../data/school/calibration_results/ventilation/calibration_results_lower_secondary_samples25_runs500_random_25-50.csv')\n",
    "                       ])\n",
    "lower_secondary = lower_secondary.reset_index(drop=True)"
   ]
  },
  {
   "cell_type": "code",
   "execution_count": 86,
   "metadata": {},
   "outputs": [],
   "source": [
    "lower_secondary_dc = pd.concat([\\\n",
    "        pd.read_csv('../data/school/calibration_results/ventilation/calibration_results_lower_secondary_dc_samples25_runs500_random_0-25.csv'),\n",
    "        pd.read_csv('../data/school/calibration_results/ventilation/calibration_results_lower_secondary_dc_samples25_runs500_random_25-50.csv'),\n",
    "        pd.read_csv('../data/school/calibration_results/ventilation/calibration_results_lower_secondary_dc_samples25_runs500_random_0-25.csv'),\n",
    "        pd.read_csv('../data/school/calibration_results/ventilation/calibration_results_lower_secondary_dc_samples25_runs500_random_25-50.csv')\n",
    "                       ])\n",
    "lower_secondary_dc = lower_secondary_dc.reset_index(drop=True)"
   ]
  },
  {
   "cell_type": "code",
   "execution_count": 87,
   "metadata": {},
   "outputs": [],
   "source": [
    "upper_secondary = pd.concat([\\\n",
    "        pd.read_csv('../data/school/calibration_results/ventilation/calibration_results_upper_secondary_samples25_runs500_random_0-25.csv'),\n",
    "        pd.read_csv('../data/school/calibration_results/ventilation/calibration_results_upper_secondary_samples25_runs500_random_25-50.csv'),\n",
    "        pd.read_csv('../data/school/calibration_results/ventilation/calibration_results_upper_secondary_samples25_runs500_random_0-25.csv'),\n",
    "        pd.read_csv('../data/school/calibration_results/ventilation/calibration_results_upper_secondary_samples25_runs500_random_25-50.csv')\n",
    "                       ])\n",
    "upper_secondary = upper_secondary.reset_index(drop=True)"
   ]
  },
  {
   "cell_type": "code",
   "execution_count": 88,
   "metadata": {},
   "outputs": [],
   "source": [
    "secondary = pd.concat([\\\n",
    "        pd.read_csv('../data/school/calibration_results/ventilation/calibration_results_secondary_samples10_runs500_random_0-10.csv'),\n",
    "        pd.read_csv('../data/school/calibration_results/ventilation/calibration_results_secondary_samples10_runs500_random_10-20.csv'),\n",
    "        pd.read_csv('../data/school/calibration_results/ventilation/calibration_results_secondary_samples10_runs500_random_20-30.csv'),\n",
    "        pd.read_csv('../data/school/calibration_results/ventilation/calibration_results_secondary_samples10_runs500_random_30-40.csv'),\n",
    "        pd.read_csv('../data/school/calibration_results/ventilation/calibration_results_secondary_samples10_runs500_random_40-50.csv'),\n",
    "        pd.read_csv('../data/school/calibration_results/ventilation/calibration_results_secondary_samples10_runs500_random_50-60.csv'),\n",
    "        pd.read_csv('../data/school/calibration_results/ventilation/calibration_results_secondary_samples10_runs500_random_60-70.csv'),\n",
    "        pd.read_csv('../data/school/calibration_results/ventilation/calibration_results_secondary_samples10_runs500_random_70-80.csv'),\n",
    "        pd.read_csv('../data/school/calibration_results/ventilation/calibration_results_secondary_samples10_runs500_random_80-90.csv'),\n",
    "        pd.read_csv('../data/school/calibration_results/ventilation/calibration_results_secondary_samples10_runs500_random_90-100.csv')\n",
    "                       ])\n",
    "secondary = secondary.reset_index(drop=True)"
   ]
  },
  {
   "cell_type": "code",
   "execution_count": 89,
   "metadata": {},
   "outputs": [],
   "source": [
    "secondary_dc = pd.concat([\\\n",
    "        pd.read_csv('../data/school/calibration_results/ventilation/calibration_results_secondary_dc_samples10_runs500_random_0-10.csv'),\n",
    "        pd.read_csv('../data/school/calibration_results/ventilation/calibration_results_secondary_dc_samples10_runs500_random_10-20.csv'),\n",
    "        pd.read_csv('../data/school/calibration_results/ventilation/calibration_results_secondary_dc_samples10_runs500_random_20-30.csv'),\n",
    "        pd.read_csv('../data/school/calibration_results/ventilation/calibration_results_secondary_dc_samples10_runs500_random_30-40.csv'),\n",
    "        pd.read_csv('../data/school/calibration_results/ventilation/calibration_results_secondary_dc_samples10_runs500_random_40-50.csv'),\n",
    "        pd.read_csv('../data/school/calibration_results/ventilation/calibration_results_secondary_dc_samples10_runs500_random_50-60.csv'),\n",
    "        pd.read_csv('../data/school/calibration_results/ventilation/calibration_results_secondary_dc_samples10_runs500_random_60-70.csv'),\n",
    "        pd.read_csv('../data/school/calibration_results/ventilation/calibration_results_secondary_dc_samples10_runs500_random_70-80.csv'),\n",
    "        pd.read_csv('../data/school/calibration_results/ventilation/calibration_results_secondary_dc_samples10_runs500_random_80-90.csv'),\n",
    "        pd.read_csv('../data/school/calibration_results/ventilation/calibration_results_secondary_dc_samples10_runs500_random_90-100.csv')\n",
    "                       ])\n",
    "secondary_dc = secondary_dc.reset_index(drop=True)"
   ]
  },
  {
   "cell_type": "code",
   "execution_count": 90,
   "metadata": {},
   "outputs": [],
   "source": [
    "random_results = pd.concat([primary, primary_dc, lower_secondary, \n",
    "                     lower_secondary_dc, upper_secondary,\n",
    "                     secondary, secondary_dc])\n",
    "random_results = random_results.reset_index(drop=True)"
   ]
  },
  {
   "cell_type": "code",
   "execution_count": 91,
   "metadata": {},
   "outputs": [],
   "source": [
    "# from ../data/school/calibration_data/outbreak_sizes.csv\n",
    "counts = pd.DataFrame({'type':['primary', 'primary_dc', \n",
    "                               'lower_secondary', 'lower_secondary_dc',\n",
    "                               'upper_secondary', 'secondary', 'secondary_dc'],\n",
    "                      'count':[33.5, 33.5, 90, 90, 116, 35, 35]})\n",
    "counts.index = counts['type']\n",
    "counts = counts.drop(columns=['type'])\n",
    "counts['weight'] = counts['count'] / counts['count'].sum()\n",
    "random_results['chi2_distance_total_weighted'] = random_results['chi2_distance_total']\n",
    "weights = []\n",
    "for i, row in random_results.iterrows():\n",
    "    st = row['school_type']\n",
    "    weight = counts.loc[st, 'weight']\n",
    "    error = row['chi2_distance_total']\n",
    "    random_results.loc[i, 'chi2_distance_total_weighted'] = error * weight"
   ]
  },
  {
   "cell_type": "code",
   "execution_count": 92,
   "metadata": {},
   "outputs": [
    {
     "data": {
      "text/plain": [
       "chi2_distance_distro            0.130412\n",
       "chi2_distance_size              0.044697\n",
       "chi2_distance_total             0.175109\n",
       "sum_of_squares_distro           0.190902\n",
       "sum_of_squares_size             0.048674\n",
       "sum_of_squares_total            0.239576\n",
       "chi2_distance_total_weighted    0.013730\n",
       "Name: (-0.01999999999999999, 0.8500000000000001, 0.75), dtype: float64"
      ]
     },
     "execution_count": 92,
     "metadata": {},
     "output_type": "execute_result"
    }
   ],
   "source": [
    "agg_results = random_results.groupby(['age_transmission_discount', 'intermediate_contact_weight',\n",
    "                 'far_contact_weight']).sum()\n",
    "agg_results.loc[agg_results['chi2_distance_total_weighted'].idxmin()]"
   ]
  },
  {
   "cell_type": "markdown",
   "metadata": {},
   "source": [
    "#### Grid search"
   ]
  },
  {
   "cell_type": "code",
   "execution_count": 104,
   "metadata": {},
   "outputs": [],
   "source": [
    "primary = pd.concat([\\\n",
    "        pd.read_csv('../data/school/calibration_results/ventilation/calibration_results_primary_samples25_runs500_random_0-25.csv'),\n",
    "        pd.read_csv('../data/school/calibration_results/ventilation/calibration_results_primary_samples25_runs500_random_25-50.csv'),\n",
    "        pd.read_csv('../data/school/calibration_results/ventilation/calibration_results_primary_samples25_runs500_random_50-75.csv'),\n",
    "        pd.read_csv('../data/school/calibration_results/ventilation/calibration_results_primary_samples25_runs500_random_75-100.csv'),\n",
    "        pd.read_csv('../data/school/calibration_results/ventilation_grid/calibration_results_primary_samples50_runs500_grid_0-50.csv'),\n",
    "        pd.read_csv('../data/school/calibration_results/ventilation_grid/calibration_results_primary_samples55_runs500_grid_50-105.csv') \n",
    "        ])\n",
    "primary = primary.reset_index(drop=True)"
   ]
  },
  {
   "cell_type": "code",
   "execution_count": 105,
   "metadata": {},
   "outputs": [],
   "source": [
    "primary_dc = pd.concat([\\\n",
    "        pd.read_csv('../data/school/calibration_results/ventilation_grid/calibration_results_primary_dc_samples50_runs500_grid_0-50.csv'),\n",
    "        pd.read_csv('../data/school/calibration_results/ventilation_grid/calibration_results_primary_dc_samples55_runs500_grid_50-105.csv'), \n",
    "        pd.read_csv('../data/school/calibration_results/ventilation/calibration_results_primary_dc_samples25_runs500_random_0-25.csv'),\n",
    "        pd.read_csv('../data/school/calibration_results/ventilation/calibration_results_primary_dc_samples25_runs500_random_25-50.csv'),\n",
    "        pd.read_csv('../data/school/calibration_results/ventilation/calibration_results_primary_dc_samples25_runs500_random_50-75.csv'),\n",
    "        pd.read_csv('../data/school/calibration_results/ventilation/calibration_results_primary_dc_samples25_runs500_random_75-100.csv') \n",
    "        ])\n",
    "primary_dc = primary_dc.reset_index(drop=True)"
   ]
  },
  {
   "cell_type": "code",
   "execution_count": 106,
   "metadata": {},
   "outputs": [],
   "source": [
    "lower_secondary = pd.concat([\\\n",
    "        pd.read_csv('../data/school/calibration_results/ventilation_grid/calibration_results_lower_secondary_samples50_runs500_grid_0-50.csv'),\n",
    "        pd.read_csv('../data/school/calibration_results/ventilation_grid/calibration_results_lower_secondary_samples55_runs500_grid_50-105.csv'), \n",
    "        pd.read_csv('../data/school/calibration_results/ventilation/calibration_results_lower_secondary_samples25_runs500_random_0-25.csv'),\n",
    "        pd.read_csv('../data/school/calibration_results/ventilation/calibration_results_lower_secondary_samples25_runs500_random_25-50.csv'),\n",
    "        pd.read_csv('../data/school/calibration_results/ventilation/calibration_results_lower_secondary_samples25_runs500_random_0-25.csv'),\n",
    "        pd.read_csv('../data/school/calibration_results/ventilation/calibration_results_lower_secondary_samples25_runs500_random_25-50.csv')\n",
    "                     ])\n",
    "lower_secondary = lower_secondary.reset_index(drop=True)"
   ]
  },
  {
   "cell_type": "code",
   "execution_count": 107,
   "metadata": {},
   "outputs": [],
   "source": [
    "lower_secondary_dc = pd.concat([\\\n",
    "        pd.read_csv('../data/school/calibration_results/ventilation_grid/calibration_results_lower_secondary_dc_samples50_runs500_grid_0-50.csv'),\n",
    "        pd.read_csv('../data/school/calibration_results/ventilation_grid/calibration_results_lower_secondary_dc_samples50_runs500_grid_50-100.csv'),\n",
    "        pd.read_csv('../data/school/calibration_results/ventilation_grid/calibration_results_lower_secondary_dc_samples1_runs500_grid_100-101.csv'), \n",
    "        pd.read_csv('../data/school/calibration_results/ventilation_grid/calibration_results_lower_secondary_dc_samples1_runs500_grid_101-102.csv'),\n",
    "        pd.read_csv('../data/school/calibration_results/ventilation_grid/calibration_results_lower_secondary_dc_samples1_runs500_grid_102-103.csv'),\n",
    "        pd.read_csv('../data/school/calibration_results/ventilation_grid/calibration_results_lower_secondary_dc_samples1_runs500_grid_103-104.csv'),\n",
    "        pd.read_csv('../data/school/calibration_results/ventilation_grid/calibration_results_lower_secondary_dc_samples1_runs500_grid_104-105.csv'), \n",
    "        pd.read_csv('../data/school/calibration_results/ventilation/calibration_results_lower_secondary_dc_samples25_runs500_random_0-25.csv'),\n",
    "        pd.read_csv('../data/school/calibration_results/ventilation/calibration_results_lower_secondary_dc_samples25_runs500_random_25-50.csv'),\n",
    "        pd.read_csv('../data/school/calibration_results/ventilation/calibration_results_lower_secondary_dc_samples25_runs500_random_0-25.csv'),\n",
    "        pd.read_csv('../data/school/calibration_results/ventilation/calibration_results_lower_secondary_dc_samples25_runs500_random_25-50.csv')\n",
    "                      ])\n",
    "lower_secondary_dc = lower_secondary_dc.reset_index(drop=True)"
   ]
  },
  {
   "cell_type": "code",
   "execution_count": 108,
   "metadata": {},
   "outputs": [],
   "source": [
    "upper_secondary = pd.concat([\\\n",
    "        pd.read_csv('../data/school/calibration_results/ventilation_grid/calibration_results_upper_secondary_samples25_runs500_grid_0-25.csv'),\n",
    "        pd.read_csv('../data/school/calibration_results/ventilation_grid/calibration_results_upper_secondary_samples25_runs500_grid_25-50.csv'), \n",
    "        pd.read_csv('../data/school/calibration_results/ventilation_grid/calibration_results_upper_secondary_samples25_runs500_grid_50-75.csv'),\n",
    "        pd.read_csv('../data/school/calibration_results/ventilation_grid/calibration_results_upper_secondary_samples30_runs500_grid_75-105.csv'),\n",
    "        pd.read_csv('../data/school/calibration_results/ventilation/calibration_results_upper_secondary_samples25_runs500_random_0-25.csv'),\n",
    "        pd.read_csv('../data/school/calibration_results/ventilation/calibration_results_upper_secondary_samples25_runs500_random_25-50.csv'),\n",
    "        pd.read_csv('../data/school/calibration_results/ventilation/calibration_results_upper_secondary_samples25_runs500_random_0-25.csv'),\n",
    "        pd.read_csv('../data/school/calibration_results/ventilation/calibration_results_upper_secondary_samples25_runs500_random_25-50.csv')\n",
    "                                       ])\n",
    "upper_secondary = upper_secondary.reset_index(drop=True)"
   ]
  },
  {
   "cell_type": "code",
   "execution_count": 109,
   "metadata": {},
   "outputs": [],
   "source": [
    "secondary = pd.concat([\\\n",
    "        pd.read_csv('../data/school/calibration_results/ventilation_grid/calibration_results_secondary_samples10_runs500_grid_0-10.csv'),\n",
    "        pd.read_csv('../data/school/calibration_results/ventilation_grid/calibration_results_secondary_samples10_runs500_grid_10-20.csv'), \n",
    "        pd.read_csv('../data/school/calibration_results/ventilation_grid/calibration_results_secondary_samples10_runs500_grid_20-30.csv'),\n",
    "        pd.read_csv('../data/school/calibration_results/ventilation_grid/calibration_results_secondary_samples10_runs500_grid_30-40.csv'),\n",
    "        pd.read_csv('../data/school/calibration_results/ventilation_grid/calibration_results_secondary_samples10_runs500_grid_40-50.csv'),\n",
    "        pd.read_csv('../data/school/calibration_results/ventilation_grid/calibration_results_secondary_samples10_runs500_grid_50-60.csv'), \n",
    "        pd.read_csv('../data/school/calibration_results/ventilation_grid/calibration_results_secondary_samples10_runs500_grid_60-70.csv'),\n",
    "        pd.read_csv('../data/school/calibration_results/ventilation_grid/calibration_results_secondary_samples10_runs500_grid_70-80.csv'),\n",
    "        pd.read_csv('../data/school/calibration_results/ventilation_grid/calibration_results_secondary_samples10_runs500_grid_80-90.csv'),\n",
    "        pd.read_csv('../data/school/calibration_results/ventilation_grid/calibration_results_secondary_samples15_runs500_grid_90-105.csv'),\n",
    "        pd.read_csv('../data/school/calibration_results/ventilation/calibration_results_secondary_samples10_runs500_random_0-10.csv'),\n",
    "        pd.read_csv('../data/school/calibration_results/ventilation/calibration_results_secondary_samples10_runs500_random_10-20.csv'),\n",
    "        pd.read_csv('../data/school/calibration_results/ventilation/calibration_results_secondary_samples10_runs500_random_20-30.csv'),\n",
    "        pd.read_csv('../data/school/calibration_results/ventilation/calibration_results_secondary_samples10_runs500_random_30-40.csv'),\n",
    "        pd.read_csv('../data/school/calibration_results/ventilation/calibration_results_secondary_samples10_runs500_random_40-50.csv'),\n",
    "        pd.read_csv('../data/school/calibration_results/ventilation/calibration_results_secondary_samples10_runs500_random_50-60.csv'),\n",
    "        pd.read_csv('../data/school/calibration_results/ventilation/calibration_results_secondary_samples10_runs500_random_60-70.csv'),\n",
    "        pd.read_csv('../data/school/calibration_results/ventilation/calibration_results_secondary_samples10_runs500_random_70-80.csv'),\n",
    "        pd.read_csv('../data/school/calibration_results/ventilation/calibration_results_secondary_samples10_runs500_random_80-90.csv'),\n",
    "        pd.read_csv('../data/school/calibration_results/ventilation/calibration_results_secondary_samples10_runs500_random_90-100.csv')\n",
    "                                    ])\n",
    "secondary = secondary.reset_index(drop=True)"
   ]
  },
  {
   "cell_type": "code",
   "execution_count": 110,
   "metadata": {},
   "outputs": [],
   "source": [
    "secondary_dc = pd.concat([\\\n",
    "        pd.read_csv('../data/school/calibration_results/ventilation_grid/calibration_results_secondary_dc_samples10_runs500_grid_0-10.csv'),\n",
    "        pd.read_csv('../data/school/calibration_results/ventilation_grid/calibration_results_secondary_dc_samples10_runs500_grid_10-20.csv'), \n",
    "        pd.read_csv('../data/school/calibration_results/ventilation_grid/calibration_results_secondary_dc_samples10_runs500_grid_20-30.csv'),\n",
    "        pd.read_csv('../data/school/calibration_results/ventilation_grid/calibration_results_secondary_dc_samples10_runs500_grid_30-40.csv'),\n",
    "        pd.read_csv('../data/school/calibration_results/ventilation_grid/calibration_results_secondary_dc_samples10_runs500_grid_40-50.csv'),\n",
    "        pd.read_csv('../data/school/calibration_results/ventilation_grid/calibration_results_secondary_dc_samples10_runs500_grid_50-60.csv'), \n",
    "        pd.read_csv('../data/school/calibration_results/ventilation_grid/calibration_results_secondary_dc_samples10_runs500_grid_60-70.csv'),\n",
    "        pd.read_csv('../data/school/calibration_results/ventilation_grid/calibration_results_secondary_dc_samples10_runs500_grid_70-80.csv'),\n",
    "        pd.read_csv('../data/school/calibration_results/ventilation_grid/calibration_results_secondary_dc_samples10_runs500_grid_80-90.csv'),\n",
    "        pd.read_csv('../data/school/calibration_results/ventilation_grid/calibration_results_secondary_dc_samples10_runs500_grid_90-100.csv'),\n",
    "        pd.read_csv('../data/school/calibration_results/ventilation_grid/calibration_results_secondary_dc_samples1_runs500_grid_100-101.csv'), \n",
    "        pd.read_csv('../data/school/calibration_results/ventilation_grid/calibration_results_secondary_dc_samples1_runs500_grid_101-102.csv'),\n",
    "        pd.read_csv('../data/school/calibration_results/ventilation_grid/calibration_results_secondary_dc_samples1_runs500_grid_102-103.csv'),\n",
    "        pd.read_csv('../data/school/calibration_results/ventilation_grid/calibration_results_secondary_dc_samples1_runs500_grid_103-104.csv'),\n",
    "        pd.read_csv('../data/school/calibration_results/ventilation_grid/calibration_results_secondary_dc_samples1_runs500_grid_104-105.csv'),                 \n",
    "        pd.read_csv('../data/school/calibration_results/ventilation/calibration_results_secondary_dc_samples10_runs500_random_0-10.csv'),\n",
    "        pd.read_csv('../data/school/calibration_results/ventilation/calibration_results_secondary_dc_samples10_runs500_random_10-20.csv'),\n",
    "        pd.read_csv('../data/school/calibration_results/ventilation/calibration_results_secondary_dc_samples10_runs500_random_20-30.csv'),\n",
    "        pd.read_csv('../data/school/calibration_results/ventilation/calibration_results_secondary_dc_samples10_runs500_random_30-40.csv'),\n",
    "        pd.read_csv('../data/school/calibration_results/ventilation/calibration_results_secondary_dc_samples10_runs500_random_40-50.csv'),\n",
    "        pd.read_csv('../data/school/calibration_results/ventilation/calibration_results_secondary_dc_samples10_runs500_random_50-60.csv'),\n",
    "        pd.read_csv('../data/school/calibration_results/ventilation/calibration_results_secondary_dc_samples10_runs500_random_60-70.csv'),\n",
    "        pd.read_csv('../data/school/calibration_results/ventilation/calibration_results_secondary_dc_samples10_runs500_random_70-80.csv'),\n",
    "        pd.read_csv('../data/school/calibration_results/ventilation/calibration_results_secondary_dc_samples10_runs500_random_80-90.csv'),\n",
    "        pd.read_csv('../data/school/calibration_results/ventilation/calibration_results_secondary_dc_samples10_runs500_random_90-100.csv')\n",
    "                                   ])\n",
    "secondary_dc = secondary_dc.reset_index(drop=True)"
   ]
  },
  {
   "cell_type": "code",
   "execution_count": 111,
   "metadata": {},
   "outputs": [],
   "source": [
    "grid_results = pd.concat([primary, primary_dc, lower_secondary, \n",
    "                     lower_secondary_dc, upper_secondary,\n",
    "                     secondary, secondary_dc])\n",
    "grid_results = grid_results.reset_index(drop=True)"
   ]
  },
  {
   "cell_type": "code",
   "execution_count": 112,
   "metadata": {},
   "outputs": [],
   "source": [
    "# from ../data/school/calibration_data/outbreak_sizes.csv\n",
    "counts = pd.DataFrame({'type':['primary', 'primary_dc', \n",
    "                               'lower_secondary', 'lower_secondary_dc',\n",
    "                               'upper_secondary', 'secondary', 'secondary_dc'],\n",
    "                      'count':[33.5, 33.5, 90, 90, 116, 35, 35]})\n",
    "counts.index = counts['type']\n",
    "counts = counts.drop(columns=['type'])\n",
    "counts['weight'] = counts['count'] / counts['count'].sum()\n",
    "grid_results['chi2_distance_total_weighted'] = grid_results['chi2_distance_total']\n",
    "weights = []\n",
    "for i, row in grid_results.iterrows():\n",
    "    st = row['school_type']\n",
    "    weight = counts.loc[st, 'weight']\n",
    "    error = row['chi2_distance_total']\n",
    "    grid_results.loc[i, 'chi2_distance_total_weighted'] = error * weight"
   ]
  },
  {
   "cell_type": "code",
   "execution_count": 113,
   "metadata": {},
   "outputs": [
    {
     "data": {
      "text/plain": [
       "chi2_distance_distro            0.130412\n",
       "chi2_distance_size              0.044697\n",
       "chi2_distance_total             0.175109\n",
       "sum_of_squares_distro           0.190902\n",
       "sum_of_squares_size             0.048674\n",
       "sum_of_squares_total            0.239576\n",
       "chi2_distance_total_weighted    0.013730\n",
       "Name: (-0.01999999999999999, 0.8500000000000001, 0.75), dtype: float64"
      ]
     },
     "execution_count": 113,
     "metadata": {},
     "output_type": "execute_result"
    }
   ],
   "source": [
    "agg_results = grid_results.groupby(['age_transmission_discount', 'intermediate_contact_weight',\n",
    "                 'far_contact_weight']).sum()\n",
    "agg_results.loc[agg_results['chi2_distance_total_weighted'].idxmin()]"
   ]
  },
  {
   "cell_type": "markdown",
   "metadata": {},
   "source": [
    "## Visualize calibration results"
   ]
  },
  {
   "cell_type": "code",
   "execution_count": 159,
   "metadata": {},
   "outputs": [
    {
     "data": {
      "text/html": [
       "<div>\n",
       "<style scoped>\n",
       "    .dataframe tbody tr th:only-of-type {\n",
       "        vertical-align: middle;\n",
       "    }\n",
       "\n",
       "    .dataframe tbody tr th {\n",
       "        vertical-align: top;\n",
       "    }\n",
       "\n",
       "    .dataframe thead th {\n",
       "        text-align: right;\n",
       "    }\n",
       "</style>\n",
       "<table border=\"1\" class=\"dataframe\">\n",
       "  <thead>\n",
       "    <tr style=\"text-align: right;\">\n",
       "      <th></th>\n",
       "      <th></th>\n",
       "      <th></th>\n",
       "      <th>chi2_distance_distro</th>\n",
       "      <th>chi2_distance_size</th>\n",
       "      <th>chi2_distance_total</th>\n",
       "      <th>sum_of_squares_distro</th>\n",
       "      <th>sum_of_squares_size</th>\n",
       "      <th>sum_of_squares_total</th>\n",
       "    </tr>\n",
       "    <tr>\n",
       "      <th>age_transmission_discount</th>\n",
       "      <th>intermediate_contact_weight</th>\n",
       "      <th>far_contact_weight</th>\n",
       "      <th></th>\n",
       "      <th></th>\n",
       "      <th></th>\n",
       "      <th></th>\n",
       "      <th></th>\n",
       "      <th></th>\n",
       "    </tr>\n",
       "  </thead>\n",
       "  <tbody>\n",
       "    <tr>\n",
       "      <th rowspan=\"10\" valign=\"top\">-0.08</th>\n",
       "      <th>0.4</th>\n",
       "      <th>0.2</th>\n",
       "      <td>0.212268</td>\n",
       "      <td>0.090759</td>\n",
       "      <td>0.303027</td>\n",
       "      <td>0.310179</td>\n",
       "      <td>0.108837</td>\n",
       "      <td>0.419015</td>\n",
       "    </tr>\n",
       "    <tr>\n",
       "      <th rowspan=\"2\" valign=\"top\">0.6</th>\n",
       "      <th>0.2</th>\n",
       "      <td>0.248038</td>\n",
       "      <td>0.131156</td>\n",
       "      <td>0.379194</td>\n",
       "      <td>0.361897</td>\n",
       "      <td>0.163311</td>\n",
       "      <td>0.525207</td>\n",
       "    </tr>\n",
       "    <tr>\n",
       "      <th>0.4</th>\n",
       "      <td>0.209349</td>\n",
       "      <td>0.170518</td>\n",
       "      <td>0.379868</td>\n",
       "      <td>0.305629</td>\n",
       "      <td>0.214605</td>\n",
       "      <td>0.520234</td>\n",
       "    </tr>\n",
       "    <tr>\n",
       "      <th rowspan=\"3\" valign=\"top\">0.8</th>\n",
       "      <th>0.2</th>\n",
       "      <td>0.244821</td>\n",
       "      <td>0.195201</td>\n",
       "      <td>0.440022</td>\n",
       "      <td>0.357230</td>\n",
       "      <td>0.246651</td>\n",
       "      <td>0.603881</td>\n",
       "    </tr>\n",
       "    <tr>\n",
       "      <th>0.4</th>\n",
       "      <td>0.211799</td>\n",
       "      <td>0.218243</td>\n",
       "      <td>0.430041</td>\n",
       "      <td>0.309475</td>\n",
       "      <td>0.280012</td>\n",
       "      <td>0.589487</td>\n",
       "    </tr>\n",
       "    <tr>\n",
       "      <th>0.6</th>\n",
       "      <td>0.177348</td>\n",
       "      <td>0.218622</td>\n",
       "      <td>0.395970</td>\n",
       "      <td>0.260436</td>\n",
       "      <td>0.288845</td>\n",
       "      <td>0.549281</td>\n",
       "    </tr>\n",
       "    <tr>\n",
       "      <th rowspan=\"4\" valign=\"top\">1.0</th>\n",
       "      <th>0.2</th>\n",
       "      <td>0.226159</td>\n",
       "      <td>0.231702</td>\n",
       "      <td>0.457861</td>\n",
       "      <td>0.330918</td>\n",
       "      <td>0.302677</td>\n",
       "      <td>0.633595</td>\n",
       "    </tr>\n",
       "    <tr>\n",
       "      <th>0.4</th>\n",
       "      <td>0.205446</td>\n",
       "      <td>0.244087</td>\n",
       "      <td>0.449534</td>\n",
       "      <td>0.300804</td>\n",
       "      <td>0.318753</td>\n",
       "      <td>0.619557</td>\n",
       "    </tr>\n",
       "    <tr>\n",
       "      <th>0.6</th>\n",
       "      <td>0.180445</td>\n",
       "      <td>0.256364</td>\n",
       "      <td>0.436809</td>\n",
       "      <td>0.264924</td>\n",
       "      <td>0.337586</td>\n",
       "      <td>0.602509</td>\n",
       "    </tr>\n",
       "    <tr>\n",
       "      <th>0.8</th>\n",
       "      <td>0.164824</td>\n",
       "      <td>0.307186</td>\n",
       "      <td>0.472011</td>\n",
       "      <td>0.242012</td>\n",
       "      <td>0.406545</td>\n",
       "      <td>0.648556</td>\n",
       "    </tr>\n",
       "    <tr>\n",
       "      <th rowspan=\"10\" valign=\"top\">-0.06</th>\n",
       "      <th>0.4</th>\n",
       "      <th>0.2</th>\n",
       "      <td>0.223019</td>\n",
       "      <td>0.081926</td>\n",
       "      <td>0.304945</td>\n",
       "      <td>0.324515</td>\n",
       "      <td>0.096747</td>\n",
       "      <td>0.421262</td>\n",
       "    </tr>\n",
       "    <tr>\n",
       "      <th rowspan=\"2\" valign=\"top\">0.6</th>\n",
       "      <th>0.2</th>\n",
       "      <td>0.226360</td>\n",
       "      <td>0.153797</td>\n",
       "      <td>0.380157</td>\n",
       "      <td>0.329586</td>\n",
       "      <td>0.193901</td>\n",
       "      <td>0.523487</td>\n",
       "    </tr>\n",
       "    <tr>\n",
       "      <th>0.4</th>\n",
       "      <td>0.199857</td>\n",
       "      <td>0.173466</td>\n",
       "      <td>0.373324</td>\n",
       "      <td>0.291654</td>\n",
       "      <td>0.222862</td>\n",
       "      <td>0.514516</td>\n",
       "    </tr>\n",
       "    <tr>\n",
       "      <th rowspan=\"3\" valign=\"top\">0.8</th>\n",
       "      <th>0.2</th>\n",
       "      <td>0.240046</td>\n",
       "      <td>0.208083</td>\n",
       "      <td>0.448128</td>\n",
       "      <td>0.348819</td>\n",
       "      <td>0.266162</td>\n",
       "      <td>0.614981</td>\n",
       "    </tr>\n",
       "    <tr>\n",
       "      <th>0.4</th>\n",
       "      <td>0.205601</td>\n",
       "      <td>0.236354</td>\n",
       "      <td>0.441955</td>\n",
       "      <td>0.299532</td>\n",
       "      <td>0.302011</td>\n",
       "      <td>0.601544</td>\n",
       "    </tr>\n",
       "    <tr>\n",
       "      <th>0.6</th>\n",
       "      <td>0.167012</td>\n",
       "      <td>0.247357</td>\n",
       "      <td>0.414369</td>\n",
       "      <td>0.245008</td>\n",
       "      <td>0.323828</td>\n",
       "      <td>0.568836</td>\n",
       "    </tr>\n",
       "    <tr>\n",
       "      <th rowspan=\"4\" valign=\"top\">1.0</th>\n",
       "      <th>0.2</th>\n",
       "      <td>0.205247</td>\n",
       "      <td>0.243218</td>\n",
       "      <td>0.448464</td>\n",
       "      <td>0.300148</td>\n",
       "      <td>0.318036</td>\n",
       "      <td>0.618184</td>\n",
       "    </tr>\n",
       "    <tr>\n",
       "      <th>0.4</th>\n",
       "      <td>0.187316</td>\n",
       "      <td>0.270662</td>\n",
       "      <td>0.457978</td>\n",
       "      <td>0.274209</td>\n",
       "      <td>0.356041</td>\n",
       "      <td>0.630251</td>\n",
       "    </tr>\n",
       "    <tr>\n",
       "      <th>0.6</th>\n",
       "      <td>0.165848</td>\n",
       "      <td>0.300320</td>\n",
       "      <td>0.466167</td>\n",
       "      <td>0.243371</td>\n",
       "      <td>0.395932</td>\n",
       "      <td>0.639303</td>\n",
       "    </tr>\n",
       "    <tr>\n",
       "      <th>0.8</th>\n",
       "      <td>0.162286</td>\n",
       "      <td>0.308173</td>\n",
       "      <td>0.470459</td>\n",
       "      <td>0.238173</td>\n",
       "      <td>0.405381</td>\n",
       "      <td>0.643554</td>\n",
       "    </tr>\n",
       "    <tr>\n",
       "      <th rowspan=\"10\" valign=\"top\">-0.04</th>\n",
       "      <th>0.4</th>\n",
       "      <th>0.2</th>\n",
       "      <td>0.212967</td>\n",
       "      <td>0.098665</td>\n",
       "      <td>0.311631</td>\n",
       "      <td>0.310382</td>\n",
       "      <td>0.119447</td>\n",
       "      <td>0.429829</td>\n",
       "    </tr>\n",
       "    <tr>\n",
       "      <th rowspan=\"2\" valign=\"top\">0.6</th>\n",
       "      <th>0.2</th>\n",
       "      <td>0.218037</td>\n",
       "      <td>0.153868</td>\n",
       "      <td>0.371905</td>\n",
       "      <td>0.317319</td>\n",
       "      <td>0.195834</td>\n",
       "      <td>0.513153</td>\n",
       "    </tr>\n",
       "    <tr>\n",
       "      <th>0.4</th>\n",
       "      <td>0.179656</td>\n",
       "      <td>0.192988</td>\n",
       "      <td>0.372644</td>\n",
       "      <td>0.261970</td>\n",
       "      <td>0.248341</td>\n",
       "      <td>0.510311</td>\n",
       "    </tr>\n",
       "    <tr>\n",
       "      <th rowspan=\"3\" valign=\"top\">0.8</th>\n",
       "      <th>0.2</th>\n",
       "      <td>0.244308</td>\n",
       "      <td>0.212617</td>\n",
       "      <td>0.456925</td>\n",
       "      <td>0.354144</td>\n",
       "      <td>0.270622</td>\n",
       "      <td>0.624765</td>\n",
       "    </tr>\n",
       "    <tr>\n",
       "      <th>0.4</th>\n",
       "      <td>0.199773</td>\n",
       "      <td>0.256859</td>\n",
       "      <td>0.456631</td>\n",
       "      <td>0.290751</td>\n",
       "      <td>0.331377</td>\n",
       "      <td>0.622128</td>\n",
       "    </tr>\n",
       "    <tr>\n",
       "      <th>0.6</th>\n",
       "      <td>0.154211</td>\n",
       "      <td>0.279542</td>\n",
       "      <td>0.433752</td>\n",
       "      <td>0.226163</td>\n",
       "      <td>0.371254</td>\n",
       "      <td>0.597416</td>\n",
       "    </tr>\n",
       "    <tr>\n",
       "      <th rowspan=\"4\" valign=\"top\">1.0</th>\n",
       "      <th>0.2</th>\n",
       "      <td>0.204282</td>\n",
       "      <td>0.260075</td>\n",
       "      <td>0.464357</td>\n",
       "      <td>0.298073</td>\n",
       "      <td>0.340199</td>\n",
       "      <td>0.638272</td>\n",
       "    </tr>\n",
       "    <tr>\n",
       "      <th>0.4</th>\n",
       "      <td>0.171214</td>\n",
       "      <td>0.294814</td>\n",
       "      <td>0.466028</td>\n",
       "      <td>0.250441</td>\n",
       "      <td>0.388102</td>\n",
       "      <td>0.638543</td>\n",
       "    </tr>\n",
       "    <tr>\n",
       "      <th>0.6</th>\n",
       "      <td>0.155486</td>\n",
       "      <td>0.328477</td>\n",
       "      <td>0.483964</td>\n",
       "      <td>0.227823</td>\n",
       "      <td>0.433497</td>\n",
       "      <td>0.661320</td>\n",
       "    </tr>\n",
       "    <tr>\n",
       "      <th>0.8</th>\n",
       "      <td>0.143385</td>\n",
       "      <td>0.365420</td>\n",
       "      <td>0.508805</td>\n",
       "      <td>0.210563</td>\n",
       "      <td>0.482629</td>\n",
       "      <td>0.693192</td>\n",
       "    </tr>\n",
       "    <tr>\n",
       "      <th rowspan=\"10\" valign=\"top\">-0.02</th>\n",
       "      <th>0.4</th>\n",
       "      <th>0.2</th>\n",
       "      <td>0.207841</td>\n",
       "      <td>0.087860</td>\n",
       "      <td>0.295702</td>\n",
       "      <td>0.302592</td>\n",
       "      <td>0.103808</td>\n",
       "      <td>0.406400</td>\n",
       "    </tr>\n",
       "    <tr>\n",
       "      <th rowspan=\"2\" valign=\"top\">0.6</th>\n",
       "      <th>0.2</th>\n",
       "      <td>0.235707</td>\n",
       "      <td>0.144156</td>\n",
       "      <td>0.379863</td>\n",
       "      <td>0.341781</td>\n",
       "      <td>0.181280</td>\n",
       "      <td>0.523061</td>\n",
       "    </tr>\n",
       "    <tr>\n",
       "      <th>0.4</th>\n",
       "      <td>0.189876</td>\n",
       "      <td>0.201587</td>\n",
       "      <td>0.391464</td>\n",
       "      <td>0.276606</td>\n",
       "      <td>0.257938</td>\n",
       "      <td>0.534544</td>\n",
       "    </tr>\n",
       "    <tr>\n",
       "      <th rowspan=\"3\" valign=\"top\">0.8</th>\n",
       "      <th>0.2</th>\n",
       "      <td>0.239900</td>\n",
       "      <td>0.222722</td>\n",
       "      <td>0.462622</td>\n",
       "      <td>0.346885</td>\n",
       "      <td>0.286529</td>\n",
       "      <td>0.633414</td>\n",
       "    </tr>\n",
       "    <tr>\n",
       "      <th>0.4</th>\n",
       "      <td>0.192273</td>\n",
       "      <td>0.288506</td>\n",
       "      <td>0.480779</td>\n",
       "      <td>0.279564</td>\n",
       "      <td>0.371816</td>\n",
       "      <td>0.651380</td>\n",
       "    </tr>\n",
       "    <tr>\n",
       "      <th>0.6</th>\n",
       "      <td>0.146454</td>\n",
       "      <td>0.303698</td>\n",
       "      <td>0.450151</td>\n",
       "      <td>0.214912</td>\n",
       "      <td>0.400934</td>\n",
       "      <td>0.615845</td>\n",
       "    </tr>\n",
       "    <tr>\n",
       "      <th rowspan=\"4\" valign=\"top\">1.0</th>\n",
       "      <th>0.2</th>\n",
       "      <td>0.190237</td>\n",
       "      <td>0.270258</td>\n",
       "      <td>0.460495</td>\n",
       "      <td>0.277351</td>\n",
       "      <td>0.355988</td>\n",
       "      <td>0.633339</td>\n",
       "    </tr>\n",
       "    <tr>\n",
       "      <th>0.4</th>\n",
       "      <td>0.165996</td>\n",
       "      <td>0.296257</td>\n",
       "      <td>0.462253</td>\n",
       "      <td>0.242627</td>\n",
       "      <td>0.389845</td>\n",
       "      <td>0.632472</td>\n",
       "    </tr>\n",
       "    <tr>\n",
       "      <th>0.6</th>\n",
       "      <td>0.146460</td>\n",
       "      <td>0.346175</td>\n",
       "      <td>0.492635</td>\n",
       "      <td>0.214702</td>\n",
       "      <td>0.455235</td>\n",
       "      <td>0.669937</td>\n",
       "    </tr>\n",
       "    <tr>\n",
       "      <th>0.8</th>\n",
       "      <td>0.145149</td>\n",
       "      <td>0.393158</td>\n",
       "      <td>0.538306</td>\n",
       "      <td>0.212875</td>\n",
       "      <td>0.520298</td>\n",
       "      <td>0.733173</td>\n",
       "    </tr>\n",
       "    <tr>\n",
       "      <th rowspan=\"10\" valign=\"top\">0.00</th>\n",
       "      <th>0.4</th>\n",
       "      <th>0.2</th>\n",
       "      <td>0.207627</td>\n",
       "      <td>0.097994</td>\n",
       "      <td>0.305621</td>\n",
       "      <td>0.301835</td>\n",
       "      <td>0.119318</td>\n",
       "      <td>0.421154</td>\n",
       "    </tr>\n",
       "    <tr>\n",
       "      <th rowspan=\"2\" valign=\"top\">0.6</th>\n",
       "      <th>0.2</th>\n",
       "      <td>0.230833</td>\n",
       "      <td>0.165157</td>\n",
       "      <td>0.395990</td>\n",
       "      <td>0.334212</td>\n",
       "      <td>0.210044</td>\n",
       "      <td>0.544257</td>\n",
       "    </tr>\n",
       "    <tr>\n",
       "      <th>0.4</th>\n",
       "      <td>0.170413</td>\n",
       "      <td>0.224227</td>\n",
       "      <td>0.394640</td>\n",
       "      <td>0.248004</td>\n",
       "      <td>0.287140</td>\n",
       "      <td>0.535144</td>\n",
       "    </tr>\n",
       "    <tr>\n",
       "      <th rowspan=\"3\" valign=\"top\">0.8</th>\n",
       "      <th>0.2</th>\n",
       "      <td>0.228022</td>\n",
       "      <td>0.264982</td>\n",
       "      <td>0.493004</td>\n",
       "      <td>0.329871</td>\n",
       "      <td>0.340694</td>\n",
       "      <td>0.670565</td>\n",
       "    </tr>\n",
       "    <tr>\n",
       "      <th>0.4</th>\n",
       "      <td>0.195908</td>\n",
       "      <td>0.312562</td>\n",
       "      <td>0.508470</td>\n",
       "      <td>0.284571</td>\n",
       "      <td>0.404317</td>\n",
       "      <td>0.688888</td>\n",
       "    </tr>\n",
       "    <tr>\n",
       "      <th>0.6</th>\n",
       "      <td>0.144413</td>\n",
       "      <td>0.315274</td>\n",
       "      <td>0.459687</td>\n",
       "      <td>0.211692</td>\n",
       "      <td>0.415797</td>\n",
       "      <td>0.627488</td>\n",
       "    </tr>\n",
       "    <tr>\n",
       "      <th rowspan=\"4\" valign=\"top\">1.0</th>\n",
       "      <th>0.2</th>\n",
       "      <td>0.168723</td>\n",
       "      <td>0.296314</td>\n",
       "      <td>0.465036</td>\n",
       "      <td>0.245631</td>\n",
       "      <td>0.390358</td>\n",
       "      <td>0.635989</td>\n",
       "    </tr>\n",
       "    <tr>\n",
       "      <th>0.4</th>\n",
       "      <td>0.169822</td>\n",
       "      <td>0.332996</td>\n",
       "      <td>0.502818</td>\n",
       "      <td>0.247744</td>\n",
       "      <td>0.439117</td>\n",
       "      <td>0.686861</td>\n",
       "    </tr>\n",
       "    <tr>\n",
       "      <th>0.6</th>\n",
       "      <td>0.138815</td>\n",
       "      <td>0.371891</td>\n",
       "      <td>0.510706</td>\n",
       "      <td>0.203458</td>\n",
       "      <td>0.490714</td>\n",
       "      <td>0.694172</td>\n",
       "    </tr>\n",
       "    <tr>\n",
       "      <th>0.8</th>\n",
       "      <td>0.133456</td>\n",
       "      <td>0.411541</td>\n",
       "      <td>0.544997</td>\n",
       "      <td>0.196002</td>\n",
       "      <td>0.541865</td>\n",
       "      <td>0.737866</td>\n",
       "    </tr>\n",
       "  </tbody>\n",
       "</table>\n",
       "</div>"
      ],
      "text/plain": [
       "                                                                          chi2_distance_distro  \\\n",
       "age_transmission_discount intermediate_contact_weight far_contact_weight                         \n",
       "-0.08                     0.4                         0.2                             0.212268   \n",
       "                          0.6                         0.2                             0.248038   \n",
       "                                                      0.4                             0.209349   \n",
       "                          0.8                         0.2                             0.244821   \n",
       "                                                      0.4                             0.211799   \n",
       "                                                      0.6                             0.177348   \n",
       "                          1.0                         0.2                             0.226159   \n",
       "                                                      0.4                             0.205446   \n",
       "                                                      0.6                             0.180445   \n",
       "                                                      0.8                             0.164824   \n",
       "-0.06                     0.4                         0.2                             0.223019   \n",
       "                          0.6                         0.2                             0.226360   \n",
       "                                                      0.4                             0.199857   \n",
       "                          0.8                         0.2                             0.240046   \n",
       "                                                      0.4                             0.205601   \n",
       "                                                      0.6                             0.167012   \n",
       "                          1.0                         0.2                             0.205247   \n",
       "                                                      0.4                             0.187316   \n",
       "                                                      0.6                             0.165848   \n",
       "                                                      0.8                             0.162286   \n",
       "-0.04                     0.4                         0.2                             0.212967   \n",
       "                          0.6                         0.2                             0.218037   \n",
       "                                                      0.4                             0.179656   \n",
       "                          0.8                         0.2                             0.244308   \n",
       "                                                      0.4                             0.199773   \n",
       "                                                      0.6                             0.154211   \n",
       "                          1.0                         0.2                             0.204282   \n",
       "                                                      0.4                             0.171214   \n",
       "                                                      0.6                             0.155486   \n",
       "                                                      0.8                             0.143385   \n",
       "-0.02                     0.4                         0.2                             0.207841   \n",
       "                          0.6                         0.2                             0.235707   \n",
       "                                                      0.4                             0.189876   \n",
       "                          0.8                         0.2                             0.239900   \n",
       "                                                      0.4                             0.192273   \n",
       "                                                      0.6                             0.146454   \n",
       "                          1.0                         0.2                             0.190237   \n",
       "                                                      0.4                             0.165996   \n",
       "                                                      0.6                             0.146460   \n",
       "                                                      0.8                             0.145149   \n",
       " 0.00                     0.4                         0.2                             0.207627   \n",
       "                          0.6                         0.2                             0.230833   \n",
       "                                                      0.4                             0.170413   \n",
       "                          0.8                         0.2                             0.228022   \n",
       "                                                      0.4                             0.195908   \n",
       "                                                      0.6                             0.144413   \n",
       "                          1.0                         0.2                             0.168723   \n",
       "                                                      0.4                             0.169822   \n",
       "                                                      0.6                             0.138815   \n",
       "                                                      0.8                             0.133456   \n",
       "\n",
       "                                                                          chi2_distance_size  \\\n",
       "age_transmission_discount intermediate_contact_weight far_contact_weight                       \n",
       "-0.08                     0.4                         0.2                           0.090759   \n",
       "                          0.6                         0.2                           0.131156   \n",
       "                                                      0.4                           0.170518   \n",
       "                          0.8                         0.2                           0.195201   \n",
       "                                                      0.4                           0.218243   \n",
       "                                                      0.6                           0.218622   \n",
       "                          1.0                         0.2                           0.231702   \n",
       "                                                      0.4                           0.244087   \n",
       "                                                      0.6                           0.256364   \n",
       "                                                      0.8                           0.307186   \n",
       "-0.06                     0.4                         0.2                           0.081926   \n",
       "                          0.6                         0.2                           0.153797   \n",
       "                                                      0.4                           0.173466   \n",
       "                          0.8                         0.2                           0.208083   \n",
       "                                                      0.4                           0.236354   \n",
       "                                                      0.6                           0.247357   \n",
       "                          1.0                         0.2                           0.243218   \n",
       "                                                      0.4                           0.270662   \n",
       "                                                      0.6                           0.300320   \n",
       "                                                      0.8                           0.308173   \n",
       "-0.04                     0.4                         0.2                           0.098665   \n",
       "                          0.6                         0.2                           0.153868   \n",
       "                                                      0.4                           0.192988   \n",
       "                          0.8                         0.2                           0.212617   \n",
       "                                                      0.4                           0.256859   \n",
       "                                                      0.6                           0.279542   \n",
       "                          1.0                         0.2                           0.260075   \n",
       "                                                      0.4                           0.294814   \n",
       "                                                      0.6                           0.328477   \n",
       "                                                      0.8                           0.365420   \n",
       "-0.02                     0.4                         0.2                           0.087860   \n",
       "                          0.6                         0.2                           0.144156   \n",
       "                                                      0.4                           0.201587   \n",
       "                          0.8                         0.2                           0.222722   \n",
       "                                                      0.4                           0.288506   \n",
       "                                                      0.6                           0.303698   \n",
       "                          1.0                         0.2                           0.270258   \n",
       "                                                      0.4                           0.296257   \n",
       "                                                      0.6                           0.346175   \n",
       "                                                      0.8                           0.393158   \n",
       " 0.00                     0.4                         0.2                           0.097994   \n",
       "                          0.6                         0.2                           0.165157   \n",
       "                                                      0.4                           0.224227   \n",
       "                          0.8                         0.2                           0.264982   \n",
       "                                                      0.4                           0.312562   \n",
       "                                                      0.6                           0.315274   \n",
       "                          1.0                         0.2                           0.296314   \n",
       "                                                      0.4                           0.332996   \n",
       "                                                      0.6                           0.371891   \n",
       "                                                      0.8                           0.411541   \n",
       "\n",
       "                                                                          chi2_distance_total  \\\n",
       "age_transmission_discount intermediate_contact_weight far_contact_weight                        \n",
       "-0.08                     0.4                         0.2                            0.303027   \n",
       "                          0.6                         0.2                            0.379194   \n",
       "                                                      0.4                            0.379868   \n",
       "                          0.8                         0.2                            0.440022   \n",
       "                                                      0.4                            0.430041   \n",
       "                                                      0.6                            0.395970   \n",
       "                          1.0                         0.2                            0.457861   \n",
       "                                                      0.4                            0.449534   \n",
       "                                                      0.6                            0.436809   \n",
       "                                                      0.8                            0.472011   \n",
       "-0.06                     0.4                         0.2                            0.304945   \n",
       "                          0.6                         0.2                            0.380157   \n",
       "                                                      0.4                            0.373324   \n",
       "                          0.8                         0.2                            0.448128   \n",
       "                                                      0.4                            0.441955   \n",
       "                                                      0.6                            0.414369   \n",
       "                          1.0                         0.2                            0.448464   \n",
       "                                                      0.4                            0.457978   \n",
       "                                                      0.6                            0.466167   \n",
       "                                                      0.8                            0.470459   \n",
       "-0.04                     0.4                         0.2                            0.311631   \n",
       "                          0.6                         0.2                            0.371905   \n",
       "                                                      0.4                            0.372644   \n",
       "                          0.8                         0.2                            0.456925   \n",
       "                                                      0.4                            0.456631   \n",
       "                                                      0.6                            0.433752   \n",
       "                          1.0                         0.2                            0.464357   \n",
       "                                                      0.4                            0.466028   \n",
       "                                                      0.6                            0.483964   \n",
       "                                                      0.8                            0.508805   \n",
       "-0.02                     0.4                         0.2                            0.295702   \n",
       "                          0.6                         0.2                            0.379863   \n",
       "                                                      0.4                            0.391464   \n",
       "                          0.8                         0.2                            0.462622   \n",
       "                                                      0.4                            0.480779   \n",
       "                                                      0.6                            0.450151   \n",
       "                          1.0                         0.2                            0.460495   \n",
       "                                                      0.4                            0.462253   \n",
       "                                                      0.6                            0.492635   \n",
       "                                                      0.8                            0.538306   \n",
       " 0.00                     0.4                         0.2                            0.305621   \n",
       "                          0.6                         0.2                            0.395990   \n",
       "                                                      0.4                            0.394640   \n",
       "                          0.8                         0.2                            0.493004   \n",
       "                                                      0.4                            0.508470   \n",
       "                                                      0.6                            0.459687   \n",
       "                          1.0                         0.2                            0.465036   \n",
       "                                                      0.4                            0.502818   \n",
       "                                                      0.6                            0.510706   \n",
       "                                                      0.8                            0.544997   \n",
       "\n",
       "                                                                          sum_of_squares_distro  \\\n",
       "age_transmission_discount intermediate_contact_weight far_contact_weight                          \n",
       "-0.08                     0.4                         0.2                              0.310179   \n",
       "                          0.6                         0.2                              0.361897   \n",
       "                                                      0.4                              0.305629   \n",
       "                          0.8                         0.2                              0.357230   \n",
       "                                                      0.4                              0.309475   \n",
       "                                                      0.6                              0.260436   \n",
       "                          1.0                         0.2                              0.330918   \n",
       "                                                      0.4                              0.300804   \n",
       "                                                      0.6                              0.264924   \n",
       "                                                      0.8                              0.242012   \n",
       "-0.06                     0.4                         0.2                              0.324515   \n",
       "                          0.6                         0.2                              0.329586   \n",
       "                                                      0.4                              0.291654   \n",
       "                          0.8                         0.2                              0.348819   \n",
       "                                                      0.4                              0.299532   \n",
       "                                                      0.6                              0.245008   \n",
       "                          1.0                         0.2                              0.300148   \n",
       "                                                      0.4                              0.274209   \n",
       "                                                      0.6                              0.243371   \n",
       "                                                      0.8                              0.238173   \n",
       "-0.04                     0.4                         0.2                              0.310382   \n",
       "                          0.6                         0.2                              0.317319   \n",
       "                                                      0.4                              0.261970   \n",
       "                          0.8                         0.2                              0.354144   \n",
       "                                                      0.4                              0.290751   \n",
       "                                                      0.6                              0.226163   \n",
       "                          1.0                         0.2                              0.298073   \n",
       "                                                      0.4                              0.250441   \n",
       "                                                      0.6                              0.227823   \n",
       "                                                      0.8                              0.210563   \n",
       "-0.02                     0.4                         0.2                              0.302592   \n",
       "                          0.6                         0.2                              0.341781   \n",
       "                                                      0.4                              0.276606   \n",
       "                          0.8                         0.2                              0.346885   \n",
       "                                                      0.4                              0.279564   \n",
       "                                                      0.6                              0.214912   \n",
       "                          1.0                         0.2                              0.277351   \n",
       "                                                      0.4                              0.242627   \n",
       "                                                      0.6                              0.214702   \n",
       "                                                      0.8                              0.212875   \n",
       " 0.00                     0.4                         0.2                              0.301835   \n",
       "                          0.6                         0.2                              0.334212   \n",
       "                                                      0.4                              0.248004   \n",
       "                          0.8                         0.2                              0.329871   \n",
       "                                                      0.4                              0.284571   \n",
       "                                                      0.6                              0.211692   \n",
       "                          1.0                         0.2                              0.245631   \n",
       "                                                      0.4                              0.247744   \n",
       "                                                      0.6                              0.203458   \n",
       "                                                      0.8                              0.196002   \n",
       "\n",
       "                                                                          sum_of_squares_size  \\\n",
       "age_transmission_discount intermediate_contact_weight far_contact_weight                        \n",
       "-0.08                     0.4                         0.2                            0.108837   \n",
       "                          0.6                         0.2                            0.163311   \n",
       "                                                      0.4                            0.214605   \n",
       "                          0.8                         0.2                            0.246651   \n",
       "                                                      0.4                            0.280012   \n",
       "                                                      0.6                            0.288845   \n",
       "                          1.0                         0.2                            0.302677   \n",
       "                                                      0.4                            0.318753   \n",
       "                                                      0.6                            0.337586   \n",
       "                                                      0.8                            0.406545   \n",
       "-0.06                     0.4                         0.2                            0.096747   \n",
       "                          0.6                         0.2                            0.193901   \n",
       "                                                      0.4                            0.222862   \n",
       "                          0.8                         0.2                            0.266162   \n",
       "                                                      0.4                            0.302011   \n",
       "                                                      0.6                            0.323828   \n",
       "                          1.0                         0.2                            0.318036   \n",
       "                                                      0.4                            0.356041   \n",
       "                                                      0.6                            0.395932   \n",
       "                                                      0.8                            0.405381   \n",
       "-0.04                     0.4                         0.2                            0.119447   \n",
       "                          0.6                         0.2                            0.195834   \n",
       "                                                      0.4                            0.248341   \n",
       "                          0.8                         0.2                            0.270622   \n",
       "                                                      0.4                            0.331377   \n",
       "                                                      0.6                            0.371254   \n",
       "                          1.0                         0.2                            0.340199   \n",
       "                                                      0.4                            0.388102   \n",
       "                                                      0.6                            0.433497   \n",
       "                                                      0.8                            0.482629   \n",
       "-0.02                     0.4                         0.2                            0.103808   \n",
       "                          0.6                         0.2                            0.181280   \n",
       "                                                      0.4                            0.257938   \n",
       "                          0.8                         0.2                            0.286529   \n",
       "                                                      0.4                            0.371816   \n",
       "                                                      0.6                            0.400934   \n",
       "                          1.0                         0.2                            0.355988   \n",
       "                                                      0.4                            0.389845   \n",
       "                                                      0.6                            0.455235   \n",
       "                                                      0.8                            0.520298   \n",
       " 0.00                     0.4                         0.2                            0.119318   \n",
       "                          0.6                         0.2                            0.210044   \n",
       "                                                      0.4                            0.287140   \n",
       "                          0.8                         0.2                            0.340694   \n",
       "                                                      0.4                            0.404317   \n",
       "                                                      0.6                            0.415797   \n",
       "                          1.0                         0.2                            0.390358   \n",
       "                                                      0.4                            0.439117   \n",
       "                                                      0.6                            0.490714   \n",
       "                                                      0.8                            0.541865   \n",
       "\n",
       "                                                                          sum_of_squares_total  \n",
       "age_transmission_discount intermediate_contact_weight far_contact_weight                        \n",
       "-0.08                     0.4                         0.2                             0.419015  \n",
       "                          0.6                         0.2                             0.525207  \n",
       "                                                      0.4                             0.520234  \n",
       "                          0.8                         0.2                             0.603881  \n",
       "                                                      0.4                             0.589487  \n",
       "                                                      0.6                             0.549281  \n",
       "                          1.0                         0.2                             0.633595  \n",
       "                                                      0.4                             0.619557  \n",
       "                                                      0.6                             0.602509  \n",
       "                                                      0.8                             0.648556  \n",
       "-0.06                     0.4                         0.2                             0.421262  \n",
       "                          0.6                         0.2                             0.523487  \n",
       "                                                      0.4                             0.514516  \n",
       "                          0.8                         0.2                             0.614981  \n",
       "                                                      0.4                             0.601544  \n",
       "                                                      0.6                             0.568836  \n",
       "                          1.0                         0.2                             0.618184  \n",
       "                                                      0.4                             0.630251  \n",
       "                                                      0.6                             0.639303  \n",
       "                                                      0.8                             0.643554  \n",
       "-0.04                     0.4                         0.2                             0.429829  \n",
       "                          0.6                         0.2                             0.513153  \n",
       "                                                      0.4                             0.510311  \n",
       "                          0.8                         0.2                             0.624765  \n",
       "                                                      0.4                             0.622128  \n",
       "                                                      0.6                             0.597416  \n",
       "                          1.0                         0.2                             0.638272  \n",
       "                                                      0.4                             0.638543  \n",
       "                                                      0.6                             0.661320  \n",
       "                                                      0.8                             0.693192  \n",
       "-0.02                     0.4                         0.2                             0.406400  \n",
       "                          0.6                         0.2                             0.523061  \n",
       "                                                      0.4                             0.534544  \n",
       "                          0.8                         0.2                             0.633414  \n",
       "                                                      0.4                             0.651380  \n",
       "                                                      0.6                             0.615845  \n",
       "                          1.0                         0.2                             0.633339  \n",
       "                                                      0.4                             0.632472  \n",
       "                                                      0.6                             0.669937  \n",
       "                                                      0.8                             0.733173  \n",
       " 0.00                     0.4                         0.2                             0.421154  \n",
       "                          0.6                         0.2                             0.544257  \n",
       "                                                      0.4                             0.535144  \n",
       "                          0.8                         0.2                             0.670565  \n",
       "                                                      0.4                             0.688888  \n",
       "                                                      0.6                             0.627488  \n",
       "                          1.0                         0.2                             0.635989  \n",
       "                                                      0.4                             0.686861  \n",
       "                                                      0.6                             0.694172  \n",
       "                                                      0.8                             0.737866  "
      ]
     },
     "execution_count": 159,
     "metadata": {},
     "output_type": "execute_result"
    }
   ],
   "source": [
    "agg_results"
   ]
  },
  {
   "cell_type": "code",
   "execution_count": 172,
   "metadata": {},
   "outputs": [
    {
     "data": {
      "text/plain": [
       "'2.4'"
      ]
     },
     "execution_count": 172,
     "metadata": {},
     "output_type": "execute_result"
    }
   ],
   "source": [
    "nx.__version__"
   ]
  },
  {
   "cell_type": "markdown",
   "metadata": {},
   "source": [
    "### Transmission risk splits"
   ]
  },
  {
   "cell_type": "code",
   "execution_count": 20,
   "metadata": {},
   "outputs": [],
   "source": [
    "index = pd.MultiIndex.from_tuples(params, \\\n",
    "    names=['transmission_risk', 'age_transmission_discount', 'contact_weight'])\n",
    "results.index = index"
   ]
  },
  {
   "cell_type": "code",
   "execution_count": 21,
   "metadata": {},
   "outputs": [],
   "source": [
    "cases_heatmaps = {}\n",
    "for tr in transmission_risks:\n",
    "    img = np.zeros((len(age_transmission_discounts), len(contact_weights)))\n",
    "    tr_data = results.loc[tr]\n",
    "    for i, atd in enumerate(age_transmission_discounts):\n",
    "        for j, cw in enumerate(contact_weights):\n",
    "            img[i,j] = tr_data.loc[atd, cw]['diff_cases']\n",
    "            cases_heatmaps[tr] = img"
   ]
  },
  {
   "cell_type": "code",
   "execution_count": 22,
   "metadata": {},
   "outputs": [],
   "source": [
    "outbreaks_heatmaps = {}\n",
    "for tr in transmission_risks:\n",
    "    img = np.zeros((len(age_transmission_discounts), len(contact_weights)))\n",
    "    tr_data = results.loc[tr]\n",
    "    for i, atd in enumerate(age_transmission_discounts):\n",
    "        for j, cw in enumerate(contact_weights):\n",
    "            img[i,j] = tr_data.loc[atd, cw]['diff_outbreak_sizes_ratio']\n",
    "            outbreaks_heatmaps[tr] = img"
   ]
  },
  {
   "cell_type": "code",
   "execution_count": 23,
   "metadata": {},
   "outputs": [],
   "source": [
    "sum_heatmaps = {}\n",
    "for tr in transmission_risks:\n",
    "    img = np.zeros((len(age_transmission_discounts), len(contact_weights)))\n",
    "    tr_data = results.loc[tr]\n",
    "    for i, atd in enumerate(age_transmission_discounts):\n",
    "        for j, cw in enumerate(contact_weights):\n",
    "            img[i,j] = tr_data.loc[atd, cw]['total_diff']\n",
    "            sum_heatmaps[tr] = img"
   ]
  },
  {
   "cell_type": "code",
   "execution_count": 24,
   "metadata": {},
   "outputs": [
    {
     "data": {
      "image/png": "[encoded data removed]",
      "text/plain": [
       "<Figure size 1080x360 with 3 Axes>"
      ]
     },
     "metadata": {
      "needs_background": "light"
     },
     "output_type": "display_data"
    }
   ],
   "source": [
    "diff_cases = np.asarray([cases_heatmaps[tr].mean() for tr in transmission_risks])\n",
    "diff_outbreaks = np.asarray([outbreaks_heatmaps[tr].mean() for tr in transmission_risks])\n",
    "\n",
    "fig, axes = plt.subplots(1, 2, figsize=(15, 5))\n",
    "axes[0].plot(transmission_risks, diff_cases, 'o-', color='b')\n",
    "ax2 = axes[0].twinx()\n",
    "ax2.plot(transmission_risks, diff_outbreaks, 'o-', color='r')\n",
    "axes[0].set_ylabel('error case distribution', color='b')\n",
    "ax2.set_ylabel('error outbreak size', color='r')\n",
    "axes[0].set_xlabel('transmission risk')\n",
    "axes[0].set_title('raw errors')\n",
    "\n",
    "diff_cases_norm = diff_cases / diff_cases.max()\n",
    "diff_outbreaks_norm = diff_outbreaks / diff_outbreaks.max()\n",
    "\n",
    "axes[1].plot(transmission_risks, diff_cases_norm, 'o-', color='b', \\\n",
    "             label='normalised error case distribution')\n",
    "axes[1].plot(transmission_risks, diff_outbreaks_norm, 'o-', color='r',\n",
    "             label='normalised error outbreak distribution') \n",
    "axes[1].plot(transmission_risks, diff_cases_norm + diff_outbreaks_norm,\n",
    "            'o-', color='grey', label='sum normalised errors')\n",
    "axes[1].plot([0.006, 0.006], [0, 1.25], '--', color='k', label='minimum')\n",
    "\n",
    "axes[1].legend()\n",
    "axes[1].set_ylabel('normalised errors')\n",
    "axes[1].set_xlabel('transmission risk')\n",
    "axes[1].set_title('normalised errors')\n",
    "\n",
    "fig.tight_layout()"
   ]
  },
  {
   "cell_type": "code",
   "execution_count": 25,
   "metadata": {},
   "outputs": [
    {
     "data": {
      "image/png": "[encoded data removed]",
      "text/plain": [
       "<Figure size 1080x504 with 16 Axes>"
      ]
     },
     "metadata": {
      "needs_background": "light"
     },
     "output_type": "display_data"
    }
   ],
   "source": [
    "fig, axes = plt.subplots(2, 4, figsize=(15, 7))\n",
    "for i, ax, tr in zip(range(len(axes.flatten())), axes.flatten(), transmission_risks):\n",
    "    img = ax.imshow(sum_heatmaps[tr], cmap=plt.get_cmap('inferno'), vmin=0, vmax=0.7)\n",
    "    ax.set_title('transmission risk: {:1.3f}'.format(tr), fontsize=14)\n",
    "    \n",
    "    #ax.set_ylim(-0.5, 5.5)\n",
    "    #ax.set_xlim(-0.5, 6.5)\n",
    "    \n",
    "    if i in [0, 4]:\n",
    "        ax.set_yticks(range(len(age_transmission_discounts)))\n",
    "        ax.set_yticklabels(age_transmission_discounts)\n",
    "        ax.set_ylabel('age transmission discount', fontsize=14)\n",
    "    else:\n",
    "        ax.set_yticks([])\n",
    "    \n",
    "    if i in [4, 5, 6, 7]:\n",
    "        ax.set_xticks(range(0,len(contact_weights), 2))\n",
    "        ax.set_xticklabels(contact_weights[::2], fontsize=12)\n",
    "        ax.set_xlabel('contact weight', fontsize=14)\n",
    "    else:\n",
    "        ax.set_xticks([])\n",
    "    \n",
    "    divider = make_axes_locatable(ax)\n",
    "    cax = divider.append_axes('right', size='5%', pad=0.05)\n",
    "    if i in [3, 7]:\n",
    "        fig.colorbar(img, cax=cax, orientation='vertical')\n",
    "        cax.set_ylabel('error')\n",
    "    else:\n",
    "        cax.set_axis_off()\n",
    "    \n",
    "\n",
    "fig.tight_layout()\n",
    "#plt.savefig(join(dst, '2020-12-16_calibration_results_volksschule_large_transmission_risk_range.pdf'))"
   ]
  },
  {
   "cell_type": "markdown",
   "metadata": {},
   "source": [
    "### Contact weights splits"
   ]
  },
  {
   "cell_type": "code",
   "execution_count": 26,
   "metadata": {},
   "outputs": [],
   "source": [
    "cases_heatmaps = {}\n",
    "for cw in contact_weights:\n",
    "    img = np.zeros((len(age_transmission_discounts), len(transmission_risks)))\n",
    "    for i, atd in enumerate(age_transmission_discounts):\n",
    "        for j, tr in enumerate(transmission_risks):\n",
    "            img[i,j] = results.loc[(tr, atd, cw)]['diff_cases']\n",
    "            cases_heatmaps[cw] = img"
   ]
  },
  {
   "cell_type": "code",
   "execution_count": 27,
   "metadata": {},
   "outputs": [],
   "source": [
    "outbreaks_heatmaps = {}\n",
    "for cw in contact_weights:\n",
    "    img = np.zeros((len(age_transmission_discounts), len(transmission_risks)))\n",
    "    for i, atd in enumerate(age_transmission_discounts):\n",
    "        for j, tr in enumerate(transmission_risks):\n",
    "            img[i,j] = results.loc[(tr, atd, cw)]['diff_outbreak_sizes']\n",
    "            outbreaks_heatmaps[cw] = img"
   ]
  },
  {
   "cell_type": "code",
   "execution_count": 28,
   "metadata": {},
   "outputs": [],
   "source": [
    "sum_heatmaps = {}\n",
    "for cw in contact_weights:\n",
    "    img = np.zeros((len(age_transmission_discounts), len(transmission_risks)))\n",
    "    for i, atd in enumerate(age_transmission_discounts):\n",
    "        for j, tr in enumerate(transmission_risks):\n",
    "            img[i,j] = results.loc[(tr, atd, cw)]['total_diff']\n",
    "            sum_heatmaps[cw] = img"
   ]
  },
  {
   "cell_type": "code",
   "execution_count": 29,
   "metadata": {},
   "outputs": [
    {
     "data": {
      "image/png": "[encoded data removed]",
      "text/plain": [
       "<Figure size 1080x360 with 3 Axes>"
      ]
     },
     "metadata": {
      "needs_background": "light"
     },
     "output_type": "display_data"
    }
   ],
   "source": [
    "diff_cases = np.asarray([cases_heatmaps[cw].mean() for cw in contact_weights])\n",
    "diff_outbreaks = np.asarray([outbreaks_heatmaps[cw].mean() for cw in contact_weights])\n",
    "\n",
    "fig, axes = plt.subplots(1, 2, figsize=(15, 5))\n",
    "axes[0].plot(contact_weights, diff_cases, 'o-', color='b')\n",
    "ax2 = axes[0].twinx()\n",
    "ax2.plot(contact_weights, diff_outbreaks, 'o-', color='r')\n",
    "axes[0].set_ylabel('error case distribution', color='b', fontsize=16)\n",
    "ax2.set_ylabel('error outbreak size', color='r', fontsize=16)\n",
    "axes[0].set_xlabel('contact weight', fontsize=16)\n",
    "axes[0].set_title('raw errors')\n",
    "\n",
    "diff_cases_norm = diff_cases / diff_cases.max()\n",
    "diff_outbreaks_norm = diff_outbreaks / diff_outbreaks.max()\n",
    "\n",
    "axes[1].plot(contact_weights, diff_cases_norm, 'o-', color='b', \\\n",
    "             label='normalised error case distribution')\n",
    "axes[1].plot(contact_weights, diff_outbreaks_norm, 'o-', color='r',\n",
    "             label='normalised error outbreak distribution') \n",
    "axes[1].plot(contact_weights, diff_cases_norm + diff_outbreaks_norm,\n",
    "            'o-', color='grey', label='sum normalised errors')\n",
    "axes[1].plot([1, 1], [0, 1.75], '--', color='k', label='minimum')\n",
    "\n",
    "axes[1].legend()\n",
    "axes[1].set_xlabel('contact weight', fontsize=16)\n",
    "axes[1].set_ylabel('normalised error', fontsize=16)\n",
    "axes[1].set_title('normalised errors')\n",
    "fig.tight_layout()"
   ]
  },
  {
   "cell_type": "code",
   "execution_count": 30,
   "metadata": {},
   "outputs": [
    {
     "data": {
      "image/png": "[encoded data removed]",
      "text/plain": [
       "<Figure size 576x864 with 32 Axes>"
      ]
     },
     "metadata": {
      "needs_background": "light"
     },
     "output_type": "display_data"
    }
   ],
   "source": [
    "fig, axes = plt.subplots(4, 4, figsize=(8, 12))\n",
    "for i, ax, cw in zip(range(len(axes.flatten())), axes.flatten(), contact_weights):\n",
    "    img = ax.imshow(sum_heatmaps[cw], cmap=plt.get_cmap('inferno'), vmin=0, vmax=0.7)\n",
    "    ax.set_title('contact weight: {:1.2f}'.format(cw), fontsize=10)\n",
    "    \n",
    "    #ax.set_ylim(-0.5, 5.5)\n",
    "    #ax.set_xlim(-0.5, 6.5)\n",
    "    \n",
    "    if i in [0, 4, 8, 12]:\n",
    "        ax.set_yticks(range(len(age_transmission_discounts)))\n",
    "        ax.set_yticklabels(age_transmission_discounts)\n",
    "        ax.set_ylabel('age transmission discount', fontsize=10)\n",
    "    else:\n",
    "        ax.set_yticks([])\n",
    "    \n",
    "    if i in [12, 13, 14, 15]:\n",
    "        ax.set_xticks(range(0,len(transmission_risks),2))\n",
    "        ax.set_xticklabels(transmission_risks[::2], fontsize=8)\n",
    "        ax.set_xlabel('transmission risks', fontsize=10)\n",
    "    else:\n",
    "        ax.set_xticks([])\n",
    "    \n",
    "    divider = make_axes_locatable(ax)\n",
    "    cax = divider.append_axes('right', size='5%', pad=0.05)\n",
    "    if i in [3, 7, 11, 15]:\n",
    "        fig.colorbar(img, cax=cax, orientation='vertical')\n",
    "        cax.set_ylabel('error')\n",
    "    else:\n",
    "        cax.set_axis_off()\n",
    "    \n",
    "\n",
    "fig.tight_layout()\n",
    "#plt.savefig(join(dst, '2020-12-16_calibration_results_volksschule_large_transmission_risk_range.pdf'))"
   ]
  },
  {
   "cell_type": "markdown",
   "metadata": {},
   "source": [
    "### Age transmission discount splits"
   ]
  },
  {
   "cell_type": "code",
   "execution_count": 31,
   "metadata": {},
   "outputs": [],
   "source": [
    "cases_heatmaps = {}\n",
    "for atd in age_transmission_discounts:\n",
    "    img = np.zeros((len(contact_weights), len(transmission_risks)))\n",
    "    for i, cw in enumerate(contact_weights):\n",
    "        for j, tr in enumerate(transmission_risks):\n",
    "            img[i,j] = results.loc[(tr, atd, cw)]['diff_cases']\n",
    "            cases_heatmaps[atd] = img"
   ]
  },
  {
   "cell_type": "code",
   "execution_count": 32,
   "metadata": {},
   "outputs": [],
   "source": [
    "outbreaks_heatmaps = {}\n",
    "for atd in age_transmission_discounts:\n",
    "    img = np.zeros((len(contact_weights), len(transmission_risks)))\n",
    "    for i, cw in enumerate(contact_weights):\n",
    "        for j, tr in enumerate(transmission_risks):\n",
    "            img[i,j] = results.loc[(tr, atd, cw)]['diff_outbreak_sizes']\n",
    "            outbreaks_heatmaps[atd] = img"
   ]
  },
  {
   "cell_type": "code",
   "execution_count": 33,
   "metadata": {},
   "outputs": [],
   "source": [
    "sum_heatmaps = {}\n",
    "for atd in age_transmission_discounts:\n",
    "    img = np.zeros((len(contact_weights), len(transmission_risks)))\n",
    "    for i, cw in enumerate(contact_weights):\n",
    "        for j, tr in enumerate(transmission_risks):\n",
    "            img[i,j] = results.loc[(tr, atd, cw)]['total_diff']\n",
    "            sum_heatmaps[atd] = img"
   ]
  },
  {
   "cell_type": "code",
   "execution_count": 34,
   "metadata": {},
   "outputs": [
    {
     "data": {
      "image/png": "[encoded data removed]",
      "text/plain": [
       "<Figure size 1080x360 with 3 Axes>"
      ]
     },
     "metadata": {
      "needs_background": "light"
     },
     "output_type": "display_data"
    }
   ],
   "source": [
    "diff_cases = np.asarray([cases_heatmaps[atd].mean() for \\\n",
    "                         atd in age_transmission_discounts])\n",
    "diff_outbreaks = np.asarray([outbreaks_heatmaps[atd].mean() for \\\n",
    "                             atd in age_transmission_discounts])\n",
    "\n",
    "fig, axes = plt.subplots(1, 2, figsize=(15, 5))\n",
    "axes[0].plot(age_transmission_discounts, diff_cases, 'o-', color='b')\n",
    "ax2 = axes[0].twinx()\n",
    "ax2.plot(age_transmission_discounts, diff_outbreaks, 'o-', color='r')\n",
    "axes[0].set_ylabel('error case distribution', color='b', fontsize=16)\n",
    "ax2.set_ylabel('error outbreak size', color='r', fontsize=16)\n",
    "axes[0].set_xlabel('age transmission discount', fontsize=16)\n",
    "axes[0].set_title('raw errors')\n",
    "\n",
    "diff_cases_norm = diff_cases / diff_cases.max()\n",
    "diff_outbreaks_norm = diff_outbreaks / diff_outbreaks.max()\n",
    "\n",
    "axes[1].plot(age_transmission_discounts, diff_cases_norm, 'o-', color='b', \\\n",
    "             label='normalised error case distribution')\n",
    "axes[1].plot(age_transmission_discounts, diff_outbreaks_norm, 'o-', color='r',\n",
    "             label='normalised error outbreak distribution') \n",
    "axes[1].plot(age_transmission_discounts, diff_cases_norm + diff_outbreaks_norm,\n",
    "            'o-', color='grey', label='sum normalised errors')\n",
    "axes[1].plot([-0.04, -0.04], [0, 1.75], '--', color='k', label='minimum')\n",
    "\n",
    "axes[1].legend()\n",
    "axes[1].set_ylabel('normalised error', fontsize=16)\n",
    "axes[1].set_xlabel('age transmission discount', fontsize=16)\n",
    "axes[1].set_title('normalised errors')\n",
    "\n",
    "fig.tight_layout()"
   ]
  },
  {
   "cell_type": "code",
   "execution_count": 35,
   "metadata": {},
   "outputs": [
    {
     "data": {
      "image/png": "[encoded data removed]",
      "text/plain": [
       "<Figure size 576x864 with 28 Axes>"
      ]
     },
     "metadata": {
      "needs_background": "light"
     },
     "output_type": "display_data"
    }
   ],
   "source": [
    "fig, axes = plt.subplots(4, 4, figsize=(8, 12))\n",
    "for i, ax, atd in zip(range(len(axes.flatten())), axes.flatten(), age_transmission_discounts):\n",
    "    img = ax.imshow(sum_heatmaps[atd], cmap=plt.get_cmap('inferno'), vmin=0, vmax=0.7)\n",
    "    ax.set_title('age trans. disc.: {:1.2f}'.format(atd), fontsize=10)\n",
    "    \n",
    "    #ax.set_ylim(-0.5, 5.5)\n",
    "    #ax.set_xlim(-0.5, 6.5)\n",
    "    \n",
    "    if i in [0, 4, 8, 12]:\n",
    "        ax.set_yticks(range(len(contact_weights)))\n",
    "        ax.set_yticklabels(contact_weights)\n",
    "        ax.set_ylabel('contact weight', fontsize=14)\n",
    "    else:\n",
    "        ax.set_yticks([])\n",
    "    \n",
    "    if i in [10, 11, 12, 13]:\n",
    "        ax.set_xticks(range(0, len(transmission_risks), 2))\n",
    "        ax.set_xticklabels(transmission_risks[::2], fontsize=8)\n",
    "        ax.set_xlabel('transmission risks', fontsize=10)\n",
    "    else:\n",
    "        ax.set_xticks([])\n",
    "    \n",
    "    divider = make_axes_locatable(ax)\n",
    "    cax = divider.append_axes('right', size='5%', pad=0.05)\n",
    "    if i in [3, 7, 11, 13]:\n",
    "        fig.colorbar(img, cax=cax, orientation='vertical')\n",
    "        cax.set_ylabel('error')\n",
    "    else:\n",
    "        cax.set_axis_off()\n",
    "    \n",
    "axes[3, 2].remove()\n",
    "axes[3, 3].remove()\n",
    "\n",
    "fig.tight_layout()\n",
    "#plt.savefig(join(dst, '2020-12-16_calibration_results_volksschule_large_transmission_risk_range.pdf'))"
   ]
  },
  {
   "cell_type": "markdown",
   "metadata": {},
   "source": [
    "## Exemplary run"
   ]
  },
  {
   "cell_type": "code",
   "execution_count": 36,
   "metadata": {},
   "outputs": [],
   "source": [
    "results['diff_cases_norm'] = results['diff_cases'] / results['diff_cases'].max()\n",
    "results['diff_outreak_sizes_norm'] = results['diff_outbreak_sizes'] /\\\n",
    "            results['diff_outbreak_sizes'].max()\n",
    "\n",
    "results['diff_total_norm'] = results['diff_cases_norm'] + results['diff_outreak_sizes_norm']"
   ]
  },
  {
   "cell_type": "code",
   "execution_count": 37,
   "metadata": {},
   "outputs": [
    {
     "data": {
      "text/html": [
       "<div>\n",
       "<style scoped>\n",
       "    .dataframe tbody tr th:only-of-type {\n",
       "        vertical-align: middle;\n",
       "    }\n",
       "\n",
       "    .dataframe tbody tr th {\n",
       "        vertical-align: top;\n",
       "    }\n",
       "\n",
       "    .dataframe thead th {\n",
       "        text-align: right;\n",
       "    }\n",
       "</style>\n",
       "<table border=\"1\" class=\"dataframe\">\n",
       "  <thead>\n",
       "    <tr style=\"text-align: right;\">\n",
       "      <th></th>\n",
       "      <th></th>\n",
       "      <th></th>\n",
       "      <th>age_transmission_discount</th>\n",
       "      <th>contact_weight</th>\n",
       "      <th>diff_cases</th>\n",
       "      <th>diff_outbreak_sizes</th>\n",
       "      <th>total_diff</th>\n",
       "      <th>transmission_risk</th>\n",
       "      <th>diff_cases_ratio</th>\n",
       "      <th>diff_outbreak_sizes_ratio</th>\n",
       "      <th>diff_cases_norm</th>\n",
       "      <th>diff_outreak_sizes_norm</th>\n",
       "      <th>diff_total_norm</th>\n",
       "    </tr>\n",
       "    <tr>\n",
       "      <th>transmission_risk</th>\n",
       "      <th>age_transmission_discount</th>\n",
       "      <th>contact_weight</th>\n",
       "      <th></th>\n",
       "      <th></th>\n",
       "      <th></th>\n",
       "      <th></th>\n",
       "      <th></th>\n",
       "      <th></th>\n",
       "      <th></th>\n",
       "      <th></th>\n",
       "      <th></th>\n",
       "      <th></th>\n",
       "      <th></th>\n",
       "    </tr>\n",
       "  </thead>\n",
       "  <tbody>\n",
       "    <tr>\n",
       "      <th rowspan=\"5\" valign=\"top\">0.003</th>\n",
       "      <th rowspan=\"5\" valign=\"top\">-0.13</th>\n",
       "      <th>1.00</th>\n",
       "      <td>-0.13</td>\n",
       "      <td>1.00</td>\n",
       "      <td>0.301813</td>\n",
       "      <td>0.119895</td>\n",
       "      <td>0.421709</td>\n",
       "      <td>0.003</td>\n",
       "      <td>0.715692</td>\n",
       "      <td>0.284308</td>\n",
       "      <td>0.441228</td>\n",
       "      <td>0.803311</td>\n",
       "      <td>1.244539</td>\n",
       "    </tr>\n",
       "    <tr>\n",
       "      <th>1.25</th>\n",
       "      <td>-0.13</td>\n",
       "      <td>1.25</td>\n",
       "      <td>0.314597</td>\n",
       "      <td>0.085522</td>\n",
       "      <td>0.400119</td>\n",
       "      <td>0.003</td>\n",
       "      <td>0.786259</td>\n",
       "      <td>0.213741</td>\n",
       "      <td>0.459918</td>\n",
       "      <td>0.573004</td>\n",
       "      <td>1.032921</td>\n",
       "    </tr>\n",
       "    <tr>\n",
       "      <th>1.50</th>\n",
       "      <td>-0.13</td>\n",
       "      <td>1.50</td>\n",
       "      <td>0.378176</td>\n",
       "      <td>0.108580</td>\n",
       "      <td>0.486756</td>\n",
       "      <td>0.003</td>\n",
       "      <td>0.776932</td>\n",
       "      <td>0.223068</td>\n",
       "      <td>0.552865</td>\n",
       "      <td>0.727494</td>\n",
       "      <td>1.280359</td>\n",
       "    </tr>\n",
       "    <tr>\n",
       "      <th>1.75</th>\n",
       "      <td>-0.13</td>\n",
       "      <td>1.75</td>\n",
       "      <td>0.351597</td>\n",
       "      <td>0.126543</td>\n",
       "      <td>0.478140</td>\n",
       "      <td>0.003</td>\n",
       "      <td>0.735343</td>\n",
       "      <td>0.264657</td>\n",
       "      <td>0.514008</td>\n",
       "      <td>0.847850</td>\n",
       "      <td>1.361858</td>\n",
       "    </tr>\n",
       "    <tr>\n",
       "      <th>2.00</th>\n",
       "      <td>-0.13</td>\n",
       "      <td>2.00</td>\n",
       "      <td>0.351175</td>\n",
       "      <td>0.106691</td>\n",
       "      <td>0.457866</td>\n",
       "      <td>0.003</td>\n",
       "      <td>0.766981</td>\n",
       "      <td>0.233019</td>\n",
       "      <td>0.513391</td>\n",
       "      <td>0.714843</td>\n",
       "      <td>1.228234</td>\n",
       "    </tr>\n",
       "    <tr>\n",
       "      <th>...</th>\n",
       "      <th>...</th>\n",
       "      <th>...</th>\n",
       "      <td>...</td>\n",
       "      <td>...</td>\n",
       "      <td>...</td>\n",
       "      <td>...</td>\n",
       "      <td>...</td>\n",
       "      <td>...</td>\n",
       "      <td>...</td>\n",
       "      <td>...</td>\n",
       "      <td>...</td>\n",
       "      <td>...</td>\n",
       "      <td>...</td>\n",
       "    </tr>\n",
       "    <tr>\n",
       "      <th rowspan=\"5\" valign=\"top\">0.010</th>\n",
       "      <th rowspan=\"5\" valign=\"top\">0.00</th>\n",
       "      <th>4.00</th>\n",
       "      <td>0.00</td>\n",
       "      <td>4.00</td>\n",
       "      <td>0.536633</td>\n",
       "      <td>0.073452</td>\n",
       "      <td>0.610085</td>\n",
       "      <td>0.010</td>\n",
       "      <td>0.879604</td>\n",
       "      <td>0.120396</td>\n",
       "      <td>0.784517</td>\n",
       "      <td>0.492136</td>\n",
       "      <td>1.276653</td>\n",
       "    </tr>\n",
       "    <tr>\n",
       "      <th>4.25</th>\n",
       "      <td>0.00</td>\n",
       "      <td>4.25</td>\n",
       "      <td>0.567579</td>\n",
       "      <td>0.083982</td>\n",
       "      <td>0.651561</td>\n",
       "      <td>0.010</td>\n",
       "      <td>0.871106</td>\n",
       "      <td>0.128894</td>\n",
       "      <td>0.829757</td>\n",
       "      <td>0.562688</td>\n",
       "      <td>1.392445</td>\n",
       "    </tr>\n",
       "    <tr>\n",
       "      <th>4.50</th>\n",
       "      <td>0.00</td>\n",
       "      <td>4.50</td>\n",
       "      <td>0.545070</td>\n",
       "      <td>0.081844</td>\n",
       "      <td>0.626914</td>\n",
       "      <td>0.010</td>\n",
       "      <td>0.869450</td>\n",
       "      <td>0.130550</td>\n",
       "      <td>0.796851</td>\n",
       "      <td>0.548361</td>\n",
       "      <td>1.345212</td>\n",
       "    </tr>\n",
       "    <tr>\n",
       "      <th>4.75</th>\n",
       "      <td>0.00</td>\n",
       "      <td>4.75</td>\n",
       "      <td>0.577220</td>\n",
       "      <td>0.073549</td>\n",
       "      <td>0.650768</td>\n",
       "      <td>0.010</td>\n",
       "      <td>0.886982</td>\n",
       "      <td>0.113018</td>\n",
       "      <td>0.843852</td>\n",
       "      <td>0.492783</td>\n",
       "      <td>1.336634</td>\n",
       "    </tr>\n",
       "    <tr>\n",
       "      <th>5.00</th>\n",
       "      <td>0.00</td>\n",
       "      <td>5.00</td>\n",
       "      <td>0.528761</td>\n",
       "      <td>0.079014</td>\n",
       "      <td>0.607775</td>\n",
       "      <td>0.010</td>\n",
       "      <td>0.869995</td>\n",
       "      <td>0.130005</td>\n",
       "      <td>0.773009</td>\n",
       "      <td>0.529399</td>\n",
       "      <td>1.302408</td>\n",
       "    </tr>\n",
       "  </tbody>\n",
       "</table>\n",
       "<p>1904 rows × 11 columns</p>\n",
       "</div>"
      ],
      "text/plain": [
       "                                                            age_transmission_discount  \\\n",
       "transmission_risk age_transmission_discount contact_weight                              \n",
       "0.003             -0.13                     1.00                                -0.13   \n",
       "                                            1.25                                -0.13   \n",
       "                                            1.50                                -0.13   \n",
       "                                            1.75                                -0.13   \n",
       "                                            2.00                                -0.13   \n",
       "...                                                                               ...   \n",
       "0.010              0.00                     4.00                                 0.00   \n",
       "                                            4.25                                 0.00   \n",
       "                                            4.50                                 0.00   \n",
       "                                            4.75                                 0.00   \n",
       "                                            5.00                                 0.00   \n",
       "\n",
       "                                                            contact_weight  \\\n",
       "transmission_risk age_transmission_discount contact_weight                   \n",
       "0.003             -0.13                     1.00                      1.00   \n",
       "                                            1.25                      1.25   \n",
       "                                            1.50                      1.50   \n",
       "                                            1.75                      1.75   \n",
       "                                            2.00                      2.00   \n",
       "...                                                                    ...   \n",
       "0.010              0.00                     4.00                      4.00   \n",
       "                                            4.25                      4.25   \n",
       "                                            4.50                      4.50   \n",
       "                                            4.75                      4.75   \n",
       "                                            5.00                      5.00   \n",
       "\n",
       "                                                            diff_cases  \\\n",
       "transmission_risk age_transmission_discount contact_weight               \n",
       "0.003             -0.13                     1.00              0.301813   \n",
       "                                            1.25              0.314597   \n",
       "                                            1.50              0.378176   \n",
       "                                            1.75              0.351597   \n",
       "                                            2.00              0.351175   \n",
       "...                                                                ...   \n",
       "0.010              0.00                     4.00              0.536633   \n",
       "                                            4.25              0.567579   \n",
       "                                            4.50              0.545070   \n",
       "                                            4.75              0.577220   \n",
       "                                            5.00              0.528761   \n",
       "\n",
       "                                                            diff_outbreak_sizes  \\\n",
       "transmission_risk age_transmission_discount contact_weight                        \n",
       "0.003             -0.13                     1.00                       0.119895   \n",
       "                                            1.25                       0.085522   \n",
       "                                            1.50                       0.108580   \n",
       "                                            1.75                       0.126543   \n",
       "                                            2.00                       0.106691   \n",
       "...                                                                         ...   \n",
       "0.010              0.00                     4.00                       0.073452   \n",
       "                                            4.25                       0.083982   \n",
       "                                            4.50                       0.081844   \n",
       "                                            4.75                       0.073549   \n",
       "                                            5.00                       0.079014   \n",
       "\n",
       "                                                            total_diff  \\\n",
       "transmission_risk age_transmission_discount contact_weight               \n",
       "0.003             -0.13                     1.00              0.421709   \n",
       "                                            1.25              0.400119   \n",
       "                                            1.50              0.486756   \n",
       "                                            1.75              0.478140   \n",
       "                                            2.00              0.457866   \n",
       "...                                                                ...   \n",
       "0.010              0.00                     4.00              0.610085   \n",
       "                                            4.25              0.651561   \n",
       "                                            4.50              0.626914   \n",
       "                                            4.75              0.650768   \n",
       "                                            5.00              0.607775   \n",
       "\n",
       "                                                            transmission_risk  \\\n",
       "transmission_risk age_transmission_discount contact_weight                      \n",
       "0.003             -0.13                     1.00                        0.003   \n",
       "                                            1.25                        0.003   \n",
       "                                            1.50                        0.003   \n",
       "                                            1.75                        0.003   \n",
       "                                            2.00                        0.003   \n",
       "...                                                                       ...   \n",
       "0.010              0.00                     4.00                        0.010   \n",
       "                                            4.25                        0.010   \n",
       "                                            4.50                        0.010   \n",
       "                                            4.75                        0.010   \n",
       "                                            5.00                        0.010   \n",
       "\n",
       "                                                            diff_cases_ratio  \\\n",
       "transmission_risk age_transmission_discount contact_weight                     \n",
       "0.003             -0.13                     1.00                    0.715692   \n",
       "                                            1.25                    0.786259   \n",
       "                                            1.50                    0.776932   \n",
       "                                            1.75                    0.735343   \n",
       "                                            2.00                    0.766981   \n",
       "...                                                                      ...   \n",
       "0.010              0.00                     4.00                    0.879604   \n",
       "                                            4.25                    0.871106   \n",
       "                                            4.50                    0.869450   \n",
       "                                            4.75                    0.886982   \n",
       "                                            5.00                    0.869995   \n",
       "\n",
       "                                                            diff_outbreak_sizes_ratio  \\\n",
       "transmission_risk age_transmission_discount contact_weight                              \n",
       "0.003             -0.13                     1.00                             0.284308   \n",
       "                                            1.25                             0.213741   \n",
       "                                            1.50                             0.223068   \n",
       "                                            1.75                             0.264657   \n",
       "                                            2.00                             0.233019   \n",
       "...                                                                               ...   \n",
       "0.010              0.00                     4.00                             0.120396   \n",
       "                                            4.25                             0.128894   \n",
       "                                            4.50                             0.130550   \n",
       "                                            4.75                             0.113018   \n",
       "                                            5.00                             0.130005   \n",
       "\n",
       "                                                            diff_cases_norm  \\\n",
       "transmission_risk age_transmission_discount contact_weight                    \n",
       "0.003             -0.13                     1.00                   0.441228   \n",
       "                                            1.25                   0.459918   \n",
       "                                            1.50                   0.552865   \n",
       "                                            1.75                   0.514008   \n",
       "                                            2.00                   0.513391   \n",
       "...                                                                     ...   \n",
       "0.010              0.00                     4.00                   0.784517   \n",
       "                                            4.25                   0.829757   \n",
       "                                            4.50                   0.796851   \n",
       "                                            4.75                   0.843852   \n",
       "                                            5.00                   0.773009   \n",
       "\n",
       "                                                            diff_outreak_sizes_norm  \\\n",
       "transmission_risk age_transmission_discount contact_weight                            \n",
       "0.003             -0.13                     1.00                           0.803311   \n",
       "                                            1.25                           0.573004   \n",
       "                                            1.50                           0.727494   \n",
       "                                            1.75                           0.847850   \n",
       "                                            2.00                           0.714843   \n",
       "...                                                                             ...   \n",
       "0.010              0.00                     4.00                           0.492136   \n",
       "                                            4.25                           0.562688   \n",
       "                                            4.50                           0.548361   \n",
       "                                            4.75                           0.492783   \n",
       "                                            5.00                           0.529399   \n",
       "\n",
       "                                                            diff_total_norm  \n",
       "transmission_risk age_transmission_discount contact_weight                   \n",
       "0.003             -0.13                     1.00                   1.244539  \n",
       "                                            1.25                   1.032921  \n",
       "                                            1.50                   1.280359  \n",
       "                                            1.75                   1.361858  \n",
       "                                            2.00                   1.228234  \n",
       "...                                                                     ...  \n",
       "0.010              0.00                     4.00                   1.276653  \n",
       "                                            4.25                   1.392445  \n",
       "                                            4.50                   1.345212  \n",
       "                                            4.75                   1.336634  \n",
       "                                            5.00                   1.302408  \n",
       "\n",
       "[1904 rows x 11 columns]"
      ]
     },
     "execution_count": 37,
     "metadata": {},
     "output_type": "execute_result"
    }
   ],
   "source": [
    "results"
   ]
  },
  {
   "cell_type": "code",
   "execution_count": 38,
   "metadata": {},
   "outputs": [
    {
     "data": {
      "text/plain": [
       "0.2623057449298233"
      ]
     },
     "execution_count": 38,
     "metadata": {},
     "output_type": "execute_result"
    }
   ],
   "source": [
    "results['diff_total_norm'].min()"
   ]
  },
  {
   "cell_type": "code",
   "execution_count": 39,
   "metadata": {},
   "outputs": [],
   "source": [
    "min_idx = results['diff_total_norm'].argmin()\n",
    "opt_params = results.iloc[min_idx]"
   ]
  },
  {
   "cell_type": "code",
   "execution_count": 40,
   "metadata": {},
   "outputs": [
    {
     "data": {
      "application/vnd.jupyter.widget-view+json": {
       "model_id": "10485d2ff9d14711a13d3b200e602921",
       "version_major": 2,
       "version_minor": 0
      },
      "text/plain": [
       "IntProgress(value=0, max=5000)"
      ]
     },
     "metadata": {},
     "output_type": "display_data"
    },
    {
     "name": "stderr",
     "output_type": "stream",
     "text": [
      "../school/agent_teacher.py:42: RuntimeWarning: invalid value encountered in double_scalars\n",
      "  modifier = 1 - max(0, self.days_since_exposure - self.exposure_duration - 1) / \\\n",
      "../school/agent_student.py:57: RuntimeWarning: invalid value encountered in double_scalars\n",
      "  modifier = 1 - max(0, self.days_since_exposure - self.exposure_duration - 1) / \\\n"
     ]
    }
   ],
   "source": [
    "# progress bar\n",
    "N_runs = 5000\n",
    "f = IntProgress(min=0, max=N_runs) \n",
    "display(f)\n",
    "c = 0\n",
    "\n",
    "# get the values of the calibration parameters\n",
    "transmission_risk = float(opt_params['transmission_risk'])\n",
    "age_transmission_discount = float(opt_params['age_transmission_discount'])\n",
    "contact_weight = float(opt_params['contact_weight'])\n",
    "\n",
    "# create the agent dictionaries based on the given parameter values and\n",
    "# prevention measures\n",
    "agent_types = compose_agents(measures, transmission_risk, base_reception_risk)\n",
    "# since we only use contacts of type \"intermediate\" and \"far\" in this setup,\n",
    "# we set the contact type \"far\" to 1 (= base transmission risk) and only \n",
    "# calibrate the weight of the \"intermediate\" contacts\n",
    "infection_risk_contact_type_weights = {\n",
    "        'very_far': 0, 'far': 1, 'intermediate': contact_weight, 'close': 3}\n",
    "\n",
    "# conduct all runs for an ensemble with a given set of parameters\n",
    "ensemble_results = pd.DataFrame()\n",
    "for run in range(N_runs):\n",
    "    # pick an index case according to the probabilities for the school type\n",
    "    index_case = np.random.choice(list(agent_index_ratio.keys()),\n",
    "                                  p=list(agent_index_ratio.values()))\n",
    "\n",
    "    # initialize the model\n",
    "    model = SEIRX_school(G, verbosity, \n",
    "              testing = measures['testing'],\n",
    "              exposure_duration = [5, 1.9], # literature values\n",
    "              time_until_symptoms = [6.4, 0.8], # literature values\n",
    "              infection_duration = [10.91, 3.95], # literature values\n",
    "              quarantine_duration = measures['quarantine_duration'],\n",
    "              subclinical_modifier = subclinical_modifier,\n",
    "              infection_risk_contact_type_weights = \\\n",
    "                         infection_risk_contact_type_weights,\n",
    "              K1_contact_types = measures['K1_contact_types'],\n",
    "              diagnostic_test_type = measures['diagnostic_test_type'],\n",
    "              preventive_screening_test_type = \\\n",
    "                         measures['preventive_screening_test_type'],\n",
    "              follow_up_testing_interval = \\\n",
    "                         measures['follow_up_testing_interval'],\n",
    "              liberating_testing = measures['liberating_testing'],\n",
    "              index_case = index_case,\n",
    "              agent_types = agent_types, \n",
    "              age_transmission_risk_discount = \\\n",
    "                         {'slope':age_transmission_discount, 'intercept':1},\n",
    "              age_symptom_discount = age_symptom_discount)\n",
    "\n",
    "    # run the model until the outbreak is over\n",
    "    for i in range(N_steps):\n",
    "        # break if first outbreak is over\n",
    "        if len([a for a in model.schedule.agents if \\\n",
    "            (a.exposed == True or a.infectious == True)]) == 0:\n",
    "            break\n",
    "        model.step()\n",
    "\n",
    "    # collect the observables needed to calculate the difference to the\n",
    "    # expected values\n",
    "    infected_teachers = af.count_infected(model, 'teacher')\n",
    "    infected_students = af.count_infected(model, 'student')\n",
    "    # subtract the index case from the number of infected teachers/students\n",
    "    # to arrive at the number of follow-up cases\n",
    "    if index_case == 'teacher':\n",
    "        infected_teachers -= 1\n",
    "    else:\n",
    "        infected_students -= 1\n",
    "\n",
    "    ensemble_results = ensemble_results.append({\n",
    "        'infected_teachers':infected_teachers,\n",
    "        'infected_students':infected_students}, ignore_index=True)\n",
    "\n",
    "    f.value = c # update the progress bar\n",
    "    c += 1\n"
   ]
  },
  {
   "cell_type": "code",
   "execution_count": 43,
   "metadata": {},
   "outputs": [],
   "source": [
    "ensemble_results['infected_total'] = ensemble_results['infected_students'] + ensemble_results['infected_teachers']\n",
    "ensemble_results = ensemble_results[ensemble_results['infected_total'] >0]\\\n",
    "    .reset_index(drop=True)\n",
    "\n",
    "ensemble_results['infected_students_ratio'] = ensemble_results['infected_students'] /\\\n",
    "    (ensemble_results['infected_students'] + ensemble_results['infected_teachers'])\n",
    "\n",
    "ensemble_results['infected_teachers_ratio'] = ensemble_results['infected_teachers'] /\\\n",
    "    (ensemble_results['infected_students'] + ensemble_results['infected_teachers'])"
   ]
  },
  {
   "cell_type": "code",
   "execution_count": 44,
   "metadata": {},
   "outputs": [
    {
     "data": {
      "text/plain": [
       "<matplotlib.legend.Legend at 0x7ffa661359a0>"
      ]
     },
     "execution_count": 44,
     "metadata": {},
     "output_type": "execute_result"
    },
    {
     "data": {
      "image/png": "[encoded data removed]",
      "text/plain": [
       "<Figure size 1080x432 with 2 Axes>"
      ]
     },
     "metadata": {
      "needs_background": "light"
     },
     "output_type": "display_data"
    }
   ],
   "source": [
    "fig, axes = plt.subplots(1, 2, figsize=(15, 6))\n",
    "\n",
    "expected_outbreak_distro = outbreak_distro_params[school_type]\n",
    "expected_agent_cases = agent_case_ratios[school_type]\n",
    "lognorm_frozen = lognorm(expected_outbreak_distro['shape'],\n",
    "                             scale = expected_outbreak_distro['scale'],\n",
    "                             loc = expected_outbreak_distro['loc'] + 1)\n",
    "\n",
    "axes[0].hist(ensemble_results['infected_total'], bins=range(0, 30), rwidth=0.8,\n",
    "            density=True, label='simulated distributions')\n",
    "x = np.arange(0, 50, 0.1)\n",
    "axes[0].plot(x, lognorm_frozen.pdf(x), 'k--', lw=2, label='target distribution')\n",
    "axes[0].legend()\n",
    "\n",
    "axes[1].bar(['students', 'teachers'],[ensemble_results['infected_students_ratio'].mean(),\n",
    "             ensemble_results['infected_teachers_ratio'].mean()], color='b', alpha=0.5)\n",
    "\n",
    "axes[1].plot([0, 0], \\\n",
    "             [ensemble_results['infected_students_ratio'].mean() - ensemble_results['infected_students_ratio'].std(),\n",
    "              ensemble_results['infected_students_ratio'].mean() + ensemble_results['infected_students_ratio'].std()],\n",
    "             color='b')\n",
    "axes[1].plot([1, 1], \\\n",
    "             [ensemble_results['infected_teachers_ratio'].mean() - ensemble_results['infected_teachers_ratio'].std(),\n",
    "              ensemble_results['infected_teachers_ratio'].mean() + ensemble_results['infected_teachers_ratio'].std()],\n",
    "             color='b')\n",
    "\n",
    "axes[1].set_ylim(0, 1.2)\n",
    "axes[1].plot([-0.5, 0.5], \\\n",
    "             [agent_case_ratios['volksschule']['student'], agent_case_ratios['volksschule']['student']],\n",
    "            '--', color='k', label='target ratio')\n",
    "\n",
    "axes[1].plot([0.5, 1.5], \\\n",
    "             [agent_case_ratios['volksschule']['teacher'], agent_case_ratios['volksschule']['teacher']],\n",
    "            '--', color='k')\n",
    "\n",
    "axes[0].set_xlabel('outbreak size')\n",
    "axes[0].set_ylabel('density')\n",
    "\n",
    "axes[1].set_ylabel('case ratio')\n",
    "axes[1].legend()"
   ]
  },
  {
   "cell_type": "markdown",
   "metadata": {},
   "source": [
    "### Convergence investigation"
   ]
  },
  {
   "cell_type": "markdown",
   "metadata": {},
   "source": [
    "#### Errors"
   ]
  },
  {
   "cell_type": "code",
   "execution_count": 46,
   "metadata": {},
   "outputs": [
    {
     "data": {
      "application/vnd.jupyter.widget-view+json": {
       "model_id": "44b43a1d0d934191811b5466d430cbc3",
       "version_major": 2,
       "version_minor": 0
      },
      "text/plain": [
       "IntProgress(value=0, max=91)"
      ]
     },
     "metadata": {},
     "output_type": "display_data"
    }
   ],
   "source": [
    "bootstrap_range = range(100, 1001, 10)\n",
    "N_bootstrap = 100\n",
    "\n",
    "f = IntProgress(min=0, max=len(bootstrap_range)) \n",
    "display(f)\n",
    "c = 0\n",
    "\n",
    "bs_results = pd.DataFrame()\n",
    "for br in bootstrap_range:\n",
    "    group_diffs = []\n",
    "    outbreak_diffs = []\n",
    "    infected_total = []\n",
    "    for i in range(N_bootstrap):\n",
    "        sample = ensemble_results.sample(br)\n",
    "        sample = sample[sample['infected_total'] > 0]\n",
    "        chi2_distance_size, sum_of_squares_size = \\\n",
    "                    calculate_distribution_difference(school_type, sample)\n",
    "        chi2_distance_distro, sum_of_squares_distro = \\\n",
    "                    calculate_group_case_difference(school_type, sample)\n",
    "\n",
    "        group_diffs.append(chi2_distance_distro)\n",
    "        outbreak_diffs.append(chi2_distance_size)\n",
    "        infected_total.append(sample['infected_total'].median())\n",
    "        \n",
    "    bs_results = bs_results.append({\n",
    "        'samples':br,\n",
    "        'group_diff_mean':np.mean(group_diffs),\n",
    "        'group_diff_std':np.std(group_diffs),\n",
    "        'outbreak_diff_mean':np.mean(outbreak_diffs),\n",
    "        'outbreak_diff_std':np.std(outbreak_diffs),\n",
    "        'total_infected_median_mean':np.mean(infected_total),\n",
    "        'total_infected_median_std':np.std(infected_total),\n",
    "    }, ignore_index=True)\n",
    "    \n",
    "    f.value = c # update the progress bar\n",
    "    c += 1"
   ]
  },
  {
   "cell_type": "code",
   "execution_count": 47,
   "metadata": {},
   "outputs": [
    {
     "data": {
      "text/plain": [
       "Text(0, 0.5, 'group distribution error')"
      ]
     },
     "execution_count": 47,
     "metadata": {},
     "output_type": "execute_result"
    },
    {
     "data": {
      "image/png": "[encoded data removed]",
      "text/plain": [
       "<Figure size 576x360 with 2 Axes>"
      ]
     },
     "metadata": {
      "needs_background": "light"
     },
     "output_type": "display_data"
    }
   ],
   "source": [
    "fig, ax = plt.subplots(figsize=(8, 5))\n",
    "\n",
    "ax.plot(bs_results['samples'], bs_results['outbreak_diff_mean'], color='b')\n",
    "ax.fill_between(bs_results['samples'], bs_results['outbreak_diff_mean'],\n",
    "    bs_results['outbreak_diff_mean'] - bs_results['outbreak_diff_std'],\n",
    "                alpha=0.3, color='b')\n",
    "ax.fill_between(bs_results['samples'], bs_results['outbreak_diff_mean'],\n",
    "    bs_results['outbreak_diff_mean'] + bs_results['outbreak_diff_std'],\n",
    "                alpha=0.3, color='b')\n",
    "\n",
    "ax2 = ax.twinx()\n",
    "ax2.plot(bs_results['samples'], bs_results['group_diff_mean'], color='r')\n",
    "ax2.fill_between(bs_results['samples'], bs_results['group_diff_mean'],\n",
    "    bs_results['group_diff_mean'] - bs_results['group_diff_std'],\n",
    "                alpha=0.3, color='r')\n",
    "ax2.fill_between(bs_results['samples'], bs_results['group_diff_mean'],\n",
    "    bs_results['group_diff_mean'] + bs_results['group_diff_std'],\n",
    "                alpha=0.3, color='r')\n",
    "\n",
    "ax.set_xlim(100, 1000)\n",
    "ax.set_ylabel('oubtreak size error', color='b', fontsize=16)\n",
    "ax2.set_ylabel('group distribution error', color='r', fontsize=16)"
   ]
  },
  {
   "cell_type": "markdown",
   "metadata": {},
   "source": [
    "#### Medians"
   ]
  },
  {
   "cell_type": "code",
   "execution_count": 48,
   "metadata": {},
   "outputs": [
    {
     "data": {
      "text/plain": [
       "Text(0, 0.5, 'oubtreak size median')"
      ]
     },
     "execution_count": 48,
     "metadata": {},
     "output_type": "execute_result"
    },
    {
     "data": {
      "image/png": "[encoded data removed]",
      "text/plain": [
       "<Figure size 576x360 with 1 Axes>"
      ]
     },
     "metadata": {
      "needs_background": "light"
     },
     "output_type": "display_data"
    }
   ],
   "source": [
    "fig, ax = plt.subplots(figsize=(8, 5))\n",
    "\n",
    "ax.plot(bs_results['samples'], bs_results['total_infected_median_mean'], color='b')\n",
    "ax.fill_between(bs_results['samples'], bs_results['total_infected_median_mean'],\n",
    "    bs_results['total_infected_median_mean'] - bs_results['total_infected_median_std'],\n",
    "                alpha=0.3, color='b')\n",
    "ax.fill_between(bs_results['samples'], bs_results['total_infected_median_mean'],\n",
    "    bs_results['total_infected_median_mean'] + bs_results['total_infected_median_std'],\n",
    "                alpha=0.3, color='b')\n",
    "\n",
    "ax.set_xlim(100, 1000)\n",
    "ax.set_ylabel('oubtreak size median', color='b', fontsize=16)"
   ]
  },
  {
   "cell_type": "markdown",
   "metadata": {},
   "source": [
    "## Code graveyard"
   ]
  },
  {
   "cell_type": "code",
   "execution_count": 3,
   "metadata": {},
   "outputs": [],
   "source": [
    "def calculate_distribution_difference(expected_outbreak_distro, ensemble_results):\n",
    "    '''\n",
    "    Calculates the difference between the expected distribution of outbreak\n",
    "    sizes and the observed outbreak sizes in an ensemble of simulation runs\n",
    "    with the same parameters. The data-frame ensemble_results holds the number\n",
    "    of infected students and the number of infected teachers. NOTE: the index\n",
    "    case is already subtracted from these numbers.\n",
    "    '''\n",
    "    # calculate the total number of follow-up cases (outbreak size)\n",
    "    ensemble_results['infected_total'] = ensemble_results['infected_teachers'] +\\\n",
    "                    ensemble_results['infected_students']\n",
    "    \n",
    "    # censor runs with no follow-up cases as we also do not observe these in the\n",
    "    # empirical data\n",
    "    ensemble_results = ensemble_results[ensemble_results['infected_total'] > 0]\n",
    "    \n",
    "    # get the lognomal distribution with the given parameters of the expected\n",
    "    # distribution\n",
    "    lognorm_frozen = lognorm(expected_outbreak_distro['shape'],\n",
    "                             scale = expected_outbreak_distro['scale'],\n",
    "                             loc = expected_outbreak_distro['loc'])\n",
    "    \n",
    "    # outbreak size ratios in all outbreak sizes\n",
    "    y = ensemble_results['infected_total'].value_counts().values / \\\n",
    "        len(ensemble_results) \n",
    "    # outbreak sizes\n",
    "    x = ensemble_results['infected_total'].value_counts().index \n",
    "    \n",
    "    # calculate the difference between the observed outbreak sizes and the\n",
    "    # distribution of expected outbreak sizes \n",
    "    diff_outbreak_sizes_squares = ((lognorm_frozen.pdf(x) - y)**2).sum()\n",
    "    diff_outbreak_sizes_relative = \\\n",
    "        np.abs((lognorn_frozen.pdf(x) - y) / lognorn_frozen.pdf(x)).sum()\n",
    "    \n",
    "    return diff_outbreak_sizes_squares, diff_outbreak_sizes_relative"
   ]
  },
  {
   "cell_type": "code",
   "execution_count": 5,
   "metadata": {},
   "outputs": [],
   "source": [
    "def calculate_group_case_difference(expected_agent_cases, ensemble_results):\n",
    "    '''\n",
    "    Calculates the difference between the expected number of infected teachers\n",
    "    / infected students and the observed number of infected teachers / students\n",
    "    in an ensemble of simulation runs with the same parameters. The data-frame \n",
    "    ensemble_results holds the number of infected students and the number of \n",
    "    infected teachers. NOTE: the index case is already subtracted from these\n",
    "    numbers.\n",
    "    '''\n",
    "    # calculate ratios of infected teachers and students\n",
    "    ensemble_results['teacher_ratio'] = ensemble_results['infected_teachers'] / \\\n",
    "        (ensemble_results['infected_teachers'] + ensemble_results['infected_students'])\n",
    "    ensemble_results['student_ratio'] = ensemble_results['infected_students'] / \\\n",
    "        (ensemble_results['infected_teachers'] + ensemble_results['infected_students'])\n",
    "    \n",
    "    # censor runs with no follow-up cases as we also do not observe these in the\n",
    "    # empirical data\n",
    "    ensemble_results = ensemble_results[\\\n",
    "                        (ensemble_results['infected_students'] > 0) | \\\n",
    "                        (ensemble_results['infected_teachers'] > 0)]\n",
    "    \n",
    "    expected_teacher_cases = expected_agent_cases['teacher']\n",
    "    expected_student_cases = expected_agent_cases['student']\n",
    "    # calculate the observed cases as ensemble means\n",
    "    observed_teacher_cases = ensemble_results['teacher_ratio'].mean()\n",
    "    observed_student_cases = ensemble_results['student_ratio'].mean()\n",
    "    \n",
    "    diff_cases = (expected_teacher_cases - observed_teacher_cases)**2 + \\\n",
    "                 (expected_student_cases - observed_student_cases)**2\n",
    "    \n",
    "    # the weighing by a factor of 10 is an empirical factor to make sure the\n",
    "    # difference from the agent group distribution is of the same order of\n",
    "    # magnitude as the difference from the outbreak distribution and therefore\n",
    "    # the total difference is not predominantly driven by either of the two\n",
    "    # contributions.\n",
    "    return diff_cases * 10"
   ]
  },
  {
   "cell_type": "code",
   "execution_count": null,
   "metadata": {},
   "outputs": [],
   "source": []
  }
 ],
 "metadata": {
  "kernelspec": {
   "display_name": "Python 3",
   "language": "python",
   "name": "python3"
  },
  "language_info": {
   "codemirror_mode": {
    "name": "ipython",
    "version": 3
   },
   "file_extension": ".py",
   "mimetype": "text/x-python",
   "name": "python",
   "nbconvert_exporter": "python",
   "pygments_lexer": "ipython3",
   "version": "3.8.2"
  }
 },
 "nbformat": 4,
 "nbformat_minor": 4
}
