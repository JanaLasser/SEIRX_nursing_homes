{
 "cells": [
  {
   "cell_type": "markdown",
   "metadata": {},
   "source": [
    "# Construct school interaction networks for schools used for calibration from basic school statistics"
   ]
  },
  {
   "cell_type": "code",
   "execution_count": 10,
   "metadata": {},
   "outputs": [],
   "source": [
    "import networkx as nx\n",
    "import pandas as pd\n",
    "from os.path import join\n",
    "\n",
    "# network construction utilities\n",
    "import construct_school_network as csn\n",
    "\n",
    "# for progress bars\n",
    "from ipywidgets import IntProgress\n",
    "from IPython.display import display\n",
    "import time"
   ]
  },
  {
   "cell_type": "markdown",
   "metadata": {},
   "source": [
    "In this script, contact networks of \"average\" Austrian schools, depending on school type are created for the purpose of calibrating the simulation. These characteristics (mean number of classes, mean students per class) were determined from [statistics about Austrian schools](https://www.bmbwf.gv.at/Themen/schule/schulsystem/gd.html) (year 2017/18, page 10) and confirmed in interviews with a range of Austrian teachers and school directors conducted in December 2020. The school types modeled here are\n",
    "* Primary schools (Volksschule), ```primary```\n",
    "* Primary schools with daycare (Volksschule mit Ganztagesbetreuung), ```primary_dc```\n",
    "* Lower secondary schools (Unterstufe), ```lower_secondary```\n",
    "* Lower secondary schools with daycare (Unterstufe mit Ganztagesbetreuung), ```lower_secondary_dc```\n",
    "* Upper secondary schools (Oberstufe), ```upper_secondary```\n",
    "* Secondary schools (Gymnasium), ```secondary```\n",
    "* Secondary schools with daycare (Gymnasium mit Ganztagesbetreuung), ```secondary_dc``` \n",
    "\n",
    "For every school type, 500 different implementations of the same network are created. Two networks of the same school type with the same characteristics (class size, number of students) can still be different, because the households are created randomly from underlying distributions. This is important since a strong component of disease spread between classes in the same school is the connection between siblings that live in the same household and go to the same school but different classes. These connections will be different for every implementation of the same school network. Here we create 500 different networks, since for the calibration we simulate 500 runs for every parameter combination, and therefore every run is simulated on a slightly different network, sampling different constellations of households.\n",
    "\n",
    "**NOTE**: A more detailed description about the design decisions entering the modeling of each school type can be found in the document ```school_type_documentation```. In the following, \"students\" always refers to the number of students per class.  "
   ]
  },
  {
   "cell_type": "markdown",
   "metadata": {},
   "source": [
    "## Background information"
   ]
  },
  {
   "cell_type": "markdown",
   "metadata": {},
   "source": [
    "### School characteristics"
   ]
  },
  {
   "cell_type": "code",
   "execution_count": 2,
   "metadata": {},
   "outputs": [],
   "source": [
    "# different age structures in Austrian school types\n",
    "age_brackets = {'primary':[6, 7, 8, 9],\n",
    "                'primary_dc':[6, 7, 8, 9],\n",
    "                'lower_secondary':[10, 11, 12, 13],\n",
    "                'lower_secondary_dc':[10, 11, 12, 13],\n",
    "                'upper_secondary':[14, 15, 16, 17],\n",
    "                'secondary':[10, 11, 12, 13, 14, 15, 16, 17],\n",
    "                'secondary_dc':[10, 11, 12, 13, 14, 15, 16, 17]\n",
    "               }"
   ]
  },
  {
   "cell_type": "code",
   "execution_count": 3,
   "metadata": {},
   "outputs": [],
   "source": [
    "# average number of classes per school type and students per class\n",
    "school_characteristics = {\n",
    "    # Primary schools\n",
    "    # Volksschule: schools 3033, classes: 18245, students: 339382\n",
    "    'primary':            {'classes':8, 'students':19},\n",
    "    'primary_dc':         {'classes':8, 'students':19},\n",
    "    \n",
    "    # Lower secondary schools\n",
    "    # Hauptschule: schools 47, classes 104, students: 1993\n",
    "    # Mittelschule: schools 1131, classes: 10354, students: 205905\n",
    "    # Sonderschule: schools 292, classes: 1626, students: 14815\n",
    "    # Total: schools: 1470, classes: 12084, students: 222713\n",
    "    'lower_secondary':    {'classes':8, 'students':18},\n",
    "    'lower_secondary_dc': {'classes':8, 'students':18},\n",
    "    \n",
    "    # Upper secondary schools\n",
    "    # Oberstufenrealgymnasium: schools 114, classes 1183, students: 26211\n",
    "    # BMHS: schools 734, classes 8042, students 187592\n",
    "    # Total: schools: 848, classes 9225, students: 213803\n",
    "    'upper_secondary':    {'classes':10, 'students':23}, # rounded down from 10.8 classes\n",
    "    \n",
    "    # Secondary schools\n",
    "    # AHS Langform: schools 281, classes 7610, students 179633\n",
    "    'secondary':          {'classes':28, 'students':24}, # rounded up from 27.1 classes\n",
    "    'secondary_dc':       {'classes':28, 'students':24} # rounded up from 27.1 classes\n",
    "}"
   ]
  },
  {
   "cell_type": "markdown",
   "metadata": {},
   "source": [
    "### Characteristics of Austrian families"
   ]
  },
  {
   "cell_type": "markdown",
   "metadata": {},
   "source": [
    "Family sizes with children < 18 years old from the [Austrian microcensus 2019](https://www.statistik.at/web_de/statistiken/menschen_und_gesellschaft/bevoelkerung/haushalte_familien_lebensformen/familien/index.html) (Note: 63.45 % of all households have no children), file ```familien_nach_familientyp_und_zahl_der_kinder_ausgewaehlter_altersgruppen_```:\n",
    "\n",
    "* 1 child: 48.15 % (81.95 % two parents, 18.05 % single parents)\n",
    "* 2 children: 38.12 % (89.70 % two parents, 10.30% single parents)\n",
    "* 3 children: 10.69 % (88.26 % two parents, 11.74 % single parents)\n",
    "* 4 or more children: 3.04 % (87.44 % two parents, 12.56 % single parents)"
   ]
  },
  {
   "cell_type": "code",
   "execution_count": 4,
   "metadata": {},
   "outputs": [],
   "source": [
    "# given the precondition that the family has at least one child, how many\n",
    "# children does the family have?\n",
    "p_children = {1:0.4815, 2:0.3812, 3:0.1069, 4:0.0304}\n",
    "\n",
    "# probability of being a single parent, depending on the number of children\n",
    "p_parents = {1:{1:0.1805, 2:0.8195},\n",
    "             2:{1:0.1030, 2:0.8970},\n",
    "             3:{1:0.1174, 2:0.8826},\n",
    "             4:{1:0.1256, 2:0.8744}\n",
    "            }"
   ]
  },
  {
   "cell_type": "markdown",
   "metadata": {},
   "source": [
    "General household sizes of households with one family (2.51% of households have more than one family) [Austrain household statistics 2019](https://www.statistik.at/web_de/statistiken/menschen_und_gesellschaft/bevoelkerung/haushalte_familien_lebensformen/haushalte/index.html), files \n",
    "* ```ergebnisse_im_ueberblick_privathaushalte_1985_-_2019```\n",
    "* ```familien_nach_familientyp_und_zahl_der_kinder_ausgewaehlter_altersgruppen_``` \n",
    "\n",
    "Percentages:\n",
    "* single $\\frac{(3950 - 2388)}{3959}$ = 39.54 %\n",
    "* couple, no kids $\\frac{1001}{3959}$ = 25.28 % \n",
    "* single parent with one kid < 18: $\\frac{277}{3950} \\cdot \\frac{87.0}{137.4}$ = 4.44 %\n",
    "* single parent with two kids < 18: $\\frac{277}{3950} \\cdot \\frac{37.3}{137.4}$ = 1.9%\n",
    "* single parent with three or more kids < 18: $\\frac{277}{3950} \\cdot \\frac{13.1}{137.4}$ = 0.67%\n",
    "* couples with one kid < 18: $\\frac{1050}{3950} \\cdot \\frac{252.4}{606.7}$ = 11.06 %\n",
    "* couples with two kids < 18: $\\frac{1050}{3950} \\cdot \\frac{255.5}{606.7}$ = 11.19 %\n",
    "* couples with three or more kids <18: $\\frac{1050}{3950} \\cdot \\frac{98.9}{606.7}$ = 4.33 % \n",
    "* households with three adults (statistic: household with  kids > 18 years): 1.59 % "
   ]
  },
  {
   "cell_type": "code",
   "execution_count": 5,
   "metadata": {},
   "outputs": [],
   "source": [
    "# probability of a household having a certain size, independent of having a child\n",
    "teacher_p_adults = {1:0.4655, 2:0.5186, 3:0.0159}\n",
    "teacher_p_children = {1:{0:0.8495, 1:0.0953, 2:0.0408, 3:0.0144},\n",
    "                      2:{0:0.4874, 1:0.2133, 2:0.2158, 3:0.0835},\n",
    "                      3:{0:1, 1:0, 2:0, 3:0}}"
   ]
  },
  {
   "cell_type": "markdown",
   "metadata": {},
   "source": [
    "### Link type <-> contact type mapping"
   ]
  },
  {
   "cell_type": "markdown",
   "metadata": {},
   "source": [
    "The simulation relies on specified contact strengths (close, intermediate, far, very far) to determine infection risk. Nevertheless, depending on the setting, there are a multitude of different contacts (link types) between different agent groups and during different activities. The below dictionary provides a complete list of all link types that exist in the school setting, and a mapping of every link type to the corresponding contact type."
   ]
  },
  {
   "cell_type": "code",
   "execution_count": 6,
   "metadata": {},
   "outputs": [],
   "source": [
    "contact_map = {\n",
    "    'student_household':'close', \n",
    "    'student_student_intra_class':'far',\n",
    "    'student_student_table_neighbour':'intermediate',\n",
    "    'student_student_daycare':'far',\n",
    "    'teacher_household':'close',\n",
    "    'teacher_teacher_short':'far', \n",
    "    'teacher_teacher_long':'intermediate',\n",
    "    'teacher_teacher_team_teaching':'intermediate',\n",
    "    'teacher_teacher_daycare_supervision':'intermediate',\n",
    "    'teaching_teacher_student':'intermediate',\n",
    "    'daycare_supervision_teacher_student':'intermediate'\n",
    "}\n",
    "# Note: student_student_daycare overwrites student_student_intra_class and\n",
    "# student_student_table_neighbour\n",
    "\n",
    "# Note: teacher_teacher_daycare_supervision and teacher_teacher_team_teaching \n",
    "# overwrite teacher_teacher_short and teacher_teacher_long"
   ]
  },
  {
   "cell_type": "markdown",
   "metadata": {},
   "source": [
    "### Teacher social contacts"
   ]
  },
  {
   "cell_type": "markdown",
   "metadata": {},
   "source": [
    "Network density scores from an [article about interactions between teachers](https://academic.oup.com/her/article/23/1/62/834723?login=true) for \"socialize with outside of school\" (```r_friend```) and \"engage in conversation regularly\" (```r_conversation```)."
   ]
  },
  {
   "cell_type": "code",
   "execution_count": 7,
   "metadata": {},
   "outputs": [],
   "source": [
    "r_teacher_friend = 0.059\n",
    "r_teacher_conversation = 0.255"
   ]
  },
  {
   "cell_type": "markdown",
   "metadata": {},
   "source": [
    "## Compose calibration schools"
   ]
  },
  {
   "cell_type": "code",
   "execution_count": 12,
   "metadata": {
    "collapsed": true,
    "jupyter": {
     "outputs_hidden": true
    }
   },
   "outputs": [
    {
     "data": {
      "application/vnd.jupyter.widget-view+json": {
       "model_id": "fd24a67aeef3434a8416f5ce1fdce4e6",
       "version_major": 2,
       "version_minor": 0
      },
      "text/plain": [
       "IntProgress(value=0, max=501)"
      ]
     },
     "metadata": {},
     "output_type": "display_data"
    },
    {
     "name": "stdout",
     "output_type": "stream",
     "text": [
      "secondary_dc\n"
     ]
    },
    {
     "ename": "KeyboardInterrupt",
     "evalue": "",
     "output_type": "error",
     "traceback": [
      "\u001b[0;31m---------------------------------------------------------------------------\u001b[0m",
      "\u001b[0;31mKeyboardInterrupt\u001b[0m                         Traceback (most recent call last)",
      "\u001b[0;32m<ipython-input-12-7f9f44cac4e3>\u001b[0m in \u001b[0;36m<module>\u001b[0;34m\u001b[0m\n\u001b[1;32m     15\u001b[0m \u001b[0;34m\u001b[0m\u001b[0m\n\u001b[1;32m     16\u001b[0m     \u001b[0;32mfor\u001b[0m \u001b[0mi\u001b[0m \u001b[0;32min\u001b[0m \u001b[0mrange\u001b[0m\u001b[0;34m(\u001b[0m\u001b[0;36m500\u001b[0m\u001b[0;34m,\u001b[0m \u001b[0;36m1001\u001b[0m\u001b[0;34m)\u001b[0m\u001b[0;34m:\u001b[0m\u001b[0;34m\u001b[0m\u001b[0;34m\u001b[0m\u001b[0m\n\u001b[0;32m---> 17\u001b[0;31m         G, teacher_schedule, student_schedule = csn.compose_school_graph(\\\n\u001b[0m\u001b[1;32m     18\u001b[0m                     \u001b[0mschool_type\u001b[0m\u001b[0;34m,\u001b[0m \u001b[0mN_classes\u001b[0m\u001b[0;34m,\u001b[0m \u001b[0mclass_size\u001b[0m\u001b[0;34m,\u001b[0m\u001b[0;34m\u001b[0m\u001b[0;34m\u001b[0m\u001b[0m\n\u001b[1;32m     19\u001b[0m                     \u001b[0mN_floors\u001b[0m\u001b[0;34m,\u001b[0m \u001b[0mp_children\u001b[0m\u001b[0;34m,\u001b[0m \u001b[0mp_parents\u001b[0m\u001b[0;34m,\u001b[0m \u001b[0mteacher_p_adults\u001b[0m\u001b[0;34m,\u001b[0m\u001b[0;34m\u001b[0m\u001b[0;34m\u001b[0m\u001b[0m\n",
      "\u001b[0;32m~/CSH/medical/analysis/nursing_homes/school/construct_school_network.py\u001b[0m in \u001b[0;36mcompose_school_graph\u001b[0;34m(school_type, N_classes, class_size, N_floors, student_p_children, student_p_parents, teacher_p_adults, teacher_p_children, r_teacher_conversation, r_teacher_friend)\u001b[0m\n\u001b[1;32m   1953\u001b[0m         \u001b[0;31m# generate the student schedule based on whether or not there is daycare\u001b[0m\u001b[0;34m\u001b[0m\u001b[0;34m\u001b[0m\u001b[0;34m\u001b[0m\u001b[0m\n\u001b[1;32m   1954\u001b[0m         \u001b[0;31m# for the given school type\u001b[0m\u001b[0;34m\u001b[0m\u001b[0;34m\u001b[0m\u001b[0;34m\u001b[0m\u001b[0m\n\u001b[0;32m-> 1955\u001b[0;31m \tstudent_schedule = generate_student_schedule(school_type, N_classes,\n\u001b[0m\u001b[1;32m   1956\u001b[0m \t\t\t\t\t\tclass_size)\n\u001b[1;32m   1957\u001b[0m \u001b[0;34m\u001b[0m\u001b[0m\n",
      "\u001b[0;32m~/CSH/medical/analysis/nursing_homes/school/construct_school_network.py\u001b[0m in \u001b[0;36mgenerate_student_schedule\u001b[0;34m(school_type, N_classes, class_size, student_offset)\u001b[0m\n\u001b[1;32m   1129\u001b[0m                 \u001b[0moffset\u001b[0m \u001b[0;34m=\u001b[0m \u001b[0mlen\u001b[0m\u001b[0;34m(\u001b[0m\u001b[0mlower_secondary_classes\u001b[0m\u001b[0;34m)\u001b[0m \u001b[0;34m*\u001b[0m \u001b[0mclass_size\u001b[0m\u001b[0;34m\u001b[0m\u001b[0;34m\u001b[0m\u001b[0m\n\u001b[1;32m   1130\u001b[0m \u001b[0;34m\u001b[0m\u001b[0m\n\u001b[0;32m-> 1131\u001b[0;31m \t\tlower_secondary_schedule = generate_student_schedule(\\\n\u001b[0m\u001b[1;32m   1132\u001b[0m \t\t\t'lower_secondary_dc', len(lower_secondary_classes), class_size)\n\u001b[1;32m   1133\u001b[0m \t\tupper_secondary_schedule = generate_student_schedule(\\\n",
      "\u001b[0;32m~/CSH/medical/analysis/nursing_homes/school/construct_school_network.py\u001b[0m in \u001b[0;36mgenerate_student_schedule\u001b[0;34m(school_type, N_classes, class_size, student_offset)\u001b[0m\n\u001b[1;32m   1217\u001b[0m                                         \u001b[0;31m# function generate_student_daycare_contacts\u001b[0m\u001b[0;34m\u001b[0m\u001b[0;34m\u001b[0m\u001b[0;34m\u001b[0m\u001b[0m\n\u001b[1;32m   1218\u001b[0m                                         \u001b[0mclassroom\u001b[0m \u001b[0;34m=\u001b[0m \u001b[0mint\u001b[0m\u001b[0;34m(\u001b[0m\u001b[0;34m(\u001b[0m\u001b[0mi\u001b[0m \u001b[0;34m-\u001b[0m \u001b[0;36m1\u001b[0m\u001b[0;34m)\u001b[0m \u001b[0;34m/\u001b[0m \u001b[0mclass_size\u001b[0m\u001b[0;34m)\u001b[0m \u001b[0;34m+\u001b[0m \u001b[0;36m1\u001b[0m\u001b[0;34m\u001b[0m\u001b[0;34m\u001b[0m\u001b[0m\n\u001b[0;32m-> 1219\u001b[0;31m                                         \u001b[0mstudent_schedule\u001b[0m\u001b[0;34m.\u001b[0m\u001b[0mloc\u001b[0m\u001b[0;34m[\u001b[0m\u001b[0mwd\u001b[0m\u001b[0;34m,\u001b[0m\u001b[0ms\u001b[0m\u001b[0;34m]\u001b[0m\u001b[0;34m[\u001b[0m\u001b[0;34m'hour_{}'\u001b[0m\u001b[0;34m.\u001b[0m\u001b[0mformat\u001b[0m\u001b[0;34m(\u001b[0m\u001b[0mhour\u001b[0m\u001b[0;34m)\u001b[0m\u001b[0;34m]\u001b[0m\u001b[0;34m=\u001b[0m\u001b[0mclassroom\u001b[0m\u001b[0;34m\u001b[0m\u001b[0;34m\u001b[0m\u001b[0m\n\u001b[0m\u001b[1;32m   1220\u001b[0m \u001b[0;34m\u001b[0m\u001b[0m\n\u001b[1;32m   1221\u001b[0m                         \u001b[0;32mfor\u001b[0m \u001b[0ms\u001b[0m \u001b[0;32min\u001b[0m \u001b[0mnon_daycare_students\u001b[0m\u001b[0;34m:\u001b[0m\u001b[0;34m\u001b[0m\u001b[0;34m\u001b[0m\u001b[0m\n",
      "\u001b[0;32m~/anaconda3/envs/covid/lib/python3.8/site-packages/pandas/core/indexing.py\u001b[0m in \u001b[0;36m__getitem__\u001b[0;34m(self, key)\u001b[0m\n\u001b[1;32m   1760\u001b[0m                 \u001b[0;32mexcept\u001b[0m \u001b[0;34m(\u001b[0m\u001b[0mKeyError\u001b[0m\u001b[0;34m,\u001b[0m \u001b[0mIndexError\u001b[0m\u001b[0;34m,\u001b[0m \u001b[0mAttributeError\u001b[0m\u001b[0;34m)\u001b[0m\u001b[0;34m:\u001b[0m\u001b[0;34m\u001b[0m\u001b[0;34m\u001b[0m\u001b[0m\n\u001b[1;32m   1761\u001b[0m                     \u001b[0;32mpass\u001b[0m\u001b[0;34m\u001b[0m\u001b[0;34m\u001b[0m\u001b[0m\n\u001b[0;32m-> 1762\u001b[0;31m             \u001b[0;32mreturn\u001b[0m \u001b[0mself\u001b[0m\u001b[0;34m.\u001b[0m\u001b[0m_getitem_tuple\u001b[0m\u001b[0;34m(\u001b[0m\u001b[0mkey\u001b[0m\u001b[0;34m)\u001b[0m\u001b[0;34m\u001b[0m\u001b[0;34m\u001b[0m\u001b[0m\n\u001b[0m\u001b[1;32m   1763\u001b[0m         \u001b[0;32melse\u001b[0m\u001b[0;34m:\u001b[0m\u001b[0;34m\u001b[0m\u001b[0;34m\u001b[0m\u001b[0m\n\u001b[1;32m   1764\u001b[0m             \u001b[0;31m# we by definition only have the 0th axis\u001b[0m\u001b[0;34m\u001b[0m\u001b[0;34m\u001b[0m\u001b[0;34m\u001b[0m\u001b[0m\n",
      "\u001b[0;32m~/anaconda3/envs/covid/lib/python3.8/site-packages/pandas/core/indexing.py\u001b[0m in \u001b[0;36m_getitem_tuple\u001b[0;34m(self, tup)\u001b[0m\n\u001b[1;32m   1270\u001b[0m     \u001b[0;32mdef\u001b[0m \u001b[0m_getitem_tuple\u001b[0m\u001b[0;34m(\u001b[0m\u001b[0mself\u001b[0m\u001b[0;34m,\u001b[0m \u001b[0mtup\u001b[0m\u001b[0;34m:\u001b[0m \u001b[0mTuple\u001b[0m\u001b[0;34m)\u001b[0m\u001b[0;34m:\u001b[0m\u001b[0;34m\u001b[0m\u001b[0;34m\u001b[0m\u001b[0m\n\u001b[1;32m   1271\u001b[0m         \u001b[0;32mtry\u001b[0m\u001b[0;34m:\u001b[0m\u001b[0;34m\u001b[0m\u001b[0;34m\u001b[0m\u001b[0m\n\u001b[0;32m-> 1272\u001b[0;31m             \u001b[0;32mreturn\u001b[0m \u001b[0mself\u001b[0m\u001b[0;34m.\u001b[0m\u001b[0m_getitem_lowerdim\u001b[0m\u001b[0;34m(\u001b[0m\u001b[0mtup\u001b[0m\u001b[0;34m)\u001b[0m\u001b[0;34m\u001b[0m\u001b[0;34m\u001b[0m\u001b[0m\n\u001b[0m\u001b[1;32m   1273\u001b[0m         \u001b[0;32mexcept\u001b[0m \u001b[0mIndexingError\u001b[0m\u001b[0;34m:\u001b[0m\u001b[0;34m\u001b[0m\u001b[0;34m\u001b[0m\u001b[0m\n\u001b[1;32m   1274\u001b[0m             \u001b[0;32mpass\u001b[0m\u001b[0;34m\u001b[0m\u001b[0;34m\u001b[0m\u001b[0m\n",
      "\u001b[0;32m~/anaconda3/envs/covid/lib/python3.8/site-packages/pandas/core/indexing.py\u001b[0m in \u001b[0;36m_getitem_lowerdim\u001b[0;34m(self, tup)\u001b[0m\n\u001b[1;32m   1370\u001b[0m \u001b[0;34m\u001b[0m\u001b[0m\n\u001b[1;32m   1371\u001b[0m         \u001b[0;31m# we may have a nested tuples indexer here\u001b[0m\u001b[0;34m\u001b[0m\u001b[0;34m\u001b[0m\u001b[0;34m\u001b[0m\u001b[0m\n\u001b[0;32m-> 1372\u001b[0;31m         \u001b[0;32mif\u001b[0m \u001b[0mself\u001b[0m\u001b[0;34m.\u001b[0m\u001b[0m_is_nested_tuple_indexer\u001b[0m\u001b[0;34m(\u001b[0m\u001b[0mtup\u001b[0m\u001b[0;34m)\u001b[0m\u001b[0;34m:\u001b[0m\u001b[0;34m\u001b[0m\u001b[0;34m\u001b[0m\u001b[0m\n\u001b[0m\u001b[1;32m   1373\u001b[0m             \u001b[0;32mreturn\u001b[0m \u001b[0mself\u001b[0m\u001b[0;34m.\u001b[0m\u001b[0m_getitem_nested_tuple\u001b[0m\u001b[0;34m(\u001b[0m\u001b[0mtup\u001b[0m\u001b[0;34m)\u001b[0m\u001b[0;34m\u001b[0m\u001b[0;34m\u001b[0m\u001b[0m\n\u001b[1;32m   1374\u001b[0m \u001b[0;34m\u001b[0m\u001b[0m\n",
      "\u001b[0;32m~/anaconda3/envs/covid/lib/python3.8/site-packages/pandas/core/indexing.py\u001b[0m in \u001b[0;36m_is_nested_tuple_indexer\u001b[0;34m(self, tup)\u001b[0m\n\u001b[1;32m    715\u001b[0m         \"\"\"\n\u001b[1;32m    716\u001b[0m         \u001b[0;32mif\u001b[0m \u001b[0many\u001b[0m\u001b[0;34m(\u001b[0m\u001b[0misinstance\u001b[0m\u001b[0;34m(\u001b[0m\u001b[0max\u001b[0m\u001b[0;34m,\u001b[0m \u001b[0mABCMultiIndex\u001b[0m\u001b[0;34m)\u001b[0m \u001b[0;32mfor\u001b[0m \u001b[0max\u001b[0m \u001b[0;32min\u001b[0m \u001b[0mself\u001b[0m\u001b[0;34m.\u001b[0m\u001b[0mobj\u001b[0m\u001b[0;34m.\u001b[0m\u001b[0maxes\u001b[0m\u001b[0;34m)\u001b[0m\u001b[0;34m:\u001b[0m\u001b[0;34m\u001b[0m\u001b[0;34m\u001b[0m\u001b[0m\n\u001b[0;32m--> 717\u001b[0;31m             \u001b[0;32mreturn\u001b[0m \u001b[0many\u001b[0m\u001b[0;34m(\u001b[0m\u001b[0mis_nested_tuple\u001b[0m\u001b[0;34m(\u001b[0m\u001b[0mtup\u001b[0m\u001b[0;34m,\u001b[0m \u001b[0max\u001b[0m\u001b[0;34m)\u001b[0m \u001b[0;32mfor\u001b[0m \u001b[0max\u001b[0m \u001b[0;32min\u001b[0m \u001b[0mself\u001b[0m\u001b[0;34m.\u001b[0m\u001b[0mobj\u001b[0m\u001b[0;34m.\u001b[0m\u001b[0maxes\u001b[0m\u001b[0;34m)\u001b[0m\u001b[0;34m\u001b[0m\u001b[0;34m\u001b[0m\u001b[0m\n\u001b[0m\u001b[1;32m    718\u001b[0m         \u001b[0;32mreturn\u001b[0m \u001b[0;32mFalse\u001b[0m\u001b[0;34m\u001b[0m\u001b[0;34m\u001b[0m\u001b[0m\n\u001b[1;32m    719\u001b[0m \u001b[0;34m\u001b[0m\u001b[0m\n",
      "\u001b[0;32m~/anaconda3/envs/covid/lib/python3.8/site-packages/pandas/core/indexing.py\u001b[0m in \u001b[0;36m<genexpr>\u001b[0;34m(.0)\u001b[0m\n\u001b[1;32m    715\u001b[0m         \"\"\"\n\u001b[1;32m    716\u001b[0m         \u001b[0;32mif\u001b[0m \u001b[0many\u001b[0m\u001b[0;34m(\u001b[0m\u001b[0misinstance\u001b[0m\u001b[0;34m(\u001b[0m\u001b[0max\u001b[0m\u001b[0;34m,\u001b[0m \u001b[0mABCMultiIndex\u001b[0m\u001b[0;34m)\u001b[0m \u001b[0;32mfor\u001b[0m \u001b[0max\u001b[0m \u001b[0;32min\u001b[0m \u001b[0mself\u001b[0m\u001b[0;34m.\u001b[0m\u001b[0mobj\u001b[0m\u001b[0;34m.\u001b[0m\u001b[0maxes\u001b[0m\u001b[0;34m)\u001b[0m\u001b[0;34m:\u001b[0m\u001b[0;34m\u001b[0m\u001b[0;34m\u001b[0m\u001b[0m\n\u001b[0;32m--> 717\u001b[0;31m             \u001b[0;32mreturn\u001b[0m \u001b[0many\u001b[0m\u001b[0;34m(\u001b[0m\u001b[0mis_nested_tuple\u001b[0m\u001b[0;34m(\u001b[0m\u001b[0mtup\u001b[0m\u001b[0;34m,\u001b[0m \u001b[0max\u001b[0m\u001b[0;34m)\u001b[0m \u001b[0;32mfor\u001b[0m \u001b[0max\u001b[0m \u001b[0;32min\u001b[0m \u001b[0mself\u001b[0m\u001b[0;34m.\u001b[0m\u001b[0mobj\u001b[0m\u001b[0;34m.\u001b[0m\u001b[0maxes\u001b[0m\u001b[0;34m)\u001b[0m\u001b[0;34m\u001b[0m\u001b[0;34m\u001b[0m\u001b[0m\n\u001b[0m\u001b[1;32m    718\u001b[0m         \u001b[0;32mreturn\u001b[0m \u001b[0;32mFalse\u001b[0m\u001b[0;34m\u001b[0m\u001b[0;34m\u001b[0m\u001b[0m\n\u001b[1;32m    719\u001b[0m \u001b[0;34m\u001b[0m\u001b[0m\n",
      "\u001b[0;32m~/anaconda3/envs/covid/lib/python3.8/site-packages/pandas/core/indexing.py\u001b[0m in \u001b[0;36mis_nested_tuple\u001b[0;34m(tup, labels)\u001b[0m\n\u001b[1;32m   2384\u001b[0m         \u001b[0;32mreturn\u001b[0m \u001b[0;32mFalse\u001b[0m\u001b[0;34m\u001b[0m\u001b[0;34m\u001b[0m\u001b[0m\n\u001b[1;32m   2385\u001b[0m \u001b[0;34m\u001b[0m\u001b[0m\n\u001b[0;32m-> 2386\u001b[0;31m     \u001b[0;32mfor\u001b[0m \u001b[0mi\u001b[0m\u001b[0;34m,\u001b[0m \u001b[0mk\u001b[0m \u001b[0;32min\u001b[0m \u001b[0menumerate\u001b[0m\u001b[0;34m(\u001b[0m\u001b[0mtup\u001b[0m\u001b[0;34m)\u001b[0m\u001b[0;34m:\u001b[0m\u001b[0;34m\u001b[0m\u001b[0;34m\u001b[0m\u001b[0m\n\u001b[0m\u001b[1;32m   2387\u001b[0m \u001b[0;34m\u001b[0m\u001b[0m\n\u001b[1;32m   2388\u001b[0m         \u001b[0;32mif\u001b[0m \u001b[0mis_list_like\u001b[0m\u001b[0;34m(\u001b[0m\u001b[0mk\u001b[0m\u001b[0;34m)\u001b[0m \u001b[0;32mor\u001b[0m \u001b[0misinstance\u001b[0m\u001b[0;34m(\u001b[0m\u001b[0mk\u001b[0m\u001b[0;34m,\u001b[0m \u001b[0mslice\u001b[0m\u001b[0;34m)\u001b[0m\u001b[0;34m:\u001b[0m\u001b[0;34m\u001b[0m\u001b[0;34m\u001b[0m\u001b[0m\n",
      "\u001b[0;31mKeyboardInterrupt\u001b[0m: "
     ]
    }
   ],
   "source": [
    "# in principle there is functionality in place to generate contacts\n",
    "# between students in different classes, depending on the floor the\n",
    "# classes are on. We currently don't use this functionality, as \n",
    "# schools all implement measures to keep between-class-contacts to\n",
    "# a minimum- Therefore floor specifications are not important for our\n",
    "# school layout and we just assume that all classes are on the same\n",
    "# floor.\n",
    "N_floors = 1\n",
    "\n",
    "school_types = ['primary', 'primary_dc', 'lower_secondary','lower_secondary_dc',\n",
    "                'upper_secondary', 'secondary','secondary_dc']\n",
    "\n",
    "dst = '../data/school/representative_schools'\n",
    "\n",
    "# progress bar\n",
    "f = IntProgress(min=0, max=len(school_types) * 501) \n",
    "display(f)\n",
    "c = 0\n",
    "\n",
    "for school_type in school_types:\n",
    "    print(school_type)\n",
    "    N_classes = school_characteristics[school_type]['classes']\n",
    "    class_size = school_characteristics[school_type]['students']\n",
    "    \n",
    "    school_name = '{}_classes-{}_students-{}'.format(school_type,\\\n",
    "        N_classes, class_size)\n",
    "    \n",
    "    for i in range(500):\n",
    "        # generate the contact graph given all the information about the\n",
    "        # school layout, household characteristics and contact character-\n",
    "        # istics of teachers\n",
    "        G, teacher_schedule, student_schedule = csn.compose_school_graph(\\\n",
    "                school_type, N_classes, class_size, N_floors, p_children,\n",
    "                p_parents, teacher_p_adults, teacher_p_children, \n",
    "                r_teacher_conversation, r_teacher_friend)\n",
    "\n",
    "        # map the link types to contact types\n",
    "        csn.map_contacts(G, contact_map)\n",
    "\n",
    "        # we do not need family members that are not siblings for calibration\n",
    "        # purposes -> remove them to have less agents in the simulation and\n",
    "        # speed up the calibration runs\n",
    "        family_members = [n for n, tp in G.nodes(data='type') \\\n",
    "                    if tp in ['family_member_student', 'family_member_teacher']]\n",
    "        G.remove_nodes_from(family_members)\n",
    "        \n",
    "        # save the graph\n",
    "        nx.readwrite.gpickle.write_gpickle(G, join(dst,'{}/{}_{}.gpickle'\\\n",
    "                            .format(school_type, school_name, i)))\n",
    "\n",
    "        # extract & save the node list\n",
    "        node_list = csn.get_node_list(G)\n",
    "        node_list.to_csv(join(dst,'{}/{}_node_list_{}.csv'\\\n",
    "                            .format(school_type, school_name, i), index=False))\n",
    "        # save the schedule\n",
    "        if i==1:\n",
    "            for s, atype in zip([teacher_schedule, student_schedule],\\\n",
    "                                ['teachers', 'students']):\n",
    "                s.to_csv(join(dst, '{}/{}_schedule_{}.csv'\\\n",
    "                            .format(school_type, school_name, atype))\n",
    "\n",
    "        f.value = c # update the progress bar\n",
    "        c += 1"
   ]
  }
 ],
 "metadata": {
  "kernelspec": {
   "display_name": "Python 3",
   "language": "python",
   "name": "python3"
  },
  "language_info": {
   "codemirror_mode": {
    "name": "ipython",
    "version": 3
   },
   "file_extension": ".py",
   "mimetype": "text/x-python",
   "name": "python",
   "nbconvert_exporter": "python",
   "pygments_lexer": "ipython3",
   "version": "3.8.2"
  }
 },
 "nbformat": 4,
 "nbformat_minor": 4
}
