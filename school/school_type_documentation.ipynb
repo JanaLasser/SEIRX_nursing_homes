{
 "cells": [
  {
   "cell_type": "markdown",
   "metadata": {},
   "source": [
    "## School types"
   ]
  },
  {
   "cell_type": "markdown",
   "metadata": {},
   "source": [
    "### Primary schools"
   ]
  },
  {
   "cell_type": "markdown",
   "metadata": {},
   "source": [
    "#### The average primary school\n",
    "Austrian primary schools are compulsory for children above the age of 6 and offer education according to [ISCED level 1](https://en.wikipedia.org/wiki/International_Standard_Classification_of_Education). Austrian primary schools have 4 levels, therefore students in Austrian primary schools are typically aged between 6 and 10. According to the [Austrian education statistics of the year 2017/18](https://www.bmbwf.gv.at/dam/jcr:8c8e7376-eac2-4085-bd46-4130595ee80a/stat_tb_2018.pdf), there are 3033 Primary schools with a total of 18,245 classes and 339,382 students in Austria. Therefore the average Austrian primary school has 8 classes with 19 students each, corresponding to two classes per level. \n",
    "\n",
    "#### Daycare\n",
    "According to a [fact sheet about daycare offered in Austrian schools in 2020](https://www.kdz.eu/de/file/36937/download) About 50% of primary schools in Austria offer full-day-care and about 25% of students in primary schools participate in full-day-care. Full-day-care is organised in two different models: integrated and separated. In the separated model, teaching ends after 4-5 hours every day and is followed by supervised lunch, work on homework and other activities for another 3-4 hours.  Since usually not all students of a school participate in the full-day-care in the separated model, classes are broken up after the teaching part of the day and students are re-distributed into a number of groups that is usually smaller than the number of classes the school has. In the integrated model, teaching is intertwined with other activities and supervised work on homework. In this model, all students participate in the full-day-care and classes are not broken up. [Of the schools that offer full-day-care, 95%]( https://www.bmbwf.gv.at/Themen/schule/schulsystem/gts/ba_standorte.html) run the separated model. To approximate these numbers, we assume that 50% of schools in our primary school ensemble offer full-day-care in which 50% of the children in these schools participate, respectively. We only model separated full-day-care, since this corresponds to the vast majority of Austrian primary schools. For afternoon supervision, students are re-organised into groups of the same size as the morning classes by randomly selecting 50% of the total number of students and randomly assigning them to M groups, where M=N/2 and N is the number of classes (4 in the case of the average primary school). \n",
    "\n",
    "#### Syllabus & teaching personnel\n",
    "According to the [syllabus](https://www.bmbwf.gv.at/dam/jcr:f4f200c0-b999-42c8-9dba-1ca18fa89e14/lp_vs_vierter_teil_14042.pdf) for Austrian primary schools, Austrian kids spend between 20 and 25 hours at school every week. Out of this total amount of hours, 11 hours are spent learning primary subjects (reading, writing, math, information retrieval), the other hours are spent learning minor subjects (sports, religion, creative subjects). We approximate this syllabus in the following way: Children in our simulated primary schools spend 20 hours / week or 4 hours / day at school. Every day, the first two hours are allotted to learning primary subjects, whereas the rest of the day is alloted to secondary subjects. Primary subjects are all taught by a single teacher for every class, respectively (\"class teacher\"), whereas secondary subjects are taught by different teachers. \n",
    "\n",
    "According to the [financing regulations for Austrian primary schools](file:///home/jana/Documents/Factsheets_Pflichtschule%20und%20Tagesbetreuung_20200123.pdf), 1.5 teachers / class are financed in Austrian schools. Nevertheless, this number does not include staff needed for additional offers such as full-day-care, language classes or religion classes. According to the Austrian school statistics 2017/18, the [total number of teachers in primary schools](https://www.bmbwf.gv.at/Themen/schule/schulsystem/gd/lehrstat_oester.html) was 33050, whereas the [number of classes was](https://www.bmbwf.gv.at/Themen/schule/schulsystem/gd.html) 18245, yielding an average of 1.81 teachers per class. Unfortunately, this number cannot be stratified for schools with and without full-day-care. This number also only reflects the number of full-time equivalents alloted for teaching and not the true number of persons that are involved in teaching, which might be higher if a share of teachers only works part-time. According the structured interview we conducted with a director of a primary school offering full-day-care, the number of teachers was 14 for a school with 6 classes, yielding an average of 2.3 teachers per class. Since the primary school we interviewed offered full-day-care organised into 4 afternoon supervision groups, this number included personnel to supervise students in the afternoon. \n",
    "\n",
    "To approximate this situation, we model schools without full-day-care to have 1.5 teachers per class, and each teacher has contact to a total of two different classes (every day, but also over the course of the week). The low number of classes reflects the fact that teaching in primary schools is still largely organized around a focal class teacher that teaches the same class for extended periods of time in several primary subjects. We model schools with full-day-care to have 2 teachers per class, where each teacher still has contact to a total of two different classes, and half of the teachers supervise an afternoon care group in addition to teaching. This is also consistent with the information we received about the number of different classes a teacher sees in our interview of a primary school director."
   ]
  },
  {
   "cell_type": "markdown",
   "metadata": {},
   "source": [
    "### Lower secondary schools"
   ]
  },
  {
   "cell_type": "markdown",
   "metadata": {},
   "source": [
    "#### School types & the average lower secondary school\n",
    "Lower secondary schools offer education according to [ISCED level 2](https://en.wikipedia.org/wiki/International_Standard_Classification_of_Education) and teach children aged 11 to 14. In Austria, there are two main school types that offer this type of education:\n",
    "* **[Sonderschule](https://www.bmbwf.gv.at/Themen/schule/schulsystem/sa/sp.html)**: 292 schools, 1626 classes, 14815 students\n",
    "* **[Mittelschule](https://www.bmbwf.gv.at/Themen/schule/schulsystem/sa/ms.html)**: 1178 schools, 10458 classes, 207943 students\n",
    "We note that for the type \"Mittelschule\" the numbers that are reported in the latest statistics from the year 2017/18 for the types \"Hauptschule\" (47 schools) and \"Neue Mittelschule\" (1131 schools) were combined, since the Hauptschule was out by September 2020 and replaced the Mittelschule.  \n",
    "\n",
    "Another school type that offers ISCED level 2 education in Austria is the **AHS Unterstufe** (281 schools, 4901 classes, 119591 students), which usually is combined with an **AHS Oberstufe** that offers ISCED level 3 education. These combined schools are modelled separately and described below in section **Secondary**.\n",
    "\n",
    "We therefore model the average lower secondary school as having (1626 + 10458) / (292 + 1178) = 8 classes with (14815 + 207943) / (1626 + 10458) = 18 students per class. "
   ]
  },
  {
   "cell_type": "markdown",
   "metadata": {},
   "source": [
    "#### Daycare\n",
    "Similar to primary schools, in these school types [about 50% of schools offer daycare](https://www.kdz.eu/de/file/36937/download) for children in the afternoons: in the Mittelschule 18% of the children participate in daycare and in the Sonderschule 28% of the children participate in daycare). The average weighted by the number of classes in each school type is 19% of children participate in daycare. Therefore in the schools that do offer daycare, on average 38% of the students participate in daycare (a bit less then in primary schools, where the ratio is 50%). Similar to primary schools, the vast majority of these schools run the separated model and we model the daycare similarly. We therefore model these schools similarly to schools offering primary education when it comes to daycare: We construct an ensemble of schools where 50% of schools offer daycare. In the schools that do offer daycare, 38% of students are randomly selected and assigned to M daycare supervision groups, where M = N/2 and N is the number of classes the school has (4 in the case of the average lower secondary school)."
   ]
  },
  {
   "cell_type": "code",
   "execution_count": 471,
   "metadata": {},
   "outputs": [
    {
     "name": "stdout",
     "output_type": "stream",
     "text": [
      "weighted average % children in daycare: 0.19\n"
     ]
    }
   ],
   "source": [
    "weighted_average = \\\n",
    "10354 / (10354 + 1626) * 0.18 + 1626 / (10354 + 1626) * 0.28\n",
    "print('weighted average % children in daycare: {:1.2f}'.format(weighted_average))"
   ]
  },
  {
   "cell_type": "markdown",
   "metadata": {},
   "source": [
    "#### Syllabus and teaching personnel\n",
    "According to the [syllabus](https://www.ris.bka.gv.at/GeltendeFassung.wxe?Abfrage=Bundesnormen&Gesetzesnummer=20007850), students in the Mittelschule spend an average of 30 hours / week or 6 hours / day at school. The syllabus includes on average 12 different subjects per school year (some subjects are not taught in all years). According to the [syllabus](https://www.ris.bka.gv.at/Dokumente/BgblAuth/BGBLA_2008_II_137/COO_2026_100_2_440355.html) of the Sonderschule, children spend a bit less time (on average 28 hours / week) in these schools, the number of subjects is the same as in the other lower secondary school types.  \n",
    "\n",
    "According to the [statistics for the school year 2017/18](https://www.bmbwf.gv.at/dam/jcr:8c8e7376-eac2-4085-bd46-4130595ee80a/stat_tb_2018.pdf) the number of teachers per class in lower secondary schools is higher than in primary schools, since there are more subjects and no dedicated class teachers anymore. Sonderschulen have the highest number of teachers / class (3.4) followed by Mittelschulen (2.8). The average number of teachers / class in lower secondary education (weighted by the number of classes) is 2.87. Among the schools we interviewed, there were two MS, one with 15 classes, 36 teachers (excluding daycare personnel) and 2.4 teachers / class), and one with 16 classes, 50 teachers (including daycare personnel) and 3.1 teachers / class. Both of these schools offered daycare. Sadly, we cannot differentiate between schools that offer daycare and schools that don't in the Austria-wide statistics for the number of teachers / class in lower secondary schools. Given the average number of teachers / class for all lower secondary schools (with and without daycare) and our interviews, we think it is warranted to assume lower secondary schools with daycare employ 3 teachers / class, whereas schools without daycare employ 2.5 teachers / class.  "
   ]
  },
  {
   "cell_type": "code",
   "execution_count": 473,
   "metadata": {},
   "outputs": [
    {
     "name": "stdout",
     "output_type": "stream",
     "text": [
      "Sonderschule teachers / class: 3.38\n",
      "Mittelschule + Hauptschule teachers / class: 2.79\n",
      "weighted average: 2.87\n"
     ]
    }
   ],
   "source": [
    "sonderschule_teachers = 5502\n",
    "sonderschule_classes = 1626\n",
    "print('Sonderschule teachers / class: {:1.2f}'.format(sonderschule_teachers / sonderschule_classes))\n",
    "\n",
    "MS_classes = 10354 + 104\n",
    "MS_teachers = 29165\n",
    "print('Mittelschule + Hauptschule teachers / class: {:1.2f}'.format(MS_teachers / MS_classes))\n",
    "\n",
    "\n",
    "weighted_average = \\\n",
    "1626 / (1626 + 10353 + 104) * 3.3837638376383765 + \\\n",
    "10458 / (1626 + 10353 + 104) * 2.788774144195831\n",
    "\n",
    "print('weighted average: {:1.2f}'.format(weighted_average))"
   ]
  },
  {
   "cell_type": "markdown",
   "metadata": {},
   "source": [
    "#### Team-teaching"
   ]
  },
  {
   "cell_type": "markdown",
   "metadata": {},
   "source": [
    "For the school type Mittelschule, team-teaching has become the norm in Austria. This means that for the majority of classes (according to our interviews 4/6 to 5/6 of lessons), two teachers are present during a lesson. This obviously introduces additional contacts between the teachers that teach lessons together. In Sonderschulen it is also customary to have additional supporting personnel present to support students with special needs. We therefore model schools that teach lower secondary levels to have a large share of team-teaching: for schools without daycare, 4 out of 6 lessons every day are team-taught lessons. For schools with daycare, 5 out of 6 lessons every day are team-taught lessons."
   ]
  },
  {
   "cell_type": "markdown",
   "metadata": {},
   "source": [
    "### Upper secondary schools"
   ]
  },
  {
   "cell_type": "code",
   "execution_count": 859,
   "metadata": {},
   "outputs": [],
   "source": [
    "school_characteristics = {\n",
    "    # Volksschule: Schulen: 3033, Klassen: 18245, Schüler*innen: 339382\n",
    "    'primary':            {'classes':8, 'students':19, 'floors':1},\n",
    "    'primary_dc':         {'classes':8, 'students':19, 'floors':1},\n",
    "    \n",
    "    # Hauptschulen: 47, Klassen 104, Schüler*innen: 1993\n",
    "    # Neue Mittelschule: Schulen 1131, Klassen: 10354, Schüler*innen: 205905\n",
    "    # Sonderschulen: 292, Klassen: 1626, Schüler*innen: 14815\n",
    "    # Gesamt: Schulen: 1470, Klassen: 12084, Schüler*innen: 222713\n",
    "    'lower_secondary':    {'classes':8, 'students':18, 'floors':1},\n",
    "    'lower_secondary_dc': {'classes':8, 'students':18, 'floors':1},\n",
    "    \n",
    "    # Oberstufenrealgymnasium: Schulen 114, Klassen 1183, Schüler*innen: 26211\n",
    "    # BMHS: schulen 734, Klassen 8042, Schüler*innen 187592\n",
    "    # Gesamt: Schulen: 848, Klassen 9225, Schüler*innen: 213803\n",
    "    'upper_secondary':    {'classes':10, 'students':23, 'floors':1}, # rounded down from 10.8 classes\n",
    "    \n",
    "    # AHS Langform: Schulen 281, Klassen 7610, schüler*innen 179633\n",
    "    'secondary':          {'classes':28, 'students':24, 'floors':1}, # rounded up from 27.1 classes\n",
    "    'secondary_dc':       {'classes':28, 'students':24, 'floors':1} # rounded up from 27.1 classes\n",
    "}"
   ]
  },
  {
   "cell_type": "markdown",
   "metadata": {},
   "source": [
    "#### School types & the average upper secondary school\n",
    "Upper secondary schools offer education according to [ISCED level 3](https://en.wikipedia.org/wiki/International_Standard_Classification_of_Education) and teach children aged 15 to 18. In Austria, there are a two main types of schools that offer ISCED level 3 education:\n",
    "* **[Oberstufenrealgymnasium](https://de.wikipedia.org/wiki/Oberstufenrealgymnasium)**: 114 schools, 1183 classes, 26211 students\n",
    "* **[Berufsbildende mittlere & höhere Schulen](https://www.bmbwf.gv.at/Themen/schule/schulsystem/sa/bmhs.html)**: 381 + 353  = 734 schools, 1981 + 6061 = 8042 classes, 44048 + 143544 = 187592 students.\n",
    "\n",
    "There is also the **AHS Oberstufe**, which offers ISCED level 3 education in combination with the AHS Unterstufe (level 2 education) and is modeled separately and described below in section **Secondary**. In addition, there are the polytechnischen Schulen, which only offer education for the 9th grade (students aged ~15). There are a total of 237 polygechnische Schulen with 764 classes and 15309 students. Compared to the other two school types, only a minor share of students aged 15-18 attend these schools (7%). We therefore chose to not model this school type separately.\n",
    "\n",
    "Following the school types that we want to model for upper secondary education, the average school offering upper secondary education has (1183 + 8042) / (114 + 734) = 10 classes (rounded down from 10.9 to achieve an even number of classes, needed for modeling), and (26211 + 187592) / (1183 + 8042) = 23 students per class.\n",
    "\n",
    "None of the upper secondary education school types offer any daycare in the afternoon after lessons end."
   ]
  },
  {
   "cell_type": "code",
   "execution_count": 476,
   "metadata": {},
   "outputs": [
    {
     "name": "stdout",
     "output_type": "stream",
     "text": [
      "% students in polytechnische Schule: 0.07\n",
      "% classes in polytechnische Schule: 0.08\n",
      "% schools of type polytechnische Schule: 0.22\n"
     ]
    }
   ],
   "source": [
    "print('% students in polytechnische Schule: {:1.2f}'.format(15309 / (187592 + 26211 + 15309)))\n",
    "print('% classes in polytechnische Schule: {:1.2f}'.format(764 / (8042 + 1183 + 764)))\n",
    "print('% schools of type polytechnische Schule: {:1.2f}'.format(237 / (734 + 114 + 237)))"
   ]
  },
  {
   "cell_type": "markdown",
   "metadata": {},
   "source": [
    "#### Syllabus and teaching personnel\n",
    "Oberstufenrealgymnasien have the same syllabus as the AHS Oberstufe and are in general similar to the AHS Oberstufe. The only difference is that this schools do not offer lower secondary education. Nevertheless, we choose to model the Oberstufenrealgymnasium separately from the Allgemeinbildende höhere Schulen (AHS Unterstufe + AHS Oberstufe) since we think that the different age structure of the student population in these schools (only students aged 15-18 instead of students aged 11-18) warrants a different treatment. According to the [syllabus of the AHS Oberstufe](https://www.ris.bka.gv.at/GeltendeFassung.wxe?Abfrage=Bundesnormen&Gesetzesnummer=10008568), students have an average of 32.5 hours / week at of lessons at school. In addition, there are a number of non-mandatory tutorials, longer breaks and vocational activities that students engage in. In summary, we model the students to spend 8 hours / day at school. \n",
    "\n",
    "Sadly, the [Austria wide school statistics for the year 2017/18](https://www.bmbwf.gv.at/dam/jcr:8c8e7376-eac2-4085-bd46-4130595ee80a/stat_tb_2018.pdf) does not show the number of teachers per class stratified for Oberstufenrealgymnasium. Since these schools are similar to the AHS Oberstufe, we use the number of teachers / class for the AHS Obserstufe, which have on average 2.5 teachers / class. The berufsbildende mittlere & höhere Schulen have on average 2.9 teachers / class. The average weighted by the number of classes of each school type is 2.85 teachers / class. Therefore we model this school type using 2.85 teachers / class. "
   ]
  },
  {
   "cell_type": "code",
   "execution_count": 876,
   "metadata": {},
   "outputs": [
    {
     "name": "stdout",
     "output_type": "stream",
     "text": [
      "Berufsbildende höhere Schulen teachers / class: 2.90\n",
      "AHS teachers / class: 2.50\n",
      "weighted average: 2.85\n"
     ]
    }
   ],
   "source": [
    "berufsbildende_teachers = 23296\n",
    "berufsbildende_classes = 8042\n",
    "print('Berufsbildende höhere Schulen teachers / class: {:1.2f}'.format(berufsbildende_teachers / berufsbildende_classes))\n",
    "\n",
    "AHS_teachers = 22537\n",
    "AHS_classes = 9020 # including 4901 AHS Unterstufe\n",
    "print('AHS teachers / class: {:1.2f}'.format(AHS_teachers / AHS_classes))\n",
    "\n",
    "weighted_average = \\\n",
    "8042 / (8042 + 1183) * 2.9 + 1183 / (8042 + 1183) * 2.5\n",
    "print('weighted average: {:1.2f}'.format(weighted_average))"
   ]
  },
  {
   "cell_type": "markdown",
   "metadata": {},
   "source": [
    "#### Teachers of different subjects & teacher <-> student contacts"
   ]
  },
  {
   "cell_type": "markdown",
   "metadata": {},
   "source": [
    "Teachers in these schools teach a different number of different classes depending on their subjects: teachers of major subjects (German language, math, first foreign language) usually see less classes for more hours (2-3 different classes / day according to our interviews). Teachers of minor subjects (Physics, Geography, Religion, ...) usually see more classes for less hours (4-5 different classes / day according to our interviews). Teachers that teach a combination of major and minor subjects fall in-between this range and see 3-4 different classes / day according to our interviews. Also according to our interviews, the teacher population of a school falls within these three categories (only major, only minor, major + minor) to approximately equal parts. We therefore model the teacher population such that approximately 1/3 of teachers sees 2 classes / day, 1/3 of teachers sees 3 teachers / day and 1/3 of teachers sees 4-5 classes / day (depending on the number of classes the school has an the corresponding integer number of teachers). According to our interviews, there is a small amount of team-teaching in these schools, predominantly for language classes in which native speaking teacher support the main teacher. Accordingly, approximately 10% of lessons taught in these schools are modelled as team-teaching lessons and contacts between teachers and other teachers and teachers and students are set accordingly."
   ]
  },
  {
   "cell_type": "markdown",
   "metadata": {},
   "source": [
    "### Secondary schools"
   ]
  },
  {
   "cell_type": "markdown",
   "metadata": {},
   "source": [
    "#### School types\n",
    "Next to schools that offer only lower secondary education or upper secondary education, there are schools that offer combined lower and upper secondary education ([ISCED level 2 and 3](https://en.wikipedia.org/wiki/International_Standard_Classification_of_Education)) and teach children aged 11 to 18. There are 281 of these schools (AHS Langform), with 7610 classes and 179633 students. "
   ]
  },
  {
   "cell_type": "markdown",
   "metadata": {},
   "source": [
    "#### Daycare\n",
    "About 50% of these schools offer daycare for children aged 11-14. In all of these schools, about 18% of eligible children are in daycare. Therefore in schools that do offer daycare, on average 36% of the eligible children participate in daycare. We model daycare similar to lower secondary schools with daycare and primary schools with daycare by constructing an ensemble of 50% schools with daycare and 50% of schools without daycare. In the schools with daycare, students are randomly distributed to daycare groups and supervised by a team of teachers. "
   ]
  },
  {
   "cell_type": "markdown",
   "metadata": {},
   "source": [
    "#### Syllabus and teaching personnel\n",
    "According to the [syllabus of the AHS Oberstufe](https://www.ris.bka.gv.at/GeltendeFassung.wxe?Abfrage=Bundesnormen&Gesetzesnummer=10008568), in these schools students have an average of 32.5 hours / week of lessons at school. In addition, there are a number of non-mandatory tutorials, longer breaks and vocational activities that students engage in. In summary, we model the students to spend 8 hours / day at school. \n",
    "\n",
    "The average number of teachers / class for these schools is 2.5. Given the rather low number of teachers available (as compared to 3 teachers / class for schools with only upper secondary education), we do not model lessons with team teaching in these schools."
   ]
  },
  {
   "cell_type": "code",
   "execution_count": 590,
   "metadata": {},
   "outputs": [
    {
     "name": "stdout",
     "output_type": "stream",
     "text": [
      "AHS Langform teachers / class: 2.50\n"
     ]
    }
   ],
   "source": [
    "teachers_AHS = 22537\n",
    "classes_AHS = 9020 # (including 114 Oberstufenrealgymnasium, 7 Abendschulen and 4 Aufbaugymnasien)\n",
    "print('AHS Langform teachers / class: {:1.2f}'.format(teachers_AHS / classes_AHS))"
   ]
  }
 ],
 "metadata": {
  "kernelspec": {
   "display_name": "Python 3",
   "language": "python",
   "name": "python3"
  },
  "language_info": {
   "codemirror_mode": {
    "name": "ipython",
    "version": 3
   },
   "file_extension": ".py",
   "mimetype": "text/x-python",
   "name": "python",
   "nbconvert_exporter": "python",
   "pygments_lexer": "ipython3",
   "version": "3.8.2"
  }
 },
 "nbformat": 4,
 "nbformat_minor": 4
}
