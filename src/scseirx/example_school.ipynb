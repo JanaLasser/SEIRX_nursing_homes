{
 "cells": [
  {
   "cell_type": "markdown",
   "metadata": {},
   "source": [
    "# Run an agent based SEIRX simulation"
   ]
  },
  {
   "cell_type": "code",
   "execution_count": 1,
   "metadata": {},
   "outputs": [
    {
     "data": {
      "text/plain": [
       "'/Users/ledebur/agent_based_COVID_SEIRX/src'"
      ]
     },
     "execution_count": 1,
     "metadata": {},
     "output_type": "execute_result"
    }
   ],
   "source": [
    "import os\n",
    "os.getcwd()\n",
    "os.chdir('/Users/ledebur/agent_based_COVID_SEIRX/src/')\n",
    "os.getcwd()"
   ]
  },
  {
   "cell_type": "code",
   "execution_count": 2,
   "metadata": {},
   "outputs": [],
   "source": [
    "import numpy as np\n",
    "import matplotlib.pyplot as plt\n",
    "import networkx as nx\n",
    "import pandas as pd\n",
    "\n",
    "from scseirx.model_school import SEIRX_school\n",
    "import viz # custom visualization functions"
   ]
  },
  {
   "cell_type": "markdown",
   "metadata": {},
   "source": [
    "## Single model run"
   ]
  },
  {
   "cell_type": "markdown",
   "metadata": {},
   "source": [
    "### Agents"
   ]
  },
  {
   "cell_type": "markdown",
   "metadata": {},
   "source": [
    "Agent types used in the simulation with their respective parameters"
   ]
  },
  {
   "cell_type": "code",
   "execution_count": 3,
   "metadata": {},
   "outputs": [],
   "source": [
    "agent_types = {\n",
    "        'student':{\n",
    "            'screening_interval': None,\n",
    "            'index_probability': 0,\n",
    "            'mask':False},\n",
    "        'teacher':{\n",
    "            'screening_interval': 7,\n",
    "            'index_probability': 0,\n",
    "            'mask':True},\n",
    "        'family_member':{\n",
    "            'screening_interval': None,\n",
    "            'index_probability': 0,\n",
    "            'mask':False}\n",
    "}"
   ]
  },
  {
   "cell_type": "code",
   "execution_count": 62,
   "metadata": {},
   "outputs": [],
   "source": [
    "vaccination_agent = {\n",
    "    'student': 0,\n",
    "    'teacher': 1,\n",
    "    'family_member': 0\n",
    "}"
   ]
  },
  {
   "cell_type": "markdown",
   "metadata": {},
   "source": [
    "### Measures"
   ]
  },
  {
   "cell_type": "markdown",
   "metadata": {},
   "source": [
    "Preventive measures implemented to curb the spread of the pandemic"
   ]
  },
  {
   "cell_type": "code",
   "execution_count": 63,
   "metadata": {},
   "outputs": [],
   "source": [
    "measures = {\n",
    "    # enables testing and tracing actions (run with testing=False) to simulate\n",
    "    # unhindered spread of the virus through the nursing home\n",
    "    'testing':'preventive',\n",
    "    # test technology and turnover time used for preventive screening\n",
    "    'preventive_screening_test_type':'same_day_antigen',\n",
    "    # test technology and turnover time used for diagnostic testing\n",
    "    'diagnostic_test_type':'two_day_PCR',\n",
    "    # definition of contact types that will be quarantined in case one\n",
    "    # of the agents in contact had a positive test result\n",
    "    'K1_contact_types':['close'],\n",
    "    # duration (in days) that agents will stay quarantined\n",
    "    'quarantine_duration':10,\n",
    "    # interval of a potential follow-up background screen (in days)\n",
    "    # after a background screen that was initiated by a positive test\n",
    "    'follow_up_testing_interval':None,\n",
    "    # whether or not a negative test result \"frees\" agents from quarantine\n",
    "    'liberating_testing':False,\n",
    "    # modification of the transmission risk by ventilation \n",
    "    # (1 = no modification, 0.5 = risk is reduced by 50%)\n",
    "    'ventilation_modification':1,\n",
    "    'vaccination_modification': 0.95\n",
    "}\n"
   ]
  },
  {
   "cell_type": "markdown",
   "metadata": {},
   "source": [
    "### Model parameters"
   ]
  },
  {
   "cell_type": "code",
   "execution_count": 64,
   "metadata": {},
   "outputs": [],
   "source": [
    "model_params = {\n",
    "    # mean and variance of a Weibull distribution characterizing the\n",
    "    # time between transmission and becoming infectious (in days)\n",
    "    'exposure_duration':[5.0, 1.9], # literature values\n",
    "    # mean and variance of a Weibull distribution characterizing the\n",
    "    # time between transmission and showing symptoms in clinical courses\n",
    "    # of the infection (in days)\n",
    "    'time_until_symptoms':[6.4, 0.8], # literature values\n",
    "    # mean and variance of a Weibull distribution characterizing the\n",
    "    # time between transmission and ceasing to be infectious (in days)\n",
    "    'infection_duration':[10.91, 3.95], # literature values\n",
    "    # modification of the transmission risk in subclinical courses\n",
    "    'subclinical_modifier':0.6, \n",
    "    # base transmission risk of a contact of type \"close\"\n",
    "    'base_risk':0.2, # artificially high, so you can see stuff happening\n",
    "    # efficiency of masks (surgical), reducing the transmission risk\n",
    "    # (exhale) if the source wears a mask and/or the reception risk \n",
    "    # (inhale), if the target (also) wears a mask\n",
    "    'mask_filter_efficiency':{'exhale':0.5, 'inhale':0.7}, # literature values\n",
    "    # modifiers of the base_risk for transmissions of contact type close\n",
    "    # if the contact type is \"intermediate\", \"far\" or \"very var\"\n",
    "    'infection_risk_contact_type_weights':\\\n",
    "        {'very_far':0, 'far':0.75, 'intermediate':0.85,'close':1}, # calibrated\n",
    "    # modification of the transmission and reception risk depending on \n",
    "    # the age of the transmitting and receiving agents. At age >= 18,\n",
    "    # the modifier = 1. A slope of -0.02 means that for every year an\n",
    "    # agent is younger than 18, the transmission and reception risk is\n",
    "    # reduced by 2%\n",
    "    'age_transmission_discount':{'slope':-0.02, 'intercept':1}, # calibrated\n",
    "    # modification of the probability to have a symptomatic course,\n",
    "    # depending on the age of the agent. At age >= 18, agents have an\n",
    "    # empirically observed probability of ~80% to have a symptomatic course.\n",
    "    # A slope of -0.03 means that for every year an agent is younger than\n",
    "    # 18, the probability to have a symptomatic course is reduced by 3%.\n",
    "    'age_symptom_discount':\\\n",
    "        {'slope':-0.02868, 'intercept':0.7954411542069012}, # empirical values\n",
    "    # agent group from which the index case is drawn\n",
    "    'index_case':'teacher',\n",
    "    # verbosity level (can be 0, 1, 2) that prints increasingly detailed \n",
    "    # information about the simulation\n",
    "    'verbosity':0\n",
    "}"
   ]
  },
  {
   "cell_type": "code",
   "execution_count": 65,
   "metadata": {},
   "outputs": [],
   "source": [
    "school_name = 'test_school_primary'\n",
    "# interaction network of students, teachers and household members\n",
    "G = nx.readwrite.gpickle.read_gpickle('scseirx/data/school/{}.bz2'\\\n",
    "                                      .format(school_name))\n",
    "# number of steps (days) the simulation will run\n",
    "N_steps = 50\n",
    "\n",
    "# fixed seed of the simulation, using the same seed repeats the \n",
    "# same simulation if the same parameters are chosen. Setting \n",
    "# seed = None corresponds to a random initialization.\n",
    "seed = 3\n",
    "\n",
    "# initialize the model with all the relevant parameters, measures and agent\n",
    "# types\n",
    "model = SEIRX_school(G, model_params['verbosity'], \n",
    "      base_transmission_risk = model_params['base_risk'], \n",
    "      testing = measures['testing'],\n",
    "      exposure_duration = model_params['exposure_duration'],\n",
    "      time_until_symptoms = model_params['time_until_symptoms'],\n",
    "      infection_duration = model_params['infection_duration'],\n",
    "      quarantine_duration = measures['quarantine_duration'],\n",
    "      subclinical_modifier = model_params['subclinical_modifier'], \n",
    "      infection_risk_contact_type_weights = \\\n",
    "            model_params['infection_risk_contact_type_weights'], \n",
    "      K1_contact_types = measures['K1_contact_types'],\n",
    "      diagnostic_test_type = measures['diagnostic_test_type'],\n",
    "      preventive_screening_test_type = \\\n",
    "            measures['preventive_screening_test_type'],\n",
    "      follow_up_testing_interval = \\\n",
    "            measures['follow_up_testing_interval'],\n",
    "      liberating_testing = measures['liberating_testing'],\n",
    "      index_case = model_params['index_case'],\n",
    "      agent_types = agent_types,\n",
    "      vaccination_agent = vaccination_agent,\n",
    "      age_transmission_risk_discount = \\\n",
    "            model_params['age_transmission_discount'],\n",
    "      age_symptom_discount = model_params['age_symptom_discount'],\n",
    "      mask_filter_efficiency = model_params['mask_filter_efficiency'],\n",
    "      transmission_risk_ventilation_modifier = \\\n",
    "            measures['ventilation_modification'],\n",
    "      seed=seed)\n",
    "\n",
    "# run the model\n",
    "for i in range(N_steps):\n",
    "    if model_params['verbosity'] > 0: print('*** step {} ***'.format(i+1))\n",
    "    model.step()"
   ]
  },
  {
   "cell_type": "markdown",
   "metadata": {},
   "source": [
    "### Visualise time-series of student infections"
   ]
  },
  {
   "cell_type": "code",
   "execution_count": 66,
   "metadata": {},
   "outputs": [
    {
     "data": {
      "image/png": "[encoded data removed]",
      "text/plain": [
       "<Figure size 720x432 with 1 Axes>"
      ]
     },
     "metadata": {
      "needs_background": "light"
     },
     "output_type": "display_data"
    }
   ],
   "source": [
    "fig, ax = plt.subplots(figsize=(10, 6))\n",
    "viz.draw_infection_timeline(model, 'student', ax)"
   ]
  },
  {
   "cell_type": "markdown",
   "metadata": {},
   "source": [
    "### Visualise time-series of teacher infections"
   ]
  },
  {
   "cell_type": "code",
   "execution_count": 67,
   "metadata": {},
   "outputs": [
    {
     "data": {
      "image/png": "[encoded data removed]",
      "text/plain": [
       "<Figure size 720x432 with 1 Axes>"
      ]
     },
     "metadata": {
      "needs_background": "light"
     },
     "output_type": "display_data"
    }
   ],
   "source": [
    "fig, ax = plt.subplots(figsize=(10, 6))\n",
    "viz.draw_infection_timeline(model, 'teacher', ax)"
   ]
  },
  {
   "cell_type": "markdown",
   "metadata": {},
   "source": [
    "### Have a peek at the raw data"
   ]
  },
  {
   "cell_type": "code",
   "execution_count": 10,
   "metadata": {},
   "outputs": [
    {
     "data": {
      "text/html": [
       "<div>\n",
       "<style scoped>\n",
       "    .dataframe tbody tr th:only-of-type {\n",
       "        vertical-align: middle;\n",
       "    }\n",
       "\n",
       "    .dataframe tbody tr th {\n",
       "        vertical-align: top;\n",
       "    }\n",
       "\n",
       "    .dataframe thead th {\n",
       "        text-align: right;\n",
       "    }\n",
       "</style>\n",
       "<table border=\"1\" class=\"dataframe\">\n",
       "  <thead>\n",
       "    <tr style=\"text-align: right;\">\n",
       "      <th></th>\n",
       "      <th>E_student</th>\n",
       "      <th>I_student</th>\n",
       "      <th>I_asymptomatic_student</th>\n",
       "      <th>V_student</th>\n",
       "      <th>I_symptomatic_student</th>\n",
       "      <th>R_student</th>\n",
       "      <th>X_student</th>\n",
       "      <th>E_teacher</th>\n",
       "      <th>I_teacher</th>\n",
       "      <th>I_asymptomatic_teacher</th>\n",
       "      <th>...</th>\n",
       "      <th>N_preventive_screening_tests</th>\n",
       "      <th>diagnostic_test_detected_infections_student</th>\n",
       "      <th>diagnostic_test_detected_infections_teacher</th>\n",
       "      <th>diagnostic_test_detected_infections_family_member</th>\n",
       "      <th>preventive_test_detected_infections_student</th>\n",
       "      <th>preventive_test_detected_infections_teacher</th>\n",
       "      <th>preventive_test_detected_infections_family_member</th>\n",
       "      <th>undetected_infections</th>\n",
       "      <th>predetected_infections</th>\n",
       "      <th>pending_test_infections</th>\n",
       "    </tr>\n",
       "  </thead>\n",
       "  <tbody>\n",
       "    <tr>\n",
       "      <th>0</th>\n",
       "      <td>0</td>\n",
       "      <td>0</td>\n",
       "      <td>0</td>\n",
       "      <td>0</td>\n",
       "      <td>0.0</td>\n",
       "      <td>0</td>\n",
       "      <td>0</td>\n",
       "      <td>1</td>\n",
       "      <td>0</td>\n",
       "      <td>0</td>\n",
       "      <td>...</td>\n",
       "      <td>0</td>\n",
       "      <td>0</td>\n",
       "      <td>0</td>\n",
       "      <td>0</td>\n",
       "      <td>0</td>\n",
       "      <td>0</td>\n",
       "      <td>0</td>\n",
       "      <td>0</td>\n",
       "      <td>0</td>\n",
       "      <td>0</td>\n",
       "    </tr>\n",
       "    <tr>\n",
       "      <th>1</th>\n",
       "      <td>0</td>\n",
       "      <td>0</td>\n",
       "      <td>0</td>\n",
       "      <td>0</td>\n",
       "      <td>0.0</td>\n",
       "      <td>0</td>\n",
       "      <td>0</td>\n",
       "      <td>1</td>\n",
       "      <td>0</td>\n",
       "      <td>0</td>\n",
       "      <td>...</td>\n",
       "      <td>0</td>\n",
       "      <td>0</td>\n",
       "      <td>0</td>\n",
       "      <td>0</td>\n",
       "      <td>0</td>\n",
       "      <td>0</td>\n",
       "      <td>0</td>\n",
       "      <td>0</td>\n",
       "      <td>0</td>\n",
       "      <td>0</td>\n",
       "    </tr>\n",
       "    <tr>\n",
       "      <th>2</th>\n",
       "      <td>0</td>\n",
       "      <td>0</td>\n",
       "      <td>0</td>\n",
       "      <td>0</td>\n",
       "      <td>0.0</td>\n",
       "      <td>0</td>\n",
       "      <td>0</td>\n",
       "      <td>1</td>\n",
       "      <td>0</td>\n",
       "      <td>0</td>\n",
       "      <td>...</td>\n",
       "      <td>0</td>\n",
       "      <td>0</td>\n",
       "      <td>0</td>\n",
       "      <td>0</td>\n",
       "      <td>0</td>\n",
       "      <td>0</td>\n",
       "      <td>0</td>\n",
       "      <td>0</td>\n",
       "      <td>0</td>\n",
       "      <td>0</td>\n",
       "    </tr>\n",
       "    <tr>\n",
       "      <th>3</th>\n",
       "      <td>0</td>\n",
       "      <td>0</td>\n",
       "      <td>0</td>\n",
       "      <td>0</td>\n",
       "      <td>0.0</td>\n",
       "      <td>0</td>\n",
       "      <td>0</td>\n",
       "      <td>1</td>\n",
       "      <td>0</td>\n",
       "      <td>0</td>\n",
       "      <td>...</td>\n",
       "      <td>12</td>\n",
       "      <td>0</td>\n",
       "      <td>0</td>\n",
       "      <td>0</td>\n",
       "      <td>0</td>\n",
       "      <td>0</td>\n",
       "      <td>0</td>\n",
       "      <td>0</td>\n",
       "      <td>0</td>\n",
       "      <td>0</td>\n",
       "    </tr>\n",
       "    <tr>\n",
       "      <th>4</th>\n",
       "      <td>0</td>\n",
       "      <td>0</td>\n",
       "      <td>0</td>\n",
       "      <td>0</td>\n",
       "      <td>0.0</td>\n",
       "      <td>0</td>\n",
       "      <td>0</td>\n",
       "      <td>1</td>\n",
       "      <td>0</td>\n",
       "      <td>0</td>\n",
       "      <td>...</td>\n",
       "      <td>12</td>\n",
       "      <td>0</td>\n",
       "      <td>0</td>\n",
       "      <td>0</td>\n",
       "      <td>0</td>\n",
       "      <td>0</td>\n",
       "      <td>0</td>\n",
       "      <td>0</td>\n",
       "      <td>0</td>\n",
       "      <td>0</td>\n",
       "    </tr>\n",
       "  </tbody>\n",
       "</table>\n",
       "<p>5 rows × 41 columns</p>\n",
       "</div>"
      ],
      "text/plain": [
       "   E_student  I_student  I_asymptomatic_student  V_student  \\\n",
       "0          0          0                       0          0   \n",
       "1          0          0                       0          0   \n",
       "2          0          0                       0          0   \n",
       "3          0          0                       0          0   \n",
       "4          0          0                       0          0   \n",
       "\n",
       "   I_symptomatic_student  R_student  X_student  E_teacher  I_teacher  \\\n",
       "0                    0.0          0          0          1          0   \n",
       "1                    0.0          0          0          1          0   \n",
       "2                    0.0          0          0          1          0   \n",
       "3                    0.0          0          0          1          0   \n",
       "4                    0.0          0          0          1          0   \n",
       "\n",
       "   I_asymptomatic_teacher  ...  N_preventive_screening_tests  \\\n",
       "0                       0  ...                             0   \n",
       "1                       0  ...                             0   \n",
       "2                       0  ...                             0   \n",
       "3                       0  ...                            12   \n",
       "4                       0  ...                            12   \n",
       "\n",
       "   diagnostic_test_detected_infections_student  \\\n",
       "0                                            0   \n",
       "1                                            0   \n",
       "2                                            0   \n",
       "3                                            0   \n",
       "4                                            0   \n",
       "\n",
       "   diagnostic_test_detected_infections_teacher  \\\n",
       "0                                            0   \n",
       "1                                            0   \n",
       "2                                            0   \n",
       "3                                            0   \n",
       "4                                            0   \n",
       "\n",
       "   diagnostic_test_detected_infections_family_member  \\\n",
       "0                                                  0   \n",
       "1                                                  0   \n",
       "2                                                  0   \n",
       "3                                                  0   \n",
       "4                                                  0   \n",
       "\n",
       "   preventive_test_detected_infections_student  \\\n",
       "0                                            0   \n",
       "1                                            0   \n",
       "2                                            0   \n",
       "3                                            0   \n",
       "4                                            0   \n",
       "\n",
       "   preventive_test_detected_infections_teacher  \\\n",
       "0                                            0   \n",
       "1                                            0   \n",
       "2                                            0   \n",
       "3                                            0   \n",
       "4                                            0   \n",
       "\n",
       "   preventive_test_detected_infections_family_member  undetected_infections  \\\n",
       "0                                                  0                      0   \n",
       "1                                                  0                      0   \n",
       "2                                                  0                      0   \n",
       "3                                                  0                      0   \n",
       "4                                                  0                      0   \n",
       "\n",
       "   predetected_infections  pending_test_infections  \n",
       "0                       0                        0  \n",
       "1                       0                        0  \n",
       "2                       0                        0  \n",
       "3                       0                        0  \n",
       "4                       0                        0  \n",
       "\n",
       "[5 rows x 41 columns]"
      ]
     },
     "execution_count": 10,
     "metadata": {},
     "output_type": "execute_result"
    }
   ],
   "source": [
    "data = model.datacollector.get_model_vars_dataframe()\n",
    "data.head(5)"
   ]
  },
  {
   "cell_type": "code",
   "execution_count": null,
   "metadata": {},
   "outputs": [],
   "source": []
  }
 ],
 "metadata": {
  "kernelspec": {
   "display_name": "Python 3",
   "language": "python",
   "name": "python3"
  },
  "language_info": {
   "codemirror_mode": {
    "name": "ipython",
    "version": 3
   },
   "file_extension": ".py",
   "mimetype": "text/x-python",
   "name": "python",
   "nbconvert_exporter": "python",
   "pygments_lexer": "ipython3",
   "version": "3.8.5"
  }
 },
 "nbformat": 4,
 "nbformat_minor": 4
}
